{
 "cells": [
  {
   "cell_type": "markdown",
   "metadata": {},
   "source": [
    "## 第十二週：主題模型（英文）\n",
    "**Autor**: 張芳瑜 <br>\n",
    "**Date created**: 2021/09/27 <br>\n",
    "**Last modified**: 2021/10/21"
   ]
  },
  {
   "cell_type": "markdown",
   "metadata": {},
   "source": [
    "本週課程為 **主題模型** ，學習如何將文本進行主題模型分析。<br>\n",
    "文件主題模型採用非監督式學習的方式，不事先人為做標籤與註解，訓練的資料是從資料文本得來，讓我們可以規模化給予大量文本，而訓練出主題模型，其中最為知名為LDA模型，也是本次課程主要的教學目標，本 jupyter notebook 是以英文文本為示範<br>\n",
    "<br>\n",
    "這次課程分為四個部分：1.介紹使用到的套件 2.將資料進行前處理 3.建立LDA模型 4.視覺化主題模型"
   ]
  },
  {
   "cell_type": "markdown",
   "metadata": {},
   "source": [
    "\n",
    "## 大綱\n",
    "1. 套件說明\n",
    "1. 資料前處理\n",
    "    + 2.1 資料描述\n",
    "    + 2.2 NLTK 進行英文斷詞\n",
    "    + 2.3 清除停用字\n",
    "    + 2.4 字詞正規化\n",
    "1. LDA 主題模型\n",
    "    + 3.1 訓練LDA模型\n",
    "    + 3.2 查看 LDA 主題代表字\n",
    "    + 3.3 查看 LDA 模型指標\n",
    "    + 3.4 透過指標找出最佳主題數\n",
    "1. 視覺化呈現\n",
    "    + 4.1 產生 LDAvis 結果\n",
    "    + 4.2 查看 Document 主題時間上分佈"
   ]
  },
  {
   "cell_type": "markdown",
   "metadata": {},
   "source": [
    "## 1. 套件說明\n",
    "本次實作過程中使用到的相關套件，在課堂中我們將會簡單的展示這些套件的使用方式，關於各個套件的進階使用請同學參照其官網的說明。\n",
    "+ pandas:提供高效能、簡易使用的資料格式與資料處理的函數。\n",
    "+ nltk:英文斷詞套件\n",
    "+ re:正規化表達式套件\n",
    "+ matplotlib:繪圖工具\n",
    "+ gensim: 主題模型函式庫\n",
    "+ pyLDAvis: 互動式LDA視覺化套件"
   ]
  },
  {
   "cell_type": "code",
   "execution_count": 22,
   "metadata": {},
   "outputs": [],
   "source": [
    "import pandas as pd\n",
    "import nltk\n",
    "from nltk.corpus import stopwords\n",
    "import re\n",
    "import matplotlib\n",
    "import matplotlib.pyplot as plt\n",
    "import gensim\n",
    "from gensim import corpora\n",
    "from gensim.models import CoherenceModel\n",
    "import pyLDAvis.gensim_models\n",
    "import numpy as np\n"
   ]
  },
  {
   "cell_type": "code",
   "execution_count": 2,
   "metadata": {},
   "outputs": [],
   "source": [
    "# 設定圖的字體\n",
    "font = {'size':14}\n",
    "matplotlib.rc('font', **font)"
   ]
  },
  {
   "cell_type": "code",
   "execution_count": 3,
   "metadata": {},
   "outputs": [],
   "source": [
    "# 移除警告語\n",
    "import warnings\n",
    "warnings.filterwarnings(\"ignore\", category=DeprecationWarning)"
   ]
  },
  {
   "cell_type": "markdown",
   "metadata": {},
   "source": [
    "## 2. 資料前處理\n",
    "根據文字處理基本流程，我們需要將我們的資料進行資料前處理。\n",
    "+ 資料收集：通常我們使用網路爬蟲技術來取得資料（網路爬蟲非本課程之目的），因此在此範例中，我們使用中山管院文字分析平台，來收集文本資料。\n",
    "+ 資料清理：將文本內容轉為正規語句，例如：統一標點符號、去除特定標籤等等。\n",
    "+ 斷詞、斷句：使用工具區分文章中的句子、詞彙，以便於進行分析。\n",
    "+ 去除停用字：將與分析無關的詞彙去除，例如：語助詞、連接詞等等，來避免影響後續分析結果。"
   ]
  },
  {
   "cell_type": "markdown",
   "metadata": {},
   "source": [
    "**2.1 資料描述**\n",
    "+ 來源：Neural Information Processing System Comference上發表的論文集。\n",
    "+ 時間：2010年到2016年，隨機抽樣1000篇。\n",
    "+ 文集：收錄的論文\n",
    "\n",
    "NeurIPS研討會近年來因機器學習與人工智慧的蓬勃發展，越來越多投稿者與參與者，因此以此進行分析。"
   ]
  },
  {
   "cell_type": "code",
   "execution_count": 4,
   "metadata": {},
   "outputs": [],
   "source": [
    "# 匯入資料\n",
    "raw_data = pd.read_csv('./raw_data/papers.csv')\n",
    "# random_staste 隨機的狀態\n",
    "raw_data = raw_data[ raw_data['year'] >= 2014 ] #2707\n",
    "metadata = raw_data.sample(n=500, random_state=2021).reset_index(drop=True)"
   ]
  },
  {
   "cell_type": "markdown",
   "metadata": {},
   "source": [
    "**查看「發表的論文」在時間上的數量走勢** <br>\n",
    "+ 將資料中「year」(發表年份)groupby起來，並計算數量。\n",
    "+ 日期資料轉換為日期格式，之後圖示會幫助閱讀。"
   ]
  },
  {
   "cell_type": "code",
   "execution_count": 5,
   "metadata": {},
   "outputs": [],
   "source": [
    "year_count = pd.DataFrame({\n",
    "    'year': raw_data.groupby('year').size().index,\n",
    "    'count': raw_data.groupby('year').size().values\n",
    "})\n",
    "year_count = year_count.sort_values(by='year') # 排序"
   ]
  },
  {
   "cell_type": "markdown",
   "metadata": {},
   "source": [
    "+ 觀察折線圖，可以發現論文發表的數量有增加的趨勢，預估應該是近年來**機器學習**與**人工智慧**的興起。"
   ]
  },
  {
   "cell_type": "code",
   "execution_count": 6,
   "metadata": {},
   "outputs": [
    {
     "data": {
      "image/png": "[encoded data removed]",
      "text/plain": [
       "<Figure size 432x288 with 1 Axes>"
      ]
     },
     "metadata": {
      "needs_background": "light"
     },
     "output_type": "display_data"
    }
   ],
   "source": [
    "x_year = [2014, 2015, 2016]\n",
    "plt.plot(year_count['year'], year_count['count'])\n",
    "plt.title('每年論文發表篇數') # 標題\n",
    "plt.xlabel('年份') # x軸標題\n",
    "plt.ylabel('篇數') # y軸標題\n",
    "plt.ylim(0,600) # 刻度\n",
    "plt.xticks(x_year)\n",
    "plt.show()"
   ]
  },
  {
   "cell_type": "markdown",
   "metadata": {},
   "source": [
    "**2.2 NLTK 進行英文斷詞**"
   ]
  },
  {
   "cell_type": "code",
   "execution_count": 7,
   "metadata": {},
   "outputs": [],
   "source": [
    "# 只抓取論文標題、論文內文\n",
    "data = metadata[['title','paper_text']]"
   ]
  },
  {
   "cell_type": "code",
   "execution_count": 8,
   "metadata": {},
   "outputs": [
    {
     "data": {
      "text/html": [
       "<div>\n",
       "<style scoped>\n",
       "    .dataframe tbody tr th:only-of-type {\n",
       "        vertical-align: middle;\n",
       "    }\n",
       "\n",
       "    .dataframe tbody tr th {\n",
       "        vertical-align: top;\n",
       "    }\n",
       "\n",
       "    .dataframe thead th {\n",
       "        text-align: right;\n",
       "    }\n",
       "</style>\n",
       "<table border=\"1\" class=\"dataframe\">\n",
       "  <thead>\n",
       "    <tr style=\"text-align: right;\">\n",
       "      <th></th>\n",
       "      <th>title</th>\n",
       "      <th>paper_text</th>\n",
       "      <th>wordlist</th>\n",
       "    </tr>\n",
       "  </thead>\n",
       "  <tbody>\n",
       "    <tr>\n",
       "      <th>0</th>\n",
       "      <td>Bootstrap Model Aggregation for Distributed St...</td>\n",
       "      <td>Bootstrap Model Aggregation for Distributed\\nS...</td>\n",
       "      <td>[Bootstrap, Model, Aggregation, for, Distribut...</td>\n",
       "    </tr>\n",
       "    <tr>\n",
       "      <th>1</th>\n",
       "      <td>large scale canonical correlation analysis wit...</td>\n",
       "      <td>Large Scale Canonical Correlation Analysis wit...</td>\n",
       "      <td>[Large, Scale, Canonical, Correlation, Analysi...</td>\n",
       "    </tr>\n",
       "    <tr>\n",
       "      <th>2</th>\n",
       "      <td>Robust k-means: a Theoretical Revisit</td>\n",
       "      <td>Robust k-means: a Theoretical Revisit\\nAlexand...</td>\n",
       "      <td>[Robust, k-means, :, a, Theoretical, Revisit, ...</td>\n",
       "    </tr>\n",
       "  </tbody>\n",
       "</table>\n",
       "</div>"
      ],
      "text/plain": [
       "                                               title  \\\n",
       "0  Bootstrap Model Aggregation for Distributed St...   \n",
       "1  large scale canonical correlation analysis wit...   \n",
       "2              Robust k-means: a Theoretical Revisit   \n",
       "\n",
       "                                          paper_text  \\\n",
       "0  Bootstrap Model Aggregation for Distributed\\nS...   \n",
       "1  Large Scale Canonical Correlation Analysis wit...   \n",
       "2  Robust k-means: a Theoretical Revisit\\nAlexand...   \n",
       "\n",
       "                                            wordlist  \n",
       "0  [Bootstrap, Model, Aggregation, for, Distribut...  \n",
       "1  [Large, Scale, Canonical, Correlation, Analysi...  \n",
       "2  [Robust, k-means, :, a, Theoretical, Revisit, ...  "
      ]
     },
     "execution_count": 8,
     "metadata": {},
     "output_type": "execute_result"
    }
   ],
   "source": [
    "token_df = data.assign(wordlist = data['paper_text'].apply(nltk.word_tokenize))\n",
    "token_df.head(3)\n",
    "# 44s"
   ]
  },
  {
   "cell_type": "markdown",
   "metadata": {},
   "source": [
    "**2.3 清除停用字**\n",
    "\n",
    "為了提高準確度，我們會將停用字移除，例如：空格、標點符號、語助詞...等。<br>"
   ]
  },
  {
   "cell_type": "code",
   "execution_count": 9,
   "metadata": {},
   "outputs": [
    {
     "name": "stdout",
     "output_type": "stream",
     "text": [
      "將nltk的停用自存為list，並列出前10個停用字：\n",
      "['i', 'me', 'my', 'myself', 'we', 'our', 'ours', 'ourselves', 'you', \"you're\"]\n"
     ]
    }
   ],
   "source": [
    "# nltk.download('stopwords')\n",
    "\n",
    "# nltk的stop_words\n",
    "stop_words = []\n",
    "stop_words = stopwords.words('english') \n",
    "print(\"將nltk的停用自存為list，並列出前10個停用字：\")\n",
    "print(stop_words[:10])"
   ]
  },
  {
   "cell_type": "markdown",
   "metadata": {},
   "source": [
    "除了移除停用字，也可以設定其他條件。\n",
    "+ 用正規表達式移除標點符號\n",
    "+ 字的長度要大於一\n",
    "+ 將所有字轉為小寫\n",
    "+ 只選沒有在停用字點裡的字"
   ]
  },
  {
   "cell_type": "code",
   "execution_count": 10,
   "metadata": {},
   "outputs": [],
   "source": [
    "# remove function\n",
    "def remove(listt):\n",
    "    result = [re.sub(r'[^\\w\\s]|\\d|_', '', word) for word in listt] #移除標點符號\n",
    "    result = list(filter(lambda x : len(x)>1, result)) #避免只有單個英文字\n",
    "    result = [word.lower() for word in result] #將所有字轉為小寫\n",
    "    result = [word for word in result if not word in stop_words] #移除停用字\n",
    "    return result"
   ]
  },
  {
   "cell_type": "code",
   "execution_count": 11,
   "metadata": {},
   "outputs": [
    {
     "data": {
      "text/html": [
       "<div>\n",
       "<style scoped>\n",
       "    .dataframe tbody tr th:only-of-type {\n",
       "        vertical-align: middle;\n",
       "    }\n",
       "\n",
       "    .dataframe tbody tr th {\n",
       "        vertical-align: top;\n",
       "    }\n",
       "\n",
       "    .dataframe thead th {\n",
       "        text-align: right;\n",
       "    }\n",
       "</style>\n",
       "<table border=\"1\" class=\"dataframe\">\n",
       "  <thead>\n",
       "    <tr style=\"text-align: right;\">\n",
       "      <th></th>\n",
       "      <th>title</th>\n",
       "      <th>paper_text</th>\n",
       "      <th>wordlist</th>\n",
       "      <th>remove_stopwords</th>\n",
       "    </tr>\n",
       "  </thead>\n",
       "  <tbody>\n",
       "    <tr>\n",
       "      <th>0</th>\n",
       "      <td>Bootstrap Model Aggregation for Distributed St...</td>\n",
       "      <td>Bootstrap Model Aggregation for Distributed\\nS...</td>\n",
       "      <td>[Bootstrap, Model, Aggregation, for, Distribut...</td>\n",
       "      <td>[bootstrap, model, aggregation, distributed, s...</td>\n",
       "    </tr>\n",
       "    <tr>\n",
       "      <th>1</th>\n",
       "      <td>large scale canonical correlation analysis wit...</td>\n",
       "      <td>Large Scale Canonical Correlation Analysis wit...</td>\n",
       "      <td>[Large, Scale, Canonical, Correlation, Analysi...</td>\n",
       "      <td>[large, scale, canonical, correlation, analysi...</td>\n",
       "    </tr>\n",
       "    <tr>\n",
       "      <th>2</th>\n",
       "      <td>Robust k-means: a Theoretical Revisit</td>\n",
       "      <td>Robust k-means: a Theoretical Revisit\\nAlexand...</td>\n",
       "      <td>[Robust, k-means, :, a, Theoretical, Revisit, ...</td>\n",
       "      <td>[robust, kmeans, theoretical, revisit, alexand...</td>\n",
       "    </tr>\n",
       "  </tbody>\n",
       "</table>\n",
       "</div>"
      ],
      "text/plain": [
       "                                               title  \\\n",
       "0  Bootstrap Model Aggregation for Distributed St...   \n",
       "1  large scale canonical correlation analysis wit...   \n",
       "2              Robust k-means: a Theoretical Revisit   \n",
       "\n",
       "                                          paper_text  \\\n",
       "0  Bootstrap Model Aggregation for Distributed\\nS...   \n",
       "1  Large Scale Canonical Correlation Analysis wit...   \n",
       "2  Robust k-means: a Theoretical Revisit\\nAlexand...   \n",
       "\n",
       "                                            wordlist  \\\n",
       "0  [Bootstrap, Model, Aggregation, for, Distribut...   \n",
       "1  [Large, Scale, Canonical, Correlation, Analysi...   \n",
       "2  [Robust, k-means, :, a, Theoretical, Revisit, ...   \n",
       "\n",
       "                                    remove_stopwords  \n",
       "0  [bootstrap, model, aggregation, distributed, s...  \n",
       "1  [large, scale, canonical, correlation, analysi...  \n",
       "2  [robust, kmeans, theoretical, revisit, alexand...  "
      ]
     },
     "execution_count": 11,
     "metadata": {},
     "output_type": "execute_result"
    }
   ],
   "source": [
    "# 套用上面function\n",
    "token_df = token_df.assign( remove_stopwords = token_df['wordlist'].apply(remove))\n",
    "token_df.head(3)"
   ]
  },
  {
   "cell_type": "markdown",
   "metadata": {},
   "source": [
    "**2.4 字詞正規化**\n",
    "\n",
    "還原字根，通常會搭配Part-of-speech使用。我們同樣的使用NLTK來實作"
   ]
  },
  {
   "cell_type": "code",
   "execution_count": 12,
   "metadata": {},
   "outputs": [],
   "source": [
    "# 簡易lemma\n",
    "def lemma(remove_list):\n",
    "    lem = nltk.stem.WordNetLemmatizer()\n",
    "    lemma_text = []\n",
    "    for word in remove_list:\n",
    "        lemma = lem.lemmatize(word,'v')\n",
    "        if lemma == word:\n",
    "            lemma = lem.lemmatize(word,'n')\n",
    "            if lemma == word:\n",
    "                lemma = lem.lemmatize(word, 'a')\n",
    "                lemma_text.append(lemma)\n",
    "            else:\n",
    "                lemma_text.append(lemma)\n",
    "        else:\n",
    "            lemma_text.append(lemma)\n",
    "\n",
    "    return lemma_text"
   ]
  },
  {
   "cell_type": "code",
   "execution_count": 13,
   "metadata": {},
   "outputs": [
    {
     "data": {
      "text/html": [
       "<div>\n",
       "<style scoped>\n",
       "    .dataframe tbody tr th:only-of-type {\n",
       "        vertical-align: middle;\n",
       "    }\n",
       "\n",
       "    .dataframe tbody tr th {\n",
       "        vertical-align: top;\n",
       "    }\n",
       "\n",
       "    .dataframe thead th {\n",
       "        text-align: right;\n",
       "    }\n",
       "</style>\n",
       "<table border=\"1\" class=\"dataframe\">\n",
       "  <thead>\n",
       "    <tr style=\"text-align: right;\">\n",
       "      <th></th>\n",
       "      <th>title</th>\n",
       "      <th>paper_text</th>\n",
       "      <th>wordlist</th>\n",
       "      <th>remove_stopwords</th>\n",
       "      <th>lemma_result</th>\n",
       "    </tr>\n",
       "  </thead>\n",
       "  <tbody>\n",
       "    <tr>\n",
       "      <th>0</th>\n",
       "      <td>Bootstrap Model Aggregation for Distributed St...</td>\n",
       "      <td>Bootstrap Model Aggregation for Distributed\\nS...</td>\n",
       "      <td>[Bootstrap, Model, Aggregation, for, Distribut...</td>\n",
       "      <td>[bootstrap, model, aggregation, distributed, s...</td>\n",
       "      <td>[bootstrap, model, aggregation, distribute, st...</td>\n",
       "    </tr>\n",
       "    <tr>\n",
       "      <th>1</th>\n",
       "      <td>large scale canonical correlation analysis wit...</td>\n",
       "      <td>Large Scale Canonical Correlation Analysis wit...</td>\n",
       "      <td>[Large, Scale, Canonical, Correlation, Analysi...</td>\n",
       "      <td>[large, scale, canonical, correlation, analysi...</td>\n",
       "      <td>[large, scale, canonical, correlation, analysi...</td>\n",
       "    </tr>\n",
       "    <tr>\n",
       "      <th>2</th>\n",
       "      <td>Robust k-means: a Theoretical Revisit</td>\n",
       "      <td>Robust k-means: a Theoretical Revisit\\nAlexand...</td>\n",
       "      <td>[Robust, k-means, :, a, Theoretical, Revisit, ...</td>\n",
       "      <td>[robust, kmeans, theoretical, revisit, alexand...</td>\n",
       "      <td>[robust, kmeans, theoretical, revisit, alexand...</td>\n",
       "    </tr>\n",
       "  </tbody>\n",
       "</table>\n",
       "</div>"
      ],
      "text/plain": [
       "                                               title  \\\n",
       "0  Bootstrap Model Aggregation for Distributed St...   \n",
       "1  large scale canonical correlation analysis wit...   \n",
       "2              Robust k-means: a Theoretical Revisit   \n",
       "\n",
       "                                          paper_text  \\\n",
       "0  Bootstrap Model Aggregation for Distributed\\nS...   \n",
       "1  Large Scale Canonical Correlation Analysis wit...   \n",
       "2  Robust k-means: a Theoretical Revisit\\nAlexand...   \n",
       "\n",
       "                                            wordlist  \\\n",
       "0  [Bootstrap, Model, Aggregation, for, Distribut...   \n",
       "1  [Large, Scale, Canonical, Correlation, Analysi...   \n",
       "2  [Robust, k-means, :, a, Theoretical, Revisit, ...   \n",
       "\n",
       "                                    remove_stopwords  \\\n",
       "0  [bootstrap, model, aggregation, distributed, s...   \n",
       "1  [large, scale, canonical, correlation, analysi...   \n",
       "2  [robust, kmeans, theoretical, revisit, alexand...   \n",
       "\n",
       "                                        lemma_result  \n",
       "0  [bootstrap, model, aggregation, distribute, st...  \n",
       "1  [large, scale, canonical, correlation, analysi...  \n",
       "2  [robust, kmeans, theoretical, revisit, alexand...  "
      ]
     },
     "execution_count": 13,
     "metadata": {},
     "output_type": "execute_result"
    }
   ],
   "source": [
    "# 套用上面function\n",
    "token_df = token_df.assign( lemma_result = token_df['remove_stopwords'].apply(lemma))\n",
    "token_df.head(3)"
   ]
  },
  {
   "cell_type": "markdown",
   "metadata": {},
   "source": [
    "## 3. LDA 主題模型\n",
    "\n",
    "Latent Dirichlet allocation 簡稱 LDA，是一種主題模型，他可以將資料集中每篇文檔的主題按照機率分佈，他是無監督學習法，訓練時不需要手動標註，只需要給文黨集、主題數，也可以根據一些參數(alpha、Beta)來改變模型訓練的結果，以下使用 gensim 套件來示範如何訓練 LDA 模型。"
   ]
  },
  {
   "cell_type": "markdown",
   "metadata": {},
   "source": [
    "**3.1 訓練 LDA 模型**\n",
    "\n",
    "將文章斷詞結果儲存為 list 資料形態，一篇文章為一個 list ，其中 element 為詞彙。"
   ]
  },
  {
   "cell_type": "code",
   "execution_count": 14,
   "metadata": {},
   "outputs": [],
   "source": [
    "token_data = token_df['lemma_result'].tolist()"
   ]
  },
  {
   "cell_type": "code",
   "execution_count": 15,
   "metadata": {},
   "outputs": [
    {
     "name": "stdout",
     "output_type": "stream",
     "text": [
      "第 1 篇文章前10個字：\n",
      "bootstrap model aggregation distribute statistical learn jun han department computer \n",
      "\n",
      "第 2 篇文章前10個字：\n",
      "large scale canonical correlation analysis iterative least square yichao lu \n",
      "\n",
      "第 3 篇文章前10個字：\n",
      "robust kmeans theoretical revisit alexandros georgogiannis school electrical computer engineer \n",
      "\n"
     ]
    }
   ],
   "source": [
    "for i in range(0,3):\n",
    "    print(\"第 \" + str(i+1) + \" 篇文章前10個字：\")\n",
    "    for j in range(0,10):\n",
    "        print(token_data[i][j], end=' ')\n",
    "    print('\\n')"
   ]
  },
  {
   "cell_type": "markdown",
   "metadata": {},
   "source": [
    "id2word 將斷詞結果生成字典，裡頭為資料集裡出現的字。"
   ]
  },
  {
   "cell_type": "code",
   "execution_count": 16,
   "metadata": {},
   "outputs": [
    {
     "name": "stdout",
     "output_type": "stream",
     "text": [
      "資料集字典：\n",
      "Dictionary(42354 unique tokens: ['abstract', 'accord', 'accuracy', 'accurate', 'achieve']...)\n"
     ]
    }
   ],
   "source": [
    "id2word = corpora.Dictionary(token_data)\n",
    "print('資料集字典：')\n",
    "print(id2word)"
   ]
  },
  {
   "cell_type": "markdown",
   "metadata": {},
   "source": [
    "將斷詞結果建構語料庫(corpus)，利用語料庫把每篇文章數字化。<br>\n",
    "每篇文章、每個詞彙都被賦予一個 ID 及頻率(word_id，word_frequency)。<br>\n",
    "\n",
    "舉例來說：<br>\n",
    "第一篇文章數字化結果為：corpus[0]:[(0, 1), (1, 2), (2, 1), .... ]，element 為文章中每個詞彙的 id 和頻率。<br>\n",
    "代表'abstract'出現一次、'accord'出現兩次、'accuracy'出現一次...以此類推"
   ]
  },
  {
   "cell_type": "code",
   "execution_count": 17,
   "metadata": {},
   "outputs": [
    {
     "name": "stdout",
     "output_type": "stream",
     "text": [
      "第一篇文章 corpus :\n",
      "[(0, 1), (1, 2), (2, 1), (3, 4), (4, 9), (5, 1), (6, 1), (7, 1), (8, 1), (9, 1)]\n"
     ]
    }
   ],
   "source": [
    "# 將詞典轉換文檔列表（語料）變成 Document Term Matrix\n",
    "corpus = [id2word.doc2bow(text) for text in token_data]\n",
    "print('第一篇文章 corpus :')\n",
    "print(corpus[0][:10])"
   ]
  },
  {
   "cell_type": "markdown",
   "metadata": {},
   "source": [
    "參數說明：\n",
    "+ corpus = 文檔語料庫\n",
    "+ id2word = 詞彙字典\n",
    "+ num_topics = 生成幾個主題數\n",
    "+ random_state = 固定亂數值，每次的模型結果會一樣\n",
    "+ iteration = 每個文章訓練的次數，可以設定高一點讓模型收斂\n",
    "+ passes(epoch) = 整個 corpus 訓練模型的次數\n",
    "\n",
    "模型參數沒有一個絕對的答案，同學們應該**使用相同的資料**，嘗試做參數上的調整，進而比較出較佳的模型結果。\n",
    "因為論文會涵蓋的主題太廣，這邊以生成40個主題為例。"
   ]
  },
  {
   "cell_type": "code",
   "execution_count": 18,
   "metadata": {},
   "outputs": [],
   "source": [
    "#生成模型 \n",
    "ldamodel = gensim.models.ldamulticore.LdaMulticore(\n",
    "    corpus=corpus, \n",
    "    id2word=id2word, # 字典\n",
    "    num_topics=40, # 生成幾個主題數\n",
    "    random_state=2000, # 亂數\n",
    "    iterations = 1000,\n",
    "    passes=5, # 模型訓練次數\n",
    ")\n",
    "# 1分鐘內跑完"
   ]
  },
  {
   "cell_type": "markdown",
   "metadata": {},
   "source": [
    "**3.2 查看 LDA 主題代表字** <br>\n",
    "\n",
    "當 LDA 模型訓練好之後，我們可以查看每個主題的單詞分佈。<br>\n",
    "num_words = 選擇要查看每個主題前幾個字。<br>\n",
    "\n",
    "舉例來說：<br>\n",
    "(18, '0.023*\"asynchronous\" + 0.016*\"algorithm\" + 0.016*\"sg\"...)<br>\n",
    "-> 第十九個主題的詞彙分佈，0.023:asynchronous、0.016:algorithm、0.016:sg ...（全部詞彙加起來會等於一）"
   ]
  },
  {
   "cell_type": "code",
   "execution_count": 19,
   "metadata": {},
   "outputs": [
    {
     "name": "stdout",
     "output_type": "stream",
     "text": [
      "(18, '0.023*\"asynchronous\" + 0.016*\"algorithm\" + 0.016*\"sg\" + 0.016*\"et\" + 0.016*\"al\"')\n",
      "(24, '0.015*\"learn\" + 0.012*\"model\" + 0.009*\"task\" + 0.009*\"game\" + 0.007*\"set\"')\n",
      "(22, '0.010*\"information\" + 0.009*\"time\" + 0.008*\"process\" + 0.008*\"function\" + 0.007*\"market\"')\n"
     ]
    }
   ],
   "source": [
    "# 每個主題重要的前五個關鍵字\n",
    "topics = ldamodel.print_topics(num_words=5)\n",
    "for topic in topics[0:3]:\n",
    "    print(topic)"
   ]
  },
  {
   "cell_type": "markdown",
   "metadata": {},
   "source": [
    "我們可以根據每個主題的詞彙分佈來猜測，該主題可能是有關什麼樣的議題：\n",
    "+ 主題十九：非同步演算法的相關模型\n",
    "+ 主題二十五：模型學習任務化(task)相關\n",
    "+ 主題二十三：有關 function 進行時間相關"
   ]
  },
  {
   "cell_type": "markdown",
   "metadata": {},
   "source": [
    "**3.3 查看 LDA 模型指標**\n",
    "+ **Pairwise Pointwise Mutual Information** : <br>\n",
    "自然語言處理中，想要探討兩個字之間是否存在某種關係。<br>\n",
    "例如：某些字會一起出現，可能帶有某些訊息，因此這個可以用 PMI 來計算，數字越大越好。\n",
    "+ **perplexity** :<br>\n",
    "perplexity 也是評估的指標之一，廣泛用於語言模型的評估，\b意思為複雜度，因此數字要越小越好。"
   ]
  },
  {
   "cell_type": "code",
   "execution_count": 20,
   "metadata": {},
   "outputs": [
    {
     "name": "stdout",
     "output_type": "stream",
     "text": [
      "PMI score:  -0.15748635028525082\n"
     ]
    }
   ],
   "source": [
    "PMI_model_lda = CoherenceModel(model=ldamodel, texts=token_data, coherence='c_uci')\n",
    "PMI_lda = PMI_model_lda.get_coherence()\n",
    "print('PMI score: ', PMI_lda)"
   ]
  },
  {
   "cell_type": "code",
   "execution_count": 21,
   "metadata": {},
   "outputs": [
    {
     "name": "stdout",
     "output_type": "stream",
     "text": [
      "Perplexity Score:  -7.839176959430319\n"
     ]
    }
   ],
   "source": [
    "perplexity = ldamodel.log_perplexity(corpus)\n",
    "print('Perplexity Score: ', perplexity)"
   ]
  },
  {
   "cell_type": "markdown",
   "metadata": {},
   "source": [
    "**3.4 透過指標找出最佳主題數**\n",
    "\n",
    "透過建立不同主題數的模型，並以上述所說的**判斷指標**來找出最佳的主題數。<br>\n",
    "這裡以 perplexity 為指標，因為gensim套件的問題，我們將其進行轉換。<br>\n",
    "而因為論文主題本身涵蓋的範圍很廣，因此我們取主題數 40 當作範例來分析\n",
    "\n",
    "**再次強調**：主題數及參數沒有一個絕對正確的答案，同學們應該**使用相同的資料**，嘗試做參數上的調整、主題數的調整，進而比較出較佳的模型結果。"
   ]
  },
  {
   "cell_type": "code",
   "execution_count": 23,
   "metadata": {},
   "outputs": [],
   "source": [
    "# 這段code會跑很久，同學們可以直接看下面的示意圖即可。\n",
    "\n",
    "topic_num_list = [5,10,15,20,25,30,35,40,45,50]\n",
    "result = []\n",
    "for topic_num in topic_num_list:\n",
    "    # perplexity\n",
    "    tmp_ldamodel = gensim.models.ldamulticore.LdaMulticore(\n",
    "        corpus = corpus,\n",
    "        num_topics = topic_num,\n",
    "        id2word=id2word,\n",
    "        random_state = 2021,\n",
    "        passes=5,\n",
    "        iterations=1000\n",
    "    )\n",
    "    tmp_perplexity = tmp_ldamodel.log_perplexity(corpus)\n",
    "    temp_skleran = np.exp(-1. * tmp_perplexity)\n",
    "    \n",
    "    result.append({\"topic_num\": topic_num, \"perplexity\": tmp_perplexity, \"sklearn_perplexity\":temp_skleran})\n"
   ]
  },
  {
   "cell_type": "code",
   "execution_count": 24,
   "metadata": {},
   "outputs": [
    {
     "data": {
      "text/plain": [
       "<AxesSubplot:xlabel='topic_num'>"
      ]
     },
     "execution_count": 24,
     "metadata": {},
     "output_type": "execute_result"
    },
    {
     "data": {
      "image/png": "[encoded data removed]",
      "text/plain": [
       "<Figure size 432x288 with 1 Axes>"
      ]
     },
     "metadata": {
      "needs_background": "light"
     },
     "output_type": "display_data"
    }
   ],
   "source": [
    "result = pd.DataFrame(result)\n",
    "result.plot.line(x='topic_num', y='perplexity', label='perplexity')"
   ]
  },
  {
   "cell_type": "code",
   "execution_count": 25,
   "metadata": {},
   "outputs": [
    {
     "data": {
      "text/plain": [
       "<AxesSubplot:xlabel='topic_num'>"
      ]
     },
     "execution_count": 25,
     "metadata": {},
     "output_type": "execute_result"
    },
    {
     "data": {
      "image/png": "[encoded data removed]",
      "text/plain": [
       "<Figure size 432x288 with 1 Axes>"
      ]
     },
     "metadata": {
      "needs_background": "light"
     },
     "output_type": "display_data"
    }
   ],
   "source": [
    "sklearn_plot = pd.DataFrame(result)\n",
    "sklearn_plot.plot.line(x='topic_num', y='sklearn_perplexity', label='perplexity')"
   ]
  },
  {
   "cell_type": "markdown",
   "metadata": {},
   "source": [
    "## 4. 視覺化呈現\n",
    "\n",
    "**4.1 產生 LDAvis 結果**\n",
    "\n",
    "LDAvis 是我們經常會使用的視覺化工具，目的為幫助我們解釋主題模型中，在我們建構好主題模型得到 θ(文件的主題分佈) 跟 φ(主題的字分佈)，透過 pyLDAvis 將主題降維成二維，以網頁的形式供我們查看。\n",
    "\n",
    "+ 六個主題數，因此有六個圈圈\n",
    "+ 圓越大代表 document 越大\n",
    "+ 右邊可以看到主題的字分佈\n",
    "+ 右上幫有一個 bar 調整 lambda：當 lambda=1 也就是代表本來的字分佈 φ，將 lambda 縮越小可以看到越唯一的字，好的分佈是 φ 高且唯一，因此我們要在這兩者間取平衡\n",
    "+ 圓心越相近，代表主題會越相似；反之，圓心分越開代表主題有唯一性<br>\n",
    "  --> 假設詞彙本來有 100 字，維度應該是 100，假如本來維度接近(相近)的話，降維後也會接近(相近)\n",
    "\n",
    "以下用主題數 6 來做 LDAvis 的結果範例，較方便解釋"
   ]
  },
  {
   "cell_type": "code",
   "execution_count": 26,
   "metadata": {},
   "outputs": [],
   "source": [
    "#生成模型 \n",
    "ldamodel2 = gensim.models.ldamulticore.LdaMulticore(\n",
    "    corpus=corpus, \n",
    "    id2word=id2word, # 字典\n",
    "    num_topics=6, # 生成幾個主題數\n",
    "    random_state=2000, # 亂數\n",
    "    iterations = 1000,\n",
    "    passes=5, # 模型訓練次數\n",
    ")\n",
    "# 1分鐘內跑完"
   ]
  },
  {
   "cell_type": "code",
   "execution_count": 27,
   "metadata": {},
   "outputs": [
    {
     "name": "stderr",
     "output_type": "stream",
     "text": [
      "/Users/changfangyu/opt/anaconda3/envs/fanny_nltk/lib/python3.9/site-packages/pyLDAvis/_prepare.py:246: FutureWarning: In a future version of pandas all arguments of DataFrame.drop except for the argument 'labels' will be keyword-only\n",
      "  default_term_info = default_term_info.sort_values(\n"
     ]
    }
   ],
   "source": [
    "ldaVis = pyLDAvis.gensim_models.prepare(ldamodel2, corpus, dictionary=ldamodel.id2word)\n",
    "pyLDAvis.save_html(ldaVis,'./lda_result/ldaVis_en.html')"
   ]
  },
  {
   "cell_type": "markdown",
   "metadata": {},
   "source": [
    "**4.2 查看 Document 主題時間上分佈**\n",
    "\n",
    "使用模型分析我們的資料，取得每篇論文的主題分佈，選最大的設為此文章的主題。<br>\n",
    "再根據時間來做分析，了解不同的時間點討論的主題大多為什麽，以比例的方式呈現。"
   ]
  },
  {
   "cell_type": "code",
   "execution_count": 28,
   "metadata": {},
   "outputs": [],
   "source": [
    "# 取得每篇論文的主題分佈\n",
    "topics_doc = ldamodel2.get_document_topics(corpus)  \n",
    "\n",
    "# 將結果列成list\n",
    "doc_list = []\n",
    "\n",
    "# topics_doc[i] 為第一個文章\n",
    "for i in range(0,len(topics_doc)):\n",
    "\n",
    "    # 都先假定第一個主題為最大的\n",
    "    max_freq = topics_doc[i][0][1]\n",
    "    max_topic = topics_doc[i][0][0]\n",
    "\n",
    "    # 後面假如有比較大的就取代\n",
    "    for j in topics_doc[i]:\n",
    "        if(j[1] > max_freq):\n",
    "            max_freq = j[1]\n",
    "            max_topic = j[0]\n",
    "\n",
    "    # print(max_topic)\n",
    "    # print(max_freq)\n",
    "    doc_list.append(max_topic)"
   ]
  },
  {
   "cell_type": "code",
   "execution_count": 29,
   "metadata": {},
   "outputs": [],
   "source": [
    "# 將結果放進 DataFrame裏\n",
    "metadata['topic'] = doc_list"
   ]
  },
  {
   "cell_type": "code",
   "execution_count": 30,
   "metadata": {},
   "outputs": [],
   "source": [
    "# groupby 日期、主題並計算文章篇數\n",
    "date_topic = pd.DataFrame({\n",
    "    'count':metadata.groupby(['year','topic']).size()\n",
    "})\n",
    "\n",
    "date_topic = date_topic.reset_index()"
   ]
  },
  {
   "cell_type": "code",
   "execution_count": 31,
   "metadata": {},
   "outputs": [
    {
     "data": {
      "text/html": [
       "<div>\n",
       "<style scoped>\n",
       "    .dataframe tbody tr th:only-of-type {\n",
       "        vertical-align: middle;\n",
       "    }\n",
       "\n",
       "    .dataframe tbody tr th {\n",
       "        vertical-align: top;\n",
       "    }\n",
       "\n",
       "    .dataframe thead th {\n",
       "        text-align: right;\n",
       "    }\n",
       "</style>\n",
       "<table border=\"1\" class=\"dataframe\">\n",
       "  <thead>\n",
       "    <tr style=\"text-align: right;\">\n",
       "      <th></th>\n",
       "      <th>topic0</th>\n",
       "      <th>topic1</th>\n",
       "      <th>topic2</th>\n",
       "      <th>topic3</th>\n",
       "      <th>topic4</th>\n",
       "      <th>topic5</th>\n",
       "    </tr>\n",
       "    <tr>\n",
       "      <th>year</th>\n",
       "      <th></th>\n",
       "      <th></th>\n",
       "      <th></th>\n",
       "      <th></th>\n",
       "      <th></th>\n",
       "      <th></th>\n",
       "    </tr>\n",
       "  </thead>\n",
       "  <tbody>\n",
       "    <tr>\n",
       "      <th>2014</th>\n",
       "      <td>22</td>\n",
       "      <td>29</td>\n",
       "      <td>32</td>\n",
       "      <td>28</td>\n",
       "      <td>30</td>\n",
       "      <td>13</td>\n",
       "    </tr>\n",
       "    <tr>\n",
       "      <th>2015</th>\n",
       "      <td>27</td>\n",
       "      <td>23</td>\n",
       "      <td>26</td>\n",
       "      <td>21</td>\n",
       "      <td>32</td>\n",
       "      <td>19</td>\n",
       "    </tr>\n",
       "    <tr>\n",
       "      <th>2016</th>\n",
       "      <td>23</td>\n",
       "      <td>42</td>\n",
       "      <td>34</td>\n",
       "      <td>39</td>\n",
       "      <td>43</td>\n",
       "      <td>17</td>\n",
       "    </tr>\n",
       "  </tbody>\n",
       "</table>\n",
       "</div>"
      ],
      "text/plain": [
       "      topic0  topic1  topic2  topic3  topic4  topic5\n",
       "year                                                \n",
       "2014      22      29      32      28      30      13\n",
       "2015      27      23      26      21      32      19\n",
       "2016      23      42      34      39      43      17"
      ]
     },
     "execution_count": 31,
     "metadata": {},
     "output_type": "execute_result"
    }
   ],
   "source": [
    "date_df = date_topic.pivot_table(index='year', values='count', columns='topic').fillna(0).reset_index()\n",
    "date_df.columns = ['year', 'topic0', 'topic1', 'topic2', 'topic3', 'topic4', 'topic5']\n",
    "date_df = date_df.set_index('year')\n",
    "date_df"
   ]
  },
  {
   "cell_type": "markdown",
   "metadata": {},
   "source": [
    "可以看到在不同時間點，特定主題談論篇幅的多寡"
   ]
  },
  {
   "cell_type": "code",
   "execution_count": 32,
   "metadata": {},
   "outputs": [
    {
     "data": {
      "image/png": "[encoded data removed]",
      "text/plain": [
       "<Figure size 432x288 with 1 Axes>"
      ]
     },
     "metadata": {
      "needs_background": "light"
     },
     "output_type": "display_data"
    }
   ],
   "source": [
    "color = [\"#9FA8B9\", \"#D8CAAF\", \"#B7C2B8\", \"#EAD0D5\", \"#A37D81\", \"#C8BFD4\"]\n",
    "column = ['topic0', 'topic1', 'topic2', 'topic3', 'topic4', 'topic5']\n",
    "temp_bottom = 0\n",
    "\n",
    "for i in range(0,6):\n",
    "    if(i>0):\n",
    "        pass\n",
    "        temp_bottom = temp_bottom + date_df[column[i-1]]\n",
    "        plt.bar(date_df.index, date_df[column[i]] ,color=color[i], bottom=temp_bottom ,label=column[i] , width=0.5)\n",
    "    else: # 主題一 bottom 為 0\n",
    "        plt.bar(date_df.index, date_df[column[i]] ,color=color[i], label=column[i] , width=0.5)\n",
    "        \n",
    "plt.title('每年論文篇數') # 標題\n",
    "plt.xticks(x_year)\n",
    "plt.xlabel('年份') # x軸標題\n",
    "plt.ylabel('篇數') # y軸標題\n",
    "plt.xticks(rotation=30)\n",
    "plt.legend(bbox_to_anchor=(1,1), loc='upper left') #標示的位置\n",
    "plt.show()"
   ]
  },
  {
   "cell_type": "markdown",
   "metadata": {},
   "source": [
    "我們也可以將它轉換為比例來看"
   ]
  },
  {
   "cell_type": "code",
   "execution_count": 33,
   "metadata": {},
   "outputs": [
    {
     "data": {
      "text/html": [
       "<div>\n",
       "<style scoped>\n",
       "    .dataframe tbody tr th:only-of-type {\n",
       "        vertical-align: middle;\n",
       "    }\n",
       "\n",
       "    .dataframe tbody tr th {\n",
       "        vertical-align: top;\n",
       "    }\n",
       "\n",
       "    .dataframe thead th {\n",
       "        text-align: right;\n",
       "    }\n",
       "</style>\n",
       "<table border=\"1\" class=\"dataframe\">\n",
       "  <thead>\n",
       "    <tr style=\"text-align: right;\">\n",
       "      <th></th>\n",
       "      <th>topic0</th>\n",
       "      <th>topic1</th>\n",
       "      <th>topic2</th>\n",
       "      <th>topic3</th>\n",
       "      <th>topic4</th>\n",
       "      <th>topic5</th>\n",
       "      <th>sum</th>\n",
       "    </tr>\n",
       "    <tr>\n",
       "      <th>year</th>\n",
       "      <th></th>\n",
       "      <th></th>\n",
       "      <th></th>\n",
       "      <th></th>\n",
       "      <th></th>\n",
       "      <th></th>\n",
       "      <th></th>\n",
       "    </tr>\n",
       "  </thead>\n",
       "  <tbody>\n",
       "    <tr>\n",
       "      <th>2014</th>\n",
       "      <td>0.142857</td>\n",
       "      <td>0.188312</td>\n",
       "      <td>0.207792</td>\n",
       "      <td>0.181818</td>\n",
       "      <td>0.194805</td>\n",
       "      <td>0.084416</td>\n",
       "      <td>154</td>\n",
       "    </tr>\n",
       "    <tr>\n",
       "      <th>2015</th>\n",
       "      <td>0.182432</td>\n",
       "      <td>0.155405</td>\n",
       "      <td>0.175676</td>\n",
       "      <td>0.141892</td>\n",
       "      <td>0.216216</td>\n",
       "      <td>0.128378</td>\n",
       "      <td>148</td>\n",
       "    </tr>\n",
       "    <tr>\n",
       "      <th>2016</th>\n",
       "      <td>0.116162</td>\n",
       "      <td>0.212121</td>\n",
       "      <td>0.171717</td>\n",
       "      <td>0.196970</td>\n",
       "      <td>0.217172</td>\n",
       "      <td>0.085859</td>\n",
       "      <td>198</td>\n",
       "    </tr>\n",
       "  </tbody>\n",
       "</table>\n",
       "</div>"
      ],
      "text/plain": [
       "        topic0    topic1    topic2    topic3    topic4    topic5  sum\n",
       "year                                                                 \n",
       "2014  0.142857  0.188312  0.207792  0.181818  0.194805  0.084416  154\n",
       "2015  0.182432  0.155405  0.175676  0.141892  0.216216  0.128378  148\n",
       "2016  0.116162  0.212121  0.171717  0.196970  0.217172  0.085859  198"
      ]
     },
     "execution_count": 33,
     "metadata": {},
     "output_type": "execute_result"
    }
   ],
   "source": [
    "ratio_df = date_df.copy()\n",
    "ratio_df['sum'] = ratio_df.topic0 + ratio_df.topic1 + ratio_df.topic2 + ratio_df.topic3 + ratio_df.topic4 + ratio_df.topic5  \n",
    "\n",
    "for i in range(0,6):\n",
    "    ratio_df['topic'+str(i)] = ratio_df['topic'+str(i)] / ratio_df['sum']\n",
    "\n",
    "ratio_df"
   ]
  },
  {
   "cell_type": "code",
   "execution_count": 34,
   "metadata": {},
   "outputs": [
    {
     "data": {
      "image/png": "[encoded data removed]",
      "text/plain": [
       "<Figure size 432x288 with 1 Axes>"
      ]
     },
     "metadata": {
      "needs_background": "light"
     },
     "output_type": "display_data"
    }
   ],
   "source": [
    "temp_bottom = 0\n",
    "\n",
    "for i in range(0,6):\n",
    "    if(i>0):\n",
    "        temp_bottom = temp_bottom + ratio_df[column[i-1]]\n",
    "        plt.bar(ratio_df.index, ratio_df[column[i]] ,color=color[i], bottom=temp_bottom ,label=column[i], width=0.5)\n",
    "    else: # 主題一 bottom 為 0\n",
    "        plt.bar(ratio_df.index, ratio_df[column[i]] ,color=color[i], label=column[i], width=0.5)\n",
    "\n",
    "plt.title('每年論文篇數') # 標題\n",
    "plt.xticks(x_year)\n",
    "plt.xlabel('年份') # x軸標題\n",
    "plt.ylabel('篇數') # y軸標題\n",
    "plt.xticks(rotation=30)\n",
    "plt.legend(bbox_to_anchor=(1,1), loc='upper left') #標示的位置\n",
    "plt.show()"
   ]
  },
  {
   "cell_type": "markdown",
   "metadata": {},
   "source": [
    "可以根據上面的圖表推估主題在時間上的變化，但此範例只抓了三個年份，變化上沒有很顯著的改變。"
   ]
  },
  {
   "cell_type": "markdown",
   "metadata": {},
   "source": [
    "除此之外，我們也可以隨機看一下不同主題大概在談論什麼，是否符合預測。"
   ]
  },
  {
   "cell_type": "code",
   "execution_count": 35,
   "metadata": {},
   "outputs": [
    {
     "data": {
      "text/html": [
       "<div>\n",
       "<style scoped>\n",
       "    .dataframe tbody tr th:only-of-type {\n",
       "        vertical-align: middle;\n",
       "    }\n",
       "\n",
       "    .dataframe tbody tr th {\n",
       "        vertical-align: top;\n",
       "    }\n",
       "\n",
       "    .dataframe thead th {\n",
       "        text-align: right;\n",
       "    }\n",
       "</style>\n",
       "<table border=\"1\" class=\"dataframe\">\n",
       "  <thead>\n",
       "    <tr style=\"text-align: right;\">\n",
       "      <th></th>\n",
       "      <th>id</th>\n",
       "      <th>year</th>\n",
       "      <th>title</th>\n",
       "      <th>event_type</th>\n",
       "      <th>pdf_name</th>\n",
       "      <th>abstract</th>\n",
       "      <th>paper_text</th>\n",
       "      <th>topic</th>\n",
       "    </tr>\n",
       "  </thead>\n",
       "  <tbody>\n",
       "    <tr>\n",
       "      <th>322</th>\n",
       "      <td>6031</td>\n",
       "      <td>2015</td>\n",
       "      <td>Asynchronous stochastic convex optimization: t...</td>\n",
       "      <td>Poster</td>\n",
       "      <td>6031-asynchronous-stochastic-convex-optimizati...</td>\n",
       "      <td>We show that asymptotically, completely asynch...</td>\n",
       "      <td>Asynchronous stochastic convex optimization:\\n...</td>\n",
       "      <td>0</td>\n",
       "    </tr>\n",
       "    <tr>\n",
       "      <th>28</th>\n",
       "      <td>5464</td>\n",
       "      <td>2014</td>\n",
       "      <td>Bayesian Inference for Structured Spike and Sl...</td>\n",
       "      <td>Poster</td>\n",
       "      <td>5464-bayesian-inference-for-structured-spike-a...</td>\n",
       "      <td>Sparse signal recovery addresses the problem o...</td>\n",
       "      <td>Bayesian Inference for Structured Spike and\\nS...</td>\n",
       "      <td>0</td>\n",
       "    </tr>\n",
       "    <tr>\n",
       "      <th>336</th>\n",
       "      <td>5899</td>\n",
       "      <td>2015</td>\n",
       "      <td>Gradient Estimation Using Stochastic Computati...</td>\n",
       "      <td>Poster</td>\n",
       "      <td>5899-gradient-estimation-using-stochastic-comp...</td>\n",
       "      <td>In a variety of problems originating in superv...</td>\n",
       "      <td>Gradient Estimation Using\\nStochastic Computat...</td>\n",
       "      <td>0</td>\n",
       "    </tr>\n",
       "  </tbody>\n",
       "</table>\n",
       "</div>"
      ],
      "text/plain": [
       "       id  year                                              title event_type  \\\n",
       "322  6031  2015  Asynchronous stochastic convex optimization: t...     Poster   \n",
       "28   5464  2014  Bayesian Inference for Structured Spike and Sl...     Poster   \n",
       "336  5899  2015  Gradient Estimation Using Stochastic Computati...     Poster   \n",
       "\n",
       "                                              pdf_name  \\\n",
       "322  6031-asynchronous-stochastic-convex-optimizati...   \n",
       "28   5464-bayesian-inference-for-structured-spike-a...   \n",
       "336  5899-gradient-estimation-using-stochastic-comp...   \n",
       "\n",
       "                                              abstract  \\\n",
       "322  We show that asymptotically, completely asynch...   \n",
       "28   Sparse signal recovery addresses the problem o...   \n",
       "336  In a variety of problems originating in superv...   \n",
       "\n",
       "                                            paper_text  topic  \n",
       "322  Asynchronous stochastic convex optimization:\\n...      0  \n",
       "28   Bayesian Inference for Structured Spike and\\nS...      0  \n",
       "336  Gradient Estimation Using\\nStochastic Computat...      0  "
      ]
     },
     "execution_count": 35,
     "metadata": {},
     "output_type": "execute_result"
    }
   ],
   "source": [
    "## 主題一\n",
    "metadata[metadata['topic'] == 0].sample(n=3)"
   ]
  }
 ],
 "metadata": {
  "interpreter": {
   "hash": "f36cbec76e422c1f6112a217b985f30581bc804a6bc3b4789cd6b91d75a5df22"
  },
  "kernelspec": {
   "display_name": "Python 3.9.6 64-bit ('fanny_nltk': conda)",
   "name": "python3"
  },
  "language_info": {
   "codemirror_mode": {
    "name": "ipython",
    "version": 3
   },
   "file_extension": ".py",
   "mimetype": "text/x-python",
   "name": "python",
   "nbconvert_exporter": "python",
   "pygments_lexer": "ipython3",
   "version": "3.9.6"
  }
 },
 "nbformat": 4,
 "nbformat_minor": 2
}
