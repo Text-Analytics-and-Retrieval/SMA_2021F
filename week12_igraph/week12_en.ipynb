{
  "cells": [
    {
      "cell_type": "markdown",
      "metadata": {
        "id": "7WNw5yPO8Wzw"
      },
      "source": [
        "## 第十三週：基本圖學\n",
        "**Autor**: 張芳瑜 <br>\n",
        "**Date created**: 2021/11/30 <br>\n",
        "**Last modified**: 2021/12/5"
      ]
    },
    {
      "cell_type": "markdown",
      "metadata": {
        "id": "jSZIFLIE8Z5Z"
      },
      "source": [
        "本週課程為 **基本圖學** ，主要會介紹圖的定義、性質，以及如何用套件呈現網絡圖。<br>\n",
        "網絡圖有許多可以應用的情境，許多牽扯到「關聯」、「關係」都可以使用圖的方式來表達，像是：社交網路平台的好友關係、動物演生的關係、文章提到人物的關係...等。<br>\n",
        "而本 jupyter notebook 介紹基本 Pyvis & networkx 的使用\n",
        "<br>\n",
        "<br>\n",
        "這次課程分為四個部分：1.介紹使用到的套件 2.建立基本圖 3.Specific graphs and graph models 4.應用在dataframe"
      ]
    },
    {
      "cell_type": "markdown",
      "metadata": {
        "id": "7gOPhFad8nF5"
      },
      "source": [
        "\n",
        "## 大綱\n",
        "1. 套件說明\n",
        "1. 建立基本圖\n",
        "    + 2.1 點的設定\n",
        "    + 2.2 邊的設定\n",
        "    + 2.3 有向圖\n",
        "    + 2.4 取得network資訊\n",
        "1. Specific graphs and graph models\n",
        "    + 3.1 Empty graph\n",
        "    + 3.2 Complete graph\n",
        "    + 3.3 Star graph\n",
        "    + 3.4 Tree graph\n",
        "    + 3.5 Ring graph\n",
        "1. 應用在dataframe\n",
        "    + 4.1 Dataset：edgelist\n",
        "    + 4.2 Dataset：matrix"
      ]
    },
    {
      "cell_type": "markdown",
      "metadata": {
        "id": "3X94me418rKu"
      },
      "source": [
        "## 1. 套件說明\n",
        "本次實作過程中使用到的相關套件，在課堂中我們將會簡單的展示這些套件的使用方式，關於各個套件的進階使用請同學參照其官網的說明。\n",
        "+ pandas:提供高效能、簡易使用的資料格式與資料處理的函數。\n",
        "+ IPython:互動式開發環境\n",
        "+ numpy: 數據結構套件\n",
        "+ pyvis:關係網路圖套件\n",
        "+ networkx:網路圖套件\n",
        "+ matplotlib:視覺化套件"
      ]
    },
    {
      "cell_type": "code",
      "execution_count": 2,
      "metadata": {
        "id": "L9_DhMYF6nTk"
      },
      "outputs": [],
      "source": [
        "# !pip install pyvis"
      ]
    },
    {
      "cell_type": "code",
      "execution_count": 2,
      "metadata": {
        "id": "f1KdhB0N7yaf"
      },
      "outputs": [],
      "source": [
        "import pandas as pd\n",
        "import IPython\n",
        "import numpy as np\n",
        "from pyvis.network import Network\n",
        "import networkx as nx\n",
        "import matplotlib.pyplot as plt"
      ]
    },
    {
      "cell_type": "markdown",
      "metadata": {
        "id": "4cZBA-Ze8vbx"
      },
      "source": [
        "## 2. 建立基本圖\n",
        "**2.1 點的設定**\n",
        "+ nodes：賦予 node 名稱，可以為list、string\n",
        "+ value：用來調整 node 的大小\n",
        "+ title：移到 node 上會顯示的名字\n",
        "+ x & y：用來固定 node 的位置\n",
        "+ label：node 顯示在圖上的名稱\n",
        "+ color：用來調整 node 的顏色"
      ]
    },
    {
      "cell_type": "code",
      "execution_count": 4,
      "metadata": {
        "colab": {
          "base_uri": "https://localhost:8080/",
          "height": 538
        },
        "id": "RD-1RoFU73zu",
        "outputId": "3f345fe2-e67b-4cbf-a613-04c732002139"
      },
      "outputs": [],
      "source": [
        "net = Network()\n",
        "\n",
        "net.add_nodes(nodes = [\"a\", \"b\", \"c\"], # node ids and labels = [\"a\", \"b\", \"c\"]\n",
        "                value=[10, 10, 10], # 可以調node大小\"\n",
        "                title=['node a here', 'node b here', 'node c here'], #移上去顯示\n",
        "                x=[40, 0, 80], #固定座標\n",
        "                y=[90, 0, 0],\n",
        "                label=['NODE a', 'NODE b', 'NODE c'], \n",
        "                color=['#98A28E', '#C8C0D4', '#955455'])\n",
        "net.show('./html/node.html')\n",
        "# colab可以解開直接看\n",
        "# IPython.display.HTML('./html/node.html')"
      ]
    },
    {
      "cell_type": "markdown",
      "metadata": {
        "id": "81_C8HQd9-Xt"
      },
      "source": [
        "**2.2 邊的設定**\n",
        "+ add_edge：a跟b有連線，則表示為(a,b)\n",
        "+ add_edges：一次建很多連線，list裡面包tuple"
      ]
    },
    {
      "cell_type": "code",
      "execution_count": 5,
      "metadata": {
        "colab": {
          "base_uri": "https://localhost:8080/",
          "height": 538
        },
        "id": "H7Q9xSZn8Kn_",
        "outputId": "b322b43c-3115-44e8-f908-9ad0229ca91d"
      },
      "outputs": [],
      "source": [
        "net = Network()\n",
        "net.add_nodes(\"123\") # node ids and labels =  [\"1\", \"2\", \"3\"]\n",
        "net.add_edge(1,2)\n",
        "net.add_edge(2,3)\n",
        "net.add_edge(3,1)\n",
        "net.show('./html/node.html')\n",
        "# colab可以解開直接看\n",
        "# IPython.display.HTML('./html/node.html')"
      ]
    },
    {
      "cell_type": "code",
      "execution_count": 6,
      "metadata": {
        "colab": {
          "base_uri": "https://localhost:8080/",
          "height": 538
        },
        "id": "i5Db2iMp9Y-U",
        "outputId": "eef51eb4-c59f-4b8b-df7e-be8d0dd9f36f"
      },
      "outputs": [],
      "source": [
        "net = Network()\n",
        "nodes_list = list(range(1,11))\n",
        "string_node = list(map(lambda x: str(x), nodes_list))\n",
        "net.add_nodes(string_node)\n",
        "net.add_edges([(1,2),(2,3),(1,3)])\n",
        "net.show('./html/node.html')\n",
        "# colab可以解開直接看\n",
        "# IPython.display.HTML('./html/node.html')"
      ]
    },
    {
      "cell_type": "markdown",
      "metadata": {
        "id": "NF0OyppY-dnd"
      },
      "source": [
        "**2.3 有向圖**\n",
        "+ Network 在預設上 directed=False\n",
        "+ 要設定有向圖要將其 directed=True\n",
        "+ add_edge：方向會有差(從哪個點source, 到哪個點to)，一樣可以使用add_edges"
      ]
    },
    {
      "cell_type": "code",
      "execution_count": 8,
      "metadata": {
        "colab": {
          "base_uri": "https://localhost:8080/",
          "height": 538
        },
        "id": "BOnmE62-AQDJ",
        "outputId": "027fb328-1777-4812-8fb4-66c15c1d7e61"
      },
      "outputs": [],
      "source": [
        "g3 = Network(directed=True)\n",
        "g3.add_nodes([\"John\", \"Jill\", \"Jim\"])\n",
        "g3.add_edges([(\"Jill\", \"John\"), (\"John\", \"Jim\"), (\"Jim\", \"Jill\")])\n",
        "g3.show('./html/g3.html')\n",
        "# colab可以解開直接看\n",
        "# IPython.display.HTML('./html/g3.html')"
      ]
    },
    {
      "cell_type": "markdown",
      "metadata": {
        "id": "4bIg0QjP_GEQ"
      },
      "source": [
        "**2.4 取得Network 資訊**\n",
        "+ get_nodes：取得 network 裡的所有節點\n",
        "+ get_edges：取得 network 裡的所有連線\n",
        "+ get_adj_list：取得 network 裡的所有關係，以dict型態表示"
      ]
    },
    {
      "cell_type": "code",
      "execution_count": 9,
      "metadata": {
        "colab": {
          "base_uri": "https://localhost:8080/"
        },
        "id": "KRKu7Te2_Mvm",
        "outputId": "660a8333-fcc9-4c8b-d974-572855e266a6"
      },
      "outputs": [
        {
          "data": {
            "text/plain": [
              "['John', 'Jill', 'Jim']"
            ]
          },
          "execution_count": 9,
          "metadata": {},
          "output_type": "execute_result"
        }
      ],
      "source": [
        "g3.get_nodes()"
      ]
    },
    {
      "cell_type": "code",
      "execution_count": 10,
      "metadata": {
        "colab": {
          "base_uri": "https://localhost:8080/"
        },
        "id": "Dd_6924HG0TN",
        "outputId": "6b1d8e3e-08f2-4e57-d295-d06e52139049"
      },
      "outputs": [
        {
          "data": {
            "text/plain": [
              "[{'from': 'Jill', 'to': 'John', 'arrows': 'to'},\n",
              " {'from': 'John', 'to': 'Jim', 'arrows': 'to'},\n",
              " {'from': 'Jim', 'to': 'Jill', 'arrows': 'to'}]"
            ]
          },
          "execution_count": 10,
          "metadata": {},
          "output_type": "execute_result"
        }
      ],
      "source": [
        "g3.get_edges()"
      ]
    },
    {
      "cell_type": "code",
      "execution_count": 11,
      "metadata": {
        "colab": {
          "base_uri": "https://localhost:8080/"
        },
        "id": "6qnPaIU7_ScL",
        "outputId": "3e74e49d-456a-4583-955d-b3625935fc26"
      },
      "outputs": [
        {
          "data": {
            "text/plain": [
              "{'John': {'Jim'}, 'Jill': {'John'}, 'Jim': {'Jill'}}"
            ]
          },
          "execution_count": 11,
          "metadata": {},
          "output_type": "execute_result"
        }
      ],
      "source": [
        "g3.get_adj_list()"
      ]
    },
    {
      "cell_type": "markdown",
      "metadata": {
        "id": "G8Xg0XwOACkI"
      },
      "source": [
        "要表示 self loop 則 source node 跟 to node 都放自己即可表示。"
      ]
    },
    {
      "cell_type": "code",
      "execution_count": 13,
      "metadata": {
        "colab": {
          "base_uri": "https://localhost:8080/",
          "height": 538
        },
        "id": "Uoqvo82yG6EW",
        "outputId": "f0fc12db-78a7-4cc4-e8ed-468eb973d588"
      },
      "outputs": [],
      "source": [
        "g4 = Network(directed=True)\n",
        "g4.add_nodes([\"John\", \"Jim\", \"Jack\", \"Jennifer\", \"Jesse\", \"Janis\", \"Justin\"])\n",
        "g4.add_edges([(\"John\", \"John\"), (\"John\", \"Jim\"), (\"Jim\", \"Jack\")])\n",
        "g4.show('./html/g4.html')\n",
        "# colab可以解開直接看\n",
        "# IPython.display.HTML('./html/g4.html')"
      ]
    },
    {
      "cell_type": "markdown",
      "metadata": {
        "id": "e0fvqBNV_0Sl"
      },
      "source": [
        "而假如要表現雙向的關係，則edge放(\"a\", \"b\"), (\"b\", \"a\")雙向關係來表示。"
      ]
    },
    {
      "cell_type": "code",
      "execution_count": 14,
      "metadata": {
        "colab": {
          "base_uri": "https://localhost:8080/",
          "height": 538
        },
        "id": "m26NSQhkKnuj",
        "outputId": "37d73e02-78b1-43bd-82a8-b8fe02cccb06"
      },
      "outputs": [],
      "source": [
        "net = Network(directed=True)\n",
        "net.add_nodes([\"a\", \"b\", \"c\"])\n",
        "net.add_edges([(\"a\", \"b\"), (\"b\", \"a\"), (\"b\", \"c\"), (\"c\", \"b\")])\n",
        "net.show('./html/net.html')\n",
        "# colab可以解開直接看\n",
        "# IPython.display.HTML('./html/net.html')"
      ]
    },
    {
      "cell_type": "code",
      "execution_count": 15,
      "metadata": {
        "colab": {
          "base_uri": "https://localhost:8080/",
          "height": 538
        },
        "id": "HhvY3-cqNA08",
        "outputId": "29b82855-3b52-49a3-c792-f1cebe796c76"
      },
      "outputs": [],
      "source": [
        "net = Network()\n",
        "net.add_nodes((\"abcde\"),\n",
        "              x=[0,10,5,10,0],\n",
        "              y=[0,10,5,0,10])\n",
        "net.add_edges([(\"a\",\"e\"),(\"a\",\"c\"),(\"a\",\"d\"),(\"c\",\"b\"),(\"b\",\"e\"),(\"b\",\"d\"),(\"c\",\"d\"),(\"c\",\"e\")])\n",
        "net.show('./html/net.html')\n",
        "# colab可以解開直接看\n",
        "# IPython.display.HTML('./html/net.html')"
      ]
    },
    {
      "cell_type": "code",
      "execution_count": 16,
      "metadata": {
        "colab": {
          "base_uri": "https://localhost:8080/",
          "height": 538
        },
        "id": "-Go0fqwDBcAD",
        "outputId": "3ca3847b-242c-43dd-94c7-e0daefd2aa77"
      },
      "outputs": [],
      "source": [
        "net = Network()\n",
        "net.add_nodes((\"abcdefghij\"),\n",
        "              x=[10,15,20,25,17,12,5,9,0,25],\n",
        "              y=[5,10,10,15,25,30,10,15,20,0])\n",
        "net.add_edges([(\"a\",\"b\"),(\"a\",\"g\"),(\"b\",\"c\"),(\"b\",\"h\"),(\"g\",\"h\"),(\"h\",\"i\"),(\"h\",\"f\"),(\"h\",\"e\"),(\"e\",\"d\"),(\"d\",\"c\"),(\"f\",\"e\")])\n",
        "net.show('./html/net.html')\n",
        "# colab可以解開直接看\n",
        "# IPython.display.HTML('./html/net.html')"
      ]
    },
    {
      "cell_type": "markdown",
      "metadata": {
        "id": "Fpqd7hNHEEco"
      },
      "source": [
        "用 matrix 建立 network\n",
        "+ row = 從哪個點出發(from)\n",
        "+ cloumn = 到哪個點(to)\n",
        "+ vertex = 頂點"
      ]
    },
    {
      "cell_type": "code",
      "execution_count": 22,
      "metadata": {
        "id": "uKljpV2Oe99O"
      },
      "outputs": [],
      "source": [
        "matrix_test = np.array([[1, 1, 0, 0, 0],\n",
        "                        [0, 0, 1, 0, 0],\n",
        "                        [0, 0, 0, 0, 1],\n",
        "                        [0, 0, 1, 0, 0],\n",
        "                        [0, 1, 1, 0, 0]])"
      ]
    },
    {
      "cell_type": "markdown",
      "metadata": {
        "id": "JoUJsQN0Kmtp"
      },
      "source": [
        "也可以添加其他條件使 node 狀態改變，例如：男生表現灰色、女生表現紅色"
      ]
    },
    {
      "cell_type": "code",
      "execution_count": 23,
      "metadata": {
        "id": "JgcQhHK8fTTa"
      },
      "outputs": [],
      "source": [
        "def matrix_network(vertex, matrix, condition):\n",
        "    g = Network(directed=True)\n",
        "    nodes = len(vertex) #點\n",
        "    \n",
        "    #設定其他條件\n",
        "    colors = condition\n",
        "    colors = [\"#8993AA\"if x=='male' else \"#955455\" for x in colors]\n",
        "\n",
        "    g.add_nodes(vertex, color=colors)\n",
        "\n",
        "    for i in range(0, nodes):\n",
        "      for j in range(0, nodes):\n",
        "        if(matrix[i,j] != 0):\n",
        "          source = vertex[i]\n",
        "          to = vertex[j]\n",
        "          weight = int(matrix[i,j])\n",
        "          \n",
        "          g.add_edge( source, to, value= weight)\n",
        "    return g"
      ]
    },
    {
      "cell_type": "code",
      "execution_count": 24,
      "metadata": {
        "colab": {
          "base_uri": "https://localhost:8080/",
          "height": 538
        },
        "id": "5yGjhjcHh318",
        "outputId": "ff6f4cd7-6354-4205-f719-38d43c1175ab"
      },
      "outputs": [],
      "source": [
        "vertex = [\"Jim\", \"Jessica\", \"Jack\", \"Jimmy\", \"Jula\"]\n",
        "vertex_gender = [\"male\", \"female\", \"male\", \"male\", \"female\"]\n",
        "g = matrix_network(vertex, matrix_test, vertex_gender)\n",
        "g.show('./html/g.html')\n",
        "# colab可以解開直接看\n",
        "# IPython.display.HTML('./html/g.html')"
      ]
    },
    {
      "cell_type": "markdown",
      "metadata": {
        "id": "4_O6xLhDFKAK"
      },
      "source": [
        "## 3. Specific graphs and graph models"
      ]
    },
    {
      "cell_type": "markdown",
      "metadata": {
        "id": "Yore1-skLXfx"
      },
      "source": [
        "**3.1 Empty graph**"
      ]
    },
    {
      "cell_type": "code",
      "execution_count": 25,
      "metadata": {
        "colab": {
          "base_uri": "https://localhost:8080/",
          "height": 538
        },
        "id": "Q0Q_uBlancUz",
        "outputId": "e7e976c1-1b46-471d-86c1-bc506ed794de"
      },
      "outputs": [],
      "source": [
        "# empty graph\n",
        "nx_empty = nx.empty_graph(10) #放幾個節點\n",
        "empty_graph = Network()\n",
        "empty_graph.from_nx(nx_empty)\n",
        "\n",
        "#輸出並生成nx_empty.html\n",
        "empty_graph.show('html/nx_empty.html')\n",
        "#colab可以解開直接看\n",
        "# IPython.display.HTML('./html/nx_empty.html')"
      ]
    },
    {
      "cell_type": "markdown",
      "metadata": {
        "id": "GAEa8BCzLgBU"
      },
      "source": [
        "**3.2 Complete graph**"
      ]
    },
    {
      "cell_type": "code",
      "execution_count": 26,
      "metadata": {
        "colab": {
          "base_uri": "https://localhost:8080/",
          "height": 538
        },
        "id": "Mgbp8w-vmaI8",
        "outputId": "d1765730-cf10-4099-b654-2f10f5c164af"
      },
      "outputs": [],
      "source": [
        "# complete graph\n",
        "nx_complete = nx.complete_graph(10) #放幾個節點\n",
        "complete_graph = Network()\n",
        "complete_graph.from_nx(nx_complete)\n",
        "\n",
        "#輸出並生成nx_complete.html\n",
        "complete_graph.show('html/nx_complete.html')\n",
        "#colab可以解開直接看\n",
        "# IPython.display.HTML('./html/nx_complete.html')"
      ]
    },
    {
      "cell_type": "markdown",
      "metadata": {
        "id": "WgToIzdaLod-"
      },
      "source": [
        "**3.3 star graph**"
      ]
    },
    {
      "cell_type": "code",
      "execution_count": 28,
      "metadata": {
        "colab": {
          "base_uri": "https://localhost:8080/",
          "height": 538
        },
        "id": "VhEGz8lvoP0O",
        "outputId": "2c63a738-ee40-4689-ba96-de75645665a0"
      },
      "outputs": [],
      "source": [
        "# star graph\n",
        "nx_star = nx.star_graph(10) #放幾個節點\n",
        "star_graph = Network()\n",
        "star_graph.from_nx(nx_star)\n",
        "\n",
        "#輸出並生成nx_star.html\n",
        "star_graph.show('html/nx_star.html')\n",
        "#colab可以解開直接看\n",
        "# IPython.display.HTML('./html/nx_star.html')"
      ]
    },
    {
      "cell_type": "markdown",
      "metadata": {
        "id": "psD0cKjNM8qQ"
      },
      "source": [
        "**3.4 tree graph**"
      ]
    },
    {
      "cell_type": "code",
      "execution_count": 24,
      "metadata": {
        "colab": {
          "base_uri": "https://localhost:8080/",
          "height": 318
        },
        "id": "rwBZhoMSMFuX",
        "outputId": "076a1417-00c7-4e03-fdf3-7244339c6ff1"
      },
      "outputs": [
        {
          "data": {
            "image/png": "[encoded data removed]",
            "text/plain": [
              "<Figure size 432x288 with 1 Axes>"
            ]
          },
          "metadata": {},
          "output_type": "display_data"
        }
      ],
      "source": [
        "# Tree graph\n",
        "T = nx.generators.balanced_tree(3, 3) #kid , height\n",
        "plt.figure(12)\n",
        "nx.draw(T)\n",
        "plt.show()"
      ]
    },
    {
      "cell_type": "markdown",
      "metadata": {
        "id": "0ZLvcS7EOUwL"
      },
      "source": [
        "**3.5 ring graph**"
      ]
    },
    {
      "cell_type": "code",
      "execution_count": 29,
      "metadata": {
        "colab": {
          "base_uri": "https://localhost:8080/",
          "height": 338
        },
        "id": "lbHXI6bBNuT3",
        "outputId": "fde23b29-0969-4703-faee-182034f959b5"
      },
      "outputs": [],
      "source": [
        "# ring graph\n",
        "nx_ring = nx.cycle_graph(10)\n",
        "cycle_graph = Network(\"300px\",\"300px\")\n",
        "cycle_graph.from_nx(nx_ring)\n",
        "\n",
        "#輸出並生成nx_ring.html\n",
        "cycle_graph.show('./html/nx_ring.html')\n",
        "#colab可以解開直接看\n",
        "# IPython.display.HTML('./html/nx_ring.html')"
      ]
    },
    {
      "cell_type": "markdown",
      "metadata": {
        "id": "kNW9fEF1etRQ"
      },
      "source": [
        "## 4. 應用於Dataframe\n"
      ]
    },
    {
      "cell_type": "markdown",
      "metadata": {
        "id": "tUP-noPIe1hG"
      },
      "source": [
        "**4.1 Dataset 1：edgelist**"
      ]
    },
    {
      "cell_type": "code",
      "execution_count": 30,
      "metadata": {
        "id": "SB7b4msWpYuX"
      },
      "outputs": [],
      "source": [
        "df1_edge = pd.read_csv('./raw_data/Dataset1-Media-Example-EDGES.csv')\n",
        "df1_node = pd.read_csv('./raw_data/Dataset1-Media-Example-NODES.csv')"
      ]
    },
    {
      "cell_type": "code",
      "execution_count": 32,
      "metadata": {
        "colab": {
          "base_uri": "https://localhost:8080/",
          "height": 1000
        },
        "id": "MeRBqy_0hals",
        "outputId": "ad5f0081-5cd2-4b17-db71-1c203f35ed0e"
      },
      "outputs": [
        {
          "data": {
            "text/html": [
              "<div>\n",
              "<style scoped>\n",
              "    .dataframe tbody tr th:only-of-type {\n",
              "        vertical-align: middle;\n",
              "    }\n",
              "\n",
              "    .dataframe tbody tr th {\n",
              "        vertical-align: top;\n",
              "    }\n",
              "\n",
              "    .dataframe thead th {\n",
              "        text-align: right;\n",
              "    }\n",
              "</style>\n",
              "<table border=\"1\" class=\"dataframe\">\n",
              "  <thead>\n",
              "    <tr style=\"text-align: right;\">\n",
              "      <th></th>\n",
              "      <th>from</th>\n",
              "      <th>to</th>\n",
              "      <th>weight</th>\n",
              "      <th>type</th>\n",
              "    </tr>\n",
              "  </thead>\n",
              "  <tbody>\n",
              "    <tr>\n",
              "      <th>0</th>\n",
              "      <td>s01</td>\n",
              "      <td>s02</td>\n",
              "      <td>10</td>\n",
              "      <td>hyperlink</td>\n",
              "    </tr>\n",
              "    <tr>\n",
              "      <th>1</th>\n",
              "      <td>s01</td>\n",
              "      <td>s02</td>\n",
              "      <td>12</td>\n",
              "      <td>hyperlink</td>\n",
              "    </tr>\n",
              "    <tr>\n",
              "      <th>2</th>\n",
              "      <td>s01</td>\n",
              "      <td>s03</td>\n",
              "      <td>22</td>\n",
              "      <td>hyperlink</td>\n",
              "    </tr>\n",
              "    <tr>\n",
              "      <th>3</th>\n",
              "      <td>s01</td>\n",
              "      <td>s04</td>\n",
              "      <td>21</td>\n",
              "      <td>hyperlink</td>\n",
              "    </tr>\n",
              "    <tr>\n",
              "      <th>4</th>\n",
              "      <td>s04</td>\n",
              "      <td>s11</td>\n",
              "      <td>22</td>\n",
              "      <td>mention</td>\n",
              "    </tr>\n",
              "  </tbody>\n",
              "</table>\n",
              "</div>"
            ],
            "text/plain": [
              "  from   to  weight       type\n",
              "0  s01  s02      10  hyperlink\n",
              "1  s01  s02      12  hyperlink\n",
              "2  s01  s03      22  hyperlink\n",
              "3  s01  s04      21  hyperlink\n",
              "4  s04  s11      22    mention"
            ]
          },
          "execution_count": 32,
          "metadata": {},
          "output_type": "execute_result"
        }
      ],
      "source": [
        "df1_edge.head()"
      ]
    },
    {
      "cell_type": "code",
      "execution_count": 33,
      "metadata": {
        "colab": {
          "base_uri": "https://localhost:8080/",
          "height": 582
        },
        "id": "bomT891VhdUZ",
        "outputId": "f435a469-51d2-43f7-b963-2d1feb3f3bee"
      },
      "outputs": [
        {
          "data": {
            "text/html": [
              "<div>\n",
              "<style scoped>\n",
              "    .dataframe tbody tr th:only-of-type {\n",
              "        vertical-align: middle;\n",
              "    }\n",
              "\n",
              "    .dataframe tbody tr th {\n",
              "        vertical-align: top;\n",
              "    }\n",
              "\n",
              "    .dataframe thead th {\n",
              "        text-align: right;\n",
              "    }\n",
              "</style>\n",
              "<table border=\"1\" class=\"dataframe\">\n",
              "  <thead>\n",
              "    <tr style=\"text-align: right;\">\n",
              "      <th></th>\n",
              "      <th>id</th>\n",
              "      <th>media</th>\n",
              "      <th>media.type</th>\n",
              "      <th>type.label</th>\n",
              "      <th>audience.size</th>\n",
              "    </tr>\n",
              "  </thead>\n",
              "  <tbody>\n",
              "    <tr>\n",
              "      <th>0</th>\n",
              "      <td>s01</td>\n",
              "      <td>NY Times</td>\n",
              "      <td>1</td>\n",
              "      <td>Newspaper</td>\n",
              "      <td>20</td>\n",
              "    </tr>\n",
              "    <tr>\n",
              "      <th>1</th>\n",
              "      <td>s02</td>\n",
              "      <td>Washington Post</td>\n",
              "      <td>1</td>\n",
              "      <td>Newspaper</td>\n",
              "      <td>25</td>\n",
              "    </tr>\n",
              "    <tr>\n",
              "      <th>2</th>\n",
              "      <td>s03</td>\n",
              "      <td>Wall Street Journal</td>\n",
              "      <td>1</td>\n",
              "      <td>Newspaper</td>\n",
              "      <td>30</td>\n",
              "    </tr>\n",
              "    <tr>\n",
              "      <th>3</th>\n",
              "      <td>s04</td>\n",
              "      <td>USA Today</td>\n",
              "      <td>1</td>\n",
              "      <td>Newspaper</td>\n",
              "      <td>32</td>\n",
              "    </tr>\n",
              "    <tr>\n",
              "      <th>4</th>\n",
              "      <td>s05</td>\n",
              "      <td>LA Times</td>\n",
              "      <td>1</td>\n",
              "      <td>Newspaper</td>\n",
              "      <td>20</td>\n",
              "    </tr>\n",
              "  </tbody>\n",
              "</table>\n",
              "</div>"
            ],
            "text/plain": [
              "    id                media  media.type type.label  audience.size\n",
              "0  s01             NY Times           1  Newspaper             20\n",
              "1  s02      Washington Post           1  Newspaper             25\n",
              "2  s03  Wall Street Journal           1  Newspaper             30\n",
              "3  s04            USA Today           1  Newspaper             32\n",
              "4  s05             LA Times           1  Newspaper             20"
            ]
          },
          "execution_count": 33,
          "metadata": {},
          "output_type": "execute_result"
        }
      ],
      "source": [
        "df1_node.head()"
      ]
    },
    {
      "cell_type": "markdown",
      "metadata": {
        "id": "0dCOiPeue9Gy"
      },
      "source": [
        "單純做網絡圖"
      ]
    },
    {
      "cell_type": "code",
      "execution_count": 34,
      "metadata": {
        "id": "VC_XbCFOSmRP"
      },
      "outputs": [],
      "source": [
        "def df1_network(data_node, data_edge):\n",
        "    g = Network(directed=True)\n",
        "    nodes = len(data_node['id']) #點\n",
        "    g.add_nodes( data_node['id'])\n",
        "\n",
        "    edges = []\n",
        "    for i in range(0, len(data_edge)):\n",
        "      edge = (data_edge['from'][i], data_edge['to'][i])\n",
        "      edges.append(edge)\n",
        "  \n",
        "    g.add_edges(edges)\n",
        "    return g"
      ]
    },
    {
      "cell_type": "code",
      "execution_count": 35,
      "metadata": {
        "colab": {
          "base_uri": "https://localhost:8080/",
          "height": 538
        },
        "id": "rLytH5dhSs-q",
        "outputId": "a28d7f98-a0d6-4305-eafd-1b6999885557"
      },
      "outputs": [],
      "source": [
        "df1_net = df1_network(df1_node, df1_edge)\n",
        "df1_net.show('./html/df1_net.html')\n",
        "#colab可以解開直接看\n",
        "# IPython.display.HTML('./html/df1_net.html')"
      ]
    },
    {
      "cell_type": "markdown",
      "metadata": {
        "id": "-2xSSGD6eUfz"
      },
      "source": [
        "添加其他dataframe裡面的資訊\n",
        "+ data_node['audience.size']：設定為 node 的 value\n",
        "+ data_node['type.label']：設定為 node 的 label\n",
        "+ data_node['media.type']：設定為 node 的顏色"
      ]
    },
    {
      "cell_type": "code",
      "execution_count": 36,
      "metadata": {
        "id": "KBGLrxKudK7H"
      },
      "outputs": [],
      "source": [
        "def df1_network(data_node, data_edge):\n",
        "    g = Network(directed=True)\n",
        "    nodes = len(data_node['id']) #點\n",
        "    \n",
        "    # Newspaper(type1)=green , TV(type2)=pink , Online(type3)=blue\n",
        "    color = []\n",
        "    media_type = list(df1_node['media.type'])\n",
        "    for i in media_type:\n",
        "      if i==1: color.append('#98A38D')\n",
        "      elif i==2: color.append('#E1CCD1')\n",
        "      else: color.append('#C0CADA')\n",
        "\n",
        "    values = [int(x) for x in data_node['audience.size']]\n",
        "    g.add_nodes( data_node['id'], value= values, label=data_node['type.label'], color=color)\n",
        "\n",
        "    edges = []\n",
        "    for i in range(0, len(data_edge)):\n",
        "      edge = (data_edge['from'][i], data_edge['to'][i])\n",
        "      edges.append(edge)\n",
        "  \n",
        "    g.add_edges(edges)\n",
        "    return g"
      ]
    },
    {
      "cell_type": "code",
      "execution_count": 39,
      "metadata": {
        "colab": {
          "base_uri": "https://localhost:8080/",
          "height": 538
        },
        "id": "_ocqam4hd2iI",
        "outputId": "6315a2d6-266f-4c70-efa6-ae95d37687c2"
      },
      "outputs": [],
      "source": [
        "df1_net = df1_network(df1_node, df1_edge)\n",
        "df1_net.show('./html/df1_net.html')\n",
        "#colab可以解開直接看\n",
        "# IPython.display.HTML('./html/df1_net.html')"
      ]
    },
    {
      "cell_type": "markdown",
      "metadata": {
        "id": "tz0RmqLJhDqw"
      },
      "source": [
        "**4.2 Dataset：matrix**"
      ]
    },
    {
      "cell_type": "code",
      "execution_count": 40,
      "metadata": {
        "id": "tLdxtV0BfyXY"
      },
      "outputs": [],
      "source": [
        "df2_edge = pd.read_csv('./raw_data/Dataset2-Media-User-Example-EDGES.csv')\n",
        "df2_node = pd.read_csv('./raw_data/Dataset2-Media-User-Example-NODES.csv')"
      ]
    },
    {
      "cell_type": "code",
      "execution_count": 41,
      "metadata": {
        "colab": {
          "base_uri": "https://localhost:8080/",
          "height": 400
        },
        "id": "okFTR6A3miIs",
        "outputId": "bc3595a6-6919-425f-e0fc-95d482ca30a4"
      },
      "outputs": [
        {
          "data": {
            "text/html": [
              "<div>\n",
              "<style scoped>\n",
              "    .dataframe tbody tr th:only-of-type {\n",
              "        vertical-align: middle;\n",
              "    }\n",
              "\n",
              "    .dataframe tbody tr th {\n",
              "        vertical-align: top;\n",
              "    }\n",
              "\n",
              "    .dataframe thead th {\n",
              "        text-align: right;\n",
              "    }\n",
              "</style>\n",
              "<table border=\"1\" class=\"dataframe\">\n",
              "  <thead>\n",
              "    <tr style=\"text-align: right;\">\n",
              "      <th></th>\n",
              "      <th>Unnamed: 0</th>\n",
              "      <th>U01</th>\n",
              "      <th>U02</th>\n",
              "      <th>U03</th>\n",
              "      <th>U04</th>\n",
              "      <th>U05</th>\n",
              "      <th>U06</th>\n",
              "      <th>U07</th>\n",
              "      <th>U08</th>\n",
              "      <th>U09</th>\n",
              "      <th>...</th>\n",
              "      <th>U11</th>\n",
              "      <th>U12</th>\n",
              "      <th>U13</th>\n",
              "      <th>U14</th>\n",
              "      <th>U15</th>\n",
              "      <th>U16</th>\n",
              "      <th>U17</th>\n",
              "      <th>U18</th>\n",
              "      <th>U19</th>\n",
              "      <th>U20</th>\n",
              "    </tr>\n",
              "  </thead>\n",
              "  <tbody>\n",
              "    <tr>\n",
              "      <th>0</th>\n",
              "      <td>s01</td>\n",
              "      <td>1</td>\n",
              "      <td>1</td>\n",
              "      <td>1</td>\n",
              "      <td>0</td>\n",
              "      <td>0</td>\n",
              "      <td>0</td>\n",
              "      <td>0</td>\n",
              "      <td>0</td>\n",
              "      <td>0</td>\n",
              "      <td>...</td>\n",
              "      <td>0</td>\n",
              "      <td>0</td>\n",
              "      <td>0</td>\n",
              "      <td>0</td>\n",
              "      <td>0</td>\n",
              "      <td>0</td>\n",
              "      <td>0</td>\n",
              "      <td>0</td>\n",
              "      <td>0</td>\n",
              "      <td>0</td>\n",
              "    </tr>\n",
              "    <tr>\n",
              "      <th>1</th>\n",
              "      <td>s02</td>\n",
              "      <td>0</td>\n",
              "      <td>0</td>\n",
              "      <td>0</td>\n",
              "      <td>1</td>\n",
              "      <td>1</td>\n",
              "      <td>0</td>\n",
              "      <td>0</td>\n",
              "      <td>0</td>\n",
              "      <td>0</td>\n",
              "      <td>...</td>\n",
              "      <td>0</td>\n",
              "      <td>0</td>\n",
              "      <td>0</td>\n",
              "      <td>0</td>\n",
              "      <td>0</td>\n",
              "      <td>0</td>\n",
              "      <td>0</td>\n",
              "      <td>0</td>\n",
              "      <td>0</td>\n",
              "      <td>1</td>\n",
              "    </tr>\n",
              "    <tr>\n",
              "      <th>2</th>\n",
              "      <td>s03</td>\n",
              "      <td>0</td>\n",
              "      <td>0</td>\n",
              "      <td>0</td>\n",
              "      <td>0</td>\n",
              "      <td>0</td>\n",
              "      <td>1</td>\n",
              "      <td>1</td>\n",
              "      <td>1</td>\n",
              "      <td>1</td>\n",
              "      <td>...</td>\n",
              "      <td>0</td>\n",
              "      <td>0</td>\n",
              "      <td>0</td>\n",
              "      <td>0</td>\n",
              "      <td>0</td>\n",
              "      <td>0</td>\n",
              "      <td>0</td>\n",
              "      <td>0</td>\n",
              "      <td>0</td>\n",
              "      <td>0</td>\n",
              "    </tr>\n",
              "    <tr>\n",
              "      <th>3</th>\n",
              "      <td>s04</td>\n",
              "      <td>0</td>\n",
              "      <td>0</td>\n",
              "      <td>0</td>\n",
              "      <td>0</td>\n",
              "      <td>0</td>\n",
              "      <td>0</td>\n",
              "      <td>0</td>\n",
              "      <td>0</td>\n",
              "      <td>1</td>\n",
              "      <td>...</td>\n",
              "      <td>1</td>\n",
              "      <td>0</td>\n",
              "      <td>0</td>\n",
              "      <td>0</td>\n",
              "      <td>0</td>\n",
              "      <td>0</td>\n",
              "      <td>0</td>\n",
              "      <td>0</td>\n",
              "      <td>0</td>\n",
              "      <td>0</td>\n",
              "    </tr>\n",
              "    <tr>\n",
              "      <th>4</th>\n",
              "      <td>s05</td>\n",
              "      <td>0</td>\n",
              "      <td>0</td>\n",
              "      <td>0</td>\n",
              "      <td>0</td>\n",
              "      <td>0</td>\n",
              "      <td>0</td>\n",
              "      <td>0</td>\n",
              "      <td>0</td>\n",
              "      <td>0</td>\n",
              "      <td>...</td>\n",
              "      <td>1</td>\n",
              "      <td>1</td>\n",
              "      <td>1</td>\n",
              "      <td>0</td>\n",
              "      <td>0</td>\n",
              "      <td>0</td>\n",
              "      <td>0</td>\n",
              "      <td>0</td>\n",
              "      <td>0</td>\n",
              "      <td>0</td>\n",
              "    </tr>\n",
              "    <tr>\n",
              "      <th>5</th>\n",
              "      <td>s06</td>\n",
              "      <td>0</td>\n",
              "      <td>0</td>\n",
              "      <td>0</td>\n",
              "      <td>0</td>\n",
              "      <td>0</td>\n",
              "      <td>0</td>\n",
              "      <td>0</td>\n",
              "      <td>0</td>\n",
              "      <td>0</td>\n",
              "      <td>...</td>\n",
              "      <td>0</td>\n",
              "      <td>0</td>\n",
              "      <td>1</td>\n",
              "      <td>1</td>\n",
              "      <td>0</td>\n",
              "      <td>0</td>\n",
              "      <td>1</td>\n",
              "      <td>0</td>\n",
              "      <td>0</td>\n",
              "      <td>0</td>\n",
              "    </tr>\n",
              "    <tr>\n",
              "      <th>6</th>\n",
              "      <td>s07</td>\n",
              "      <td>0</td>\n",
              "      <td>0</td>\n",
              "      <td>0</td>\n",
              "      <td>0</td>\n",
              "      <td>0</td>\n",
              "      <td>0</td>\n",
              "      <td>0</td>\n",
              "      <td>0</td>\n",
              "      <td>0</td>\n",
              "      <td>...</td>\n",
              "      <td>0</td>\n",
              "      <td>0</td>\n",
              "      <td>0</td>\n",
              "      <td>1</td>\n",
              "      <td>1</td>\n",
              "      <td>1</td>\n",
              "      <td>0</td>\n",
              "      <td>0</td>\n",
              "      <td>0</td>\n",
              "      <td>0</td>\n",
              "    </tr>\n",
              "    <tr>\n",
              "      <th>7</th>\n",
              "      <td>s08</td>\n",
              "      <td>0</td>\n",
              "      <td>0</td>\n",
              "      <td>0</td>\n",
              "      <td>0</td>\n",
              "      <td>0</td>\n",
              "      <td>0</td>\n",
              "      <td>0</td>\n",
              "      <td>0</td>\n",
              "      <td>0</td>\n",
              "      <td>...</td>\n",
              "      <td>0</td>\n",
              "      <td>0</td>\n",
              "      <td>0</td>\n",
              "      <td>0</td>\n",
              "      <td>0</td>\n",
              "      <td>1</td>\n",
              "      <td>1</td>\n",
              "      <td>1</td>\n",
              "      <td>1</td>\n",
              "      <td>0</td>\n",
              "    </tr>\n",
              "    <tr>\n",
              "      <th>8</th>\n",
              "      <td>s09</td>\n",
              "      <td>0</td>\n",
              "      <td>0</td>\n",
              "      <td>0</td>\n",
              "      <td>0</td>\n",
              "      <td>0</td>\n",
              "      <td>1</td>\n",
              "      <td>0</td>\n",
              "      <td>0</td>\n",
              "      <td>0</td>\n",
              "      <td>...</td>\n",
              "      <td>0</td>\n",
              "      <td>0</td>\n",
              "      <td>0</td>\n",
              "      <td>0</td>\n",
              "      <td>0</td>\n",
              "      <td>0</td>\n",
              "      <td>0</td>\n",
              "      <td>0</td>\n",
              "      <td>1</td>\n",
              "      <td>1</td>\n",
              "    </tr>\n",
              "    <tr>\n",
              "      <th>9</th>\n",
              "      <td>s10</td>\n",
              "      <td>1</td>\n",
              "      <td>0</td>\n",
              "      <td>0</td>\n",
              "      <td>0</td>\n",
              "      <td>0</td>\n",
              "      <td>0</td>\n",
              "      <td>0</td>\n",
              "      <td>0</td>\n",
              "      <td>0</td>\n",
              "      <td>...</td>\n",
              "      <td>1</td>\n",
              "      <td>0</td>\n",
              "      <td>0</td>\n",
              "      <td>0</td>\n",
              "      <td>0</td>\n",
              "      <td>0</td>\n",
              "      <td>0</td>\n",
              "      <td>0</td>\n",
              "      <td>0</td>\n",
              "      <td>0</td>\n",
              "    </tr>\n",
              "  </tbody>\n",
              "</table>\n",
              "<p>10 rows × 21 columns</p>\n",
              "</div>"
            ],
            "text/plain": [
              "  Unnamed: 0  U01  U02  U03  U04  U05  U06  U07  U08  U09  ...  U11  U12  U13  \\\n",
              "0        s01    1    1    1    0    0    0    0    0    0  ...    0    0    0   \n",
              "1        s02    0    0    0    1    1    0    0    0    0  ...    0    0    0   \n",
              "2        s03    0    0    0    0    0    1    1    1    1  ...    0    0    0   \n",
              "3        s04    0    0    0    0    0    0    0    0    1  ...    1    0    0   \n",
              "4        s05    0    0    0    0    0    0    0    0    0  ...    1    1    1   \n",
              "5        s06    0    0    0    0    0    0    0    0    0  ...    0    0    1   \n",
              "6        s07    0    0    0    0    0    0    0    0    0  ...    0    0    0   \n",
              "7        s08    0    0    0    0    0    0    0    0    0  ...    0    0    0   \n",
              "8        s09    0    0    0    0    0    1    0    0    0  ...    0    0    0   \n",
              "9        s10    1    0    0    0    0    0    0    0    0  ...    1    0    0   \n",
              "\n",
              "   U14  U15  U16  U17  U18  U19  U20  \n",
              "0    0    0    0    0    0    0    0  \n",
              "1    0    0    0    0    0    0    1  \n",
              "2    0    0    0    0    0    0    0  \n",
              "3    0    0    0    0    0    0    0  \n",
              "4    0    0    0    0    0    0    0  \n",
              "5    1    0    0    1    0    0    0  \n",
              "6    1    1    1    0    0    0    0  \n",
              "7    0    0    1    1    1    1    0  \n",
              "8    0    0    0    0    0    1    1  \n",
              "9    0    0    0    0    0    0    0  \n",
              "\n",
              "[10 rows x 21 columns]"
            ]
          },
          "execution_count": 41,
          "metadata": {},
          "output_type": "execute_result"
        }
      ],
      "source": [
        "df2_edge"
      ]
    },
    {
      "cell_type": "markdown",
      "metadata": {
        "id": "oqrf_i3xvOS2"
      },
      "source": [
        "轉換為adjacency matrix"
      ]
    },
    {
      "cell_type": "code",
      "execution_count": 46,
      "metadata": {
        "colab": {
          "base_uri": "https://localhost:8080/",
          "height": 362
        },
        "id": "EhlJN8jXnQeF",
        "outputId": "ab48c72f-ed09-4da2-c5e5-33e552f6e516"
      },
      "outputs": [
        {
          "data": {
            "text/html": [
              "<div>\n",
              "<style scoped>\n",
              "    .dataframe tbody tr th:only-of-type {\n",
              "        vertical-align: middle;\n",
              "    }\n",
              "\n",
              "    .dataframe tbody tr th {\n",
              "        vertical-align: top;\n",
              "    }\n",
              "\n",
              "    .dataframe thead th {\n",
              "        text-align: right;\n",
              "    }\n",
              "</style>\n",
              "<table border=\"1\" class=\"dataframe\">\n",
              "  <thead>\n",
              "    <tr style=\"text-align: right;\">\n",
              "      <th></th>\n",
              "      <th>0</th>\n",
              "      <th>1</th>\n",
              "      <th>2</th>\n",
              "      <th>3</th>\n",
              "      <th>4</th>\n",
              "      <th>5</th>\n",
              "      <th>6</th>\n",
              "      <th>7</th>\n",
              "      <th>8</th>\n",
              "      <th>9</th>\n",
              "    </tr>\n",
              "  </thead>\n",
              "  <tbody>\n",
              "    <tr>\n",
              "      <th>0</th>\n",
              "      <td>0</td>\n",
              "      <td>0</td>\n",
              "      <td>0</td>\n",
              "      <td>0</td>\n",
              "      <td>0</td>\n",
              "      <td>0</td>\n",
              "      <td>0</td>\n",
              "      <td>0</td>\n",
              "      <td>0</td>\n",
              "      <td>1</td>\n",
              "    </tr>\n",
              "    <tr>\n",
              "      <th>1</th>\n",
              "      <td>0</td>\n",
              "      <td>0</td>\n",
              "      <td>0</td>\n",
              "      <td>0</td>\n",
              "      <td>0</td>\n",
              "      <td>0</td>\n",
              "      <td>0</td>\n",
              "      <td>0</td>\n",
              "      <td>1</td>\n",
              "      <td>0</td>\n",
              "    </tr>\n",
              "    <tr>\n",
              "      <th>2</th>\n",
              "      <td>0</td>\n",
              "      <td>0</td>\n",
              "      <td>0</td>\n",
              "      <td>1</td>\n",
              "      <td>0</td>\n",
              "      <td>0</td>\n",
              "      <td>0</td>\n",
              "      <td>0</td>\n",
              "      <td>1</td>\n",
              "      <td>0</td>\n",
              "    </tr>\n",
              "    <tr>\n",
              "      <th>3</th>\n",
              "      <td>0</td>\n",
              "      <td>0</td>\n",
              "      <td>1</td>\n",
              "      <td>0</td>\n",
              "      <td>1</td>\n",
              "      <td>0</td>\n",
              "      <td>0</td>\n",
              "      <td>0</td>\n",
              "      <td>0</td>\n",
              "      <td>1</td>\n",
              "    </tr>\n",
              "    <tr>\n",
              "      <th>4</th>\n",
              "      <td>0</td>\n",
              "      <td>0</td>\n",
              "      <td>0</td>\n",
              "      <td>1</td>\n",
              "      <td>0</td>\n",
              "      <td>1</td>\n",
              "      <td>0</td>\n",
              "      <td>0</td>\n",
              "      <td>0</td>\n",
              "      <td>1</td>\n",
              "    </tr>\n",
              "    <tr>\n",
              "      <th>5</th>\n",
              "      <td>0</td>\n",
              "      <td>0</td>\n",
              "      <td>0</td>\n",
              "      <td>0</td>\n",
              "      <td>1</td>\n",
              "      <td>0</td>\n",
              "      <td>1</td>\n",
              "      <td>1</td>\n",
              "      <td>0</td>\n",
              "      <td>0</td>\n",
              "    </tr>\n",
              "    <tr>\n",
              "      <th>6</th>\n",
              "      <td>0</td>\n",
              "      <td>0</td>\n",
              "      <td>0</td>\n",
              "      <td>0</td>\n",
              "      <td>0</td>\n",
              "      <td>1</td>\n",
              "      <td>0</td>\n",
              "      <td>1</td>\n",
              "      <td>0</td>\n",
              "      <td>0</td>\n",
              "    </tr>\n",
              "    <tr>\n",
              "      <th>7</th>\n",
              "      <td>0</td>\n",
              "      <td>0</td>\n",
              "      <td>0</td>\n",
              "      <td>0</td>\n",
              "      <td>0</td>\n",
              "      <td>1</td>\n",
              "      <td>1</td>\n",
              "      <td>0</td>\n",
              "      <td>1</td>\n",
              "      <td>0</td>\n",
              "    </tr>\n",
              "    <tr>\n",
              "      <th>8</th>\n",
              "      <td>0</td>\n",
              "      <td>1</td>\n",
              "      <td>1</td>\n",
              "      <td>0</td>\n",
              "      <td>0</td>\n",
              "      <td>0</td>\n",
              "      <td>0</td>\n",
              "      <td>1</td>\n",
              "      <td>0</td>\n",
              "      <td>0</td>\n",
              "    </tr>\n",
              "    <tr>\n",
              "      <th>9</th>\n",
              "      <td>1</td>\n",
              "      <td>0</td>\n",
              "      <td>0</td>\n",
              "      <td>1</td>\n",
              "      <td>1</td>\n",
              "      <td>0</td>\n",
              "      <td>0</td>\n",
              "      <td>0</td>\n",
              "      <td>0</td>\n",
              "      <td>0</td>\n",
              "    </tr>\n",
              "  </tbody>\n",
              "</table>\n",
              "</div>"
            ],
            "text/plain": [
              "   0  1  2  3  4  5  6  7  8  9\n",
              "0  0  0  0  0  0  0  0  0  0  1\n",
              "1  0  0  0  0  0  0  0  0  1  0\n",
              "2  0  0  0  1  0  0  0  0  1  0\n",
              "3  0  0  1  0  1  0  0  0  0  1\n",
              "4  0  0  0  1  0  1  0  0  0  1\n",
              "5  0  0  0  0  1  0  1  1  0  0\n",
              "6  0  0  0  0  0  1  0  1  0  0\n",
              "7  0  0  0  0  0  1  1  0  1  0\n",
              "8  0  1  1  0  0  0  0  1  0  0\n",
              "9  1  0  0  1  1  0  0  0  0  0"
            ]
          },
          "execution_count": 46,
          "metadata": {},
          "output_type": "execute_result"
        }
      ],
      "source": [
        "S_matrix = df2_edge.iloc[:,1:]\n",
        "S_matrix = S_matrix.dot(S_matrix.T)\n",
        "np.fill_diagonal(S_matrix.values, 0)\n",
        "S_matrix"
      ]
    },
    {
      "cell_type": "code",
      "execution_count": 47,
      "metadata": {
        "id": "oGIOXB_lotfQ"
      },
      "outputs": [],
      "source": [
        "def adjacency_matrix(vertex, matrix, matrix2):\n",
        "    g = Network()\n",
        "    nodes = len(vertex) #點\n",
        "    \n",
        "    #label\n",
        "    labels = []\n",
        "    for i in vertex:\n",
        "      labels.extend(df2_node[df2_node['id'] == i]['media'].tolist())\n",
        "\n",
        "    g.add_nodes(vertex, label=labels)\n",
        "\n",
        "    for i in range(0, nodes):\n",
        "      for j in range(0, nodes):\n",
        "        if(matrix.iloc[i,j] != 0):\n",
        "          source = vertex[i]\n",
        "          to = vertex[j]\n",
        "          \n",
        "          g.add_edge( source, to)\n",
        "    return g"
      ]
    },
    {
      "cell_type": "code",
      "execution_count": 48,
      "metadata": {
        "colab": {
          "base_uri": "https://localhost:8080/"
        },
        "id": "VsWt4xNGiAT8",
        "outputId": "93b1666a-1669-4a9b-9fb4-3cb468202dad"
      },
      "outputs": [
        {
          "data": {
            "text/plain": [
              "['s01', 's02', 's03', 's04', 's05', 's06', 's07', 's08', 's09', 's10']"
            ]
          },
          "execution_count": 48,
          "metadata": {},
          "output_type": "execute_result"
        }
      ],
      "source": [
        "node_s = list(df2_edge.iloc[:,0])\n",
        "node_s"
      ]
    },
    {
      "cell_type": "code",
      "execution_count": 49,
      "metadata": {
        "colab": {
          "base_uri": "https://localhost:8080/",
          "height": 538
        },
        "id": "DG272ZQ_ovid",
        "outputId": "fbfcdfc9-436f-468d-bcd6-361180d8b86e"
      },
      "outputs": [],
      "source": [
        "adjacency_s = adjacency_matrix(node_s, S_matrix, df2_node)\n",
        "adjacency_s.show('./html/adjacency_s.html')\n",
        "#colab可以解開直接看\n",
        "# IPython.display.HTML('./html/adjacency_s.html')"
      ]
    },
    {
      "cell_type": "markdown",
      "metadata": {
        "id": "lmsqowBNvVN0"
      },
      "source": [
        "轉換為adjacency matrix"
      ]
    },
    {
      "cell_type": "code",
      "execution_count": 50,
      "metadata": {
        "colab": {
          "base_uri": "https://localhost:8080/",
          "height": 696
        },
        "id": "EhYtzqaFqBqy",
        "outputId": "1c0f0e11-a93c-4874-fd69-1a8bbe642013"
      },
      "outputs": [
        {
          "data": {
            "text/html": [
              "<div>\n",
              "<style scoped>\n",
              "    .dataframe tbody tr th:only-of-type {\n",
              "        vertical-align: middle;\n",
              "    }\n",
              "\n",
              "    .dataframe tbody tr th {\n",
              "        vertical-align: top;\n",
              "    }\n",
              "\n",
              "    .dataframe thead th {\n",
              "        text-align: right;\n",
              "    }\n",
              "</style>\n",
              "<table border=\"1\" class=\"dataframe\">\n",
              "  <thead>\n",
              "    <tr style=\"text-align: right;\">\n",
              "      <th></th>\n",
              "      <th>U01</th>\n",
              "      <th>U02</th>\n",
              "      <th>U03</th>\n",
              "      <th>U04</th>\n",
              "      <th>U05</th>\n",
              "      <th>U06</th>\n",
              "      <th>U07</th>\n",
              "      <th>U08</th>\n",
              "      <th>U09</th>\n",
              "      <th>U10</th>\n",
              "      <th>U11</th>\n",
              "      <th>U12</th>\n",
              "      <th>U13</th>\n",
              "      <th>U14</th>\n",
              "      <th>U15</th>\n",
              "      <th>U16</th>\n",
              "      <th>U17</th>\n",
              "      <th>U18</th>\n",
              "      <th>U19</th>\n",
              "      <th>U20</th>\n",
              "    </tr>\n",
              "  </thead>\n",
              "  <tbody>\n",
              "    <tr>\n",
              "      <th>U01</th>\n",
              "      <td>0</td>\n",
              "      <td>1</td>\n",
              "      <td>1</td>\n",
              "      <td>0</td>\n",
              "      <td>0</td>\n",
              "      <td>0</td>\n",
              "      <td>0</td>\n",
              "      <td>0</td>\n",
              "      <td>0</td>\n",
              "      <td>0</td>\n",
              "      <td>1</td>\n",
              "      <td>0</td>\n",
              "      <td>0</td>\n",
              "      <td>0</td>\n",
              "      <td>0</td>\n",
              "      <td>0</td>\n",
              "      <td>0</td>\n",
              "      <td>0</td>\n",
              "      <td>0</td>\n",
              "      <td>0</td>\n",
              "    </tr>\n",
              "    <tr>\n",
              "      <th>U02</th>\n",
              "      <td>1</td>\n",
              "      <td>0</td>\n",
              "      <td>1</td>\n",
              "      <td>0</td>\n",
              "      <td>0</td>\n",
              "      <td>0</td>\n",
              "      <td>0</td>\n",
              "      <td>0</td>\n",
              "      <td>0</td>\n",
              "      <td>0</td>\n",
              "      <td>0</td>\n",
              "      <td>0</td>\n",
              "      <td>0</td>\n",
              "      <td>0</td>\n",
              "      <td>0</td>\n",
              "      <td>0</td>\n",
              "      <td>0</td>\n",
              "      <td>0</td>\n",
              "      <td>0</td>\n",
              "      <td>0</td>\n",
              "    </tr>\n",
              "    <tr>\n",
              "      <th>U03</th>\n",
              "      <td>1</td>\n",
              "      <td>1</td>\n",
              "      <td>0</td>\n",
              "      <td>0</td>\n",
              "      <td>0</td>\n",
              "      <td>0</td>\n",
              "      <td>0</td>\n",
              "      <td>0</td>\n",
              "      <td>0</td>\n",
              "      <td>0</td>\n",
              "      <td>0</td>\n",
              "      <td>0</td>\n",
              "      <td>0</td>\n",
              "      <td>0</td>\n",
              "      <td>0</td>\n",
              "      <td>0</td>\n",
              "      <td>0</td>\n",
              "      <td>0</td>\n",
              "      <td>0</td>\n",
              "      <td>0</td>\n",
              "    </tr>\n",
              "    <tr>\n",
              "      <th>U04</th>\n",
              "      <td>0</td>\n",
              "      <td>0</td>\n",
              "      <td>0</td>\n",
              "      <td>0</td>\n",
              "      <td>1</td>\n",
              "      <td>0</td>\n",
              "      <td>0</td>\n",
              "      <td>0</td>\n",
              "      <td>0</td>\n",
              "      <td>0</td>\n",
              "      <td>0</td>\n",
              "      <td>0</td>\n",
              "      <td>0</td>\n",
              "      <td>0</td>\n",
              "      <td>0</td>\n",
              "      <td>0</td>\n",
              "      <td>0</td>\n",
              "      <td>0</td>\n",
              "      <td>0</td>\n",
              "      <td>1</td>\n",
              "    </tr>\n",
              "    <tr>\n",
              "      <th>U05</th>\n",
              "      <td>0</td>\n",
              "      <td>0</td>\n",
              "      <td>0</td>\n",
              "      <td>1</td>\n",
              "      <td>0</td>\n",
              "      <td>0</td>\n",
              "      <td>0</td>\n",
              "      <td>0</td>\n",
              "      <td>0</td>\n",
              "      <td>0</td>\n",
              "      <td>0</td>\n",
              "      <td>0</td>\n",
              "      <td>0</td>\n",
              "      <td>0</td>\n",
              "      <td>0</td>\n",
              "      <td>0</td>\n",
              "      <td>0</td>\n",
              "      <td>0</td>\n",
              "      <td>0</td>\n",
              "      <td>1</td>\n",
              "    </tr>\n",
              "    <tr>\n",
              "      <th>U06</th>\n",
              "      <td>0</td>\n",
              "      <td>0</td>\n",
              "      <td>0</td>\n",
              "      <td>0</td>\n",
              "      <td>0</td>\n",
              "      <td>0</td>\n",
              "      <td>1</td>\n",
              "      <td>1</td>\n",
              "      <td>1</td>\n",
              "      <td>0</td>\n",
              "      <td>0</td>\n",
              "      <td>0</td>\n",
              "      <td>0</td>\n",
              "      <td>0</td>\n",
              "      <td>0</td>\n",
              "      <td>0</td>\n",
              "      <td>0</td>\n",
              "      <td>0</td>\n",
              "      <td>1</td>\n",
              "      <td>1</td>\n",
              "    </tr>\n",
              "    <tr>\n",
              "      <th>U07</th>\n",
              "      <td>0</td>\n",
              "      <td>0</td>\n",
              "      <td>0</td>\n",
              "      <td>0</td>\n",
              "      <td>0</td>\n",
              "      <td>1</td>\n",
              "      <td>0</td>\n",
              "      <td>1</td>\n",
              "      <td>1</td>\n",
              "      <td>0</td>\n",
              "      <td>0</td>\n",
              "      <td>0</td>\n",
              "      <td>0</td>\n",
              "      <td>0</td>\n",
              "      <td>0</td>\n",
              "      <td>0</td>\n",
              "      <td>0</td>\n",
              "      <td>0</td>\n",
              "      <td>0</td>\n",
              "      <td>0</td>\n",
              "    </tr>\n",
              "    <tr>\n",
              "      <th>U08</th>\n",
              "      <td>0</td>\n",
              "      <td>0</td>\n",
              "      <td>0</td>\n",
              "      <td>0</td>\n",
              "      <td>0</td>\n",
              "      <td>1</td>\n",
              "      <td>1</td>\n",
              "      <td>0</td>\n",
              "      <td>1</td>\n",
              "      <td>0</td>\n",
              "      <td>0</td>\n",
              "      <td>0</td>\n",
              "      <td>0</td>\n",
              "      <td>0</td>\n",
              "      <td>0</td>\n",
              "      <td>0</td>\n",
              "      <td>0</td>\n",
              "      <td>0</td>\n",
              "      <td>0</td>\n",
              "      <td>0</td>\n",
              "    </tr>\n",
              "    <tr>\n",
              "      <th>U09</th>\n",
              "      <td>0</td>\n",
              "      <td>0</td>\n",
              "      <td>0</td>\n",
              "      <td>0</td>\n",
              "      <td>0</td>\n",
              "      <td>1</td>\n",
              "      <td>1</td>\n",
              "      <td>1</td>\n",
              "      <td>0</td>\n",
              "      <td>1</td>\n",
              "      <td>1</td>\n",
              "      <td>0</td>\n",
              "      <td>0</td>\n",
              "      <td>0</td>\n",
              "      <td>0</td>\n",
              "      <td>0</td>\n",
              "      <td>0</td>\n",
              "      <td>0</td>\n",
              "      <td>0</td>\n",
              "      <td>0</td>\n",
              "    </tr>\n",
              "    <tr>\n",
              "      <th>U10</th>\n",
              "      <td>0</td>\n",
              "      <td>0</td>\n",
              "      <td>0</td>\n",
              "      <td>0</td>\n",
              "      <td>0</td>\n",
              "      <td>0</td>\n",
              "      <td>0</td>\n",
              "      <td>0</td>\n",
              "      <td>1</td>\n",
              "      <td>0</td>\n",
              "      <td>1</td>\n",
              "      <td>0</td>\n",
              "      <td>0</td>\n",
              "      <td>0</td>\n",
              "      <td>0</td>\n",
              "      <td>0</td>\n",
              "      <td>0</td>\n",
              "      <td>0</td>\n",
              "      <td>0</td>\n",
              "      <td>0</td>\n",
              "    </tr>\n",
              "    <tr>\n",
              "      <th>U11</th>\n",
              "      <td>1</td>\n",
              "      <td>0</td>\n",
              "      <td>0</td>\n",
              "      <td>0</td>\n",
              "      <td>0</td>\n",
              "      <td>0</td>\n",
              "      <td>0</td>\n",
              "      <td>0</td>\n",
              "      <td>1</td>\n",
              "      <td>1</td>\n",
              "      <td>0</td>\n",
              "      <td>1</td>\n",
              "      <td>1</td>\n",
              "      <td>0</td>\n",
              "      <td>0</td>\n",
              "      <td>0</td>\n",
              "      <td>0</td>\n",
              "      <td>0</td>\n",
              "      <td>0</td>\n",
              "      <td>0</td>\n",
              "    </tr>\n",
              "    <tr>\n",
              "      <th>U12</th>\n",
              "      <td>0</td>\n",
              "      <td>0</td>\n",
              "      <td>0</td>\n",
              "      <td>0</td>\n",
              "      <td>0</td>\n",
              "      <td>0</td>\n",
              "      <td>0</td>\n",
              "      <td>0</td>\n",
              "      <td>0</td>\n",
              "      <td>0</td>\n",
              "      <td>1</td>\n",
              "      <td>0</td>\n",
              "      <td>1</td>\n",
              "      <td>0</td>\n",
              "      <td>0</td>\n",
              "      <td>0</td>\n",
              "      <td>0</td>\n",
              "      <td>0</td>\n",
              "      <td>0</td>\n",
              "      <td>0</td>\n",
              "    </tr>\n",
              "    <tr>\n",
              "      <th>U13</th>\n",
              "      <td>0</td>\n",
              "      <td>0</td>\n",
              "      <td>0</td>\n",
              "      <td>0</td>\n",
              "      <td>0</td>\n",
              "      <td>0</td>\n",
              "      <td>0</td>\n",
              "      <td>0</td>\n",
              "      <td>0</td>\n",
              "      <td>0</td>\n",
              "      <td>1</td>\n",
              "      <td>1</td>\n",
              "      <td>0</td>\n",
              "      <td>1</td>\n",
              "      <td>0</td>\n",
              "      <td>0</td>\n",
              "      <td>1</td>\n",
              "      <td>0</td>\n",
              "      <td>0</td>\n",
              "      <td>0</td>\n",
              "    </tr>\n",
              "    <tr>\n",
              "      <th>U14</th>\n",
              "      <td>0</td>\n",
              "      <td>0</td>\n",
              "      <td>0</td>\n",
              "      <td>0</td>\n",
              "      <td>0</td>\n",
              "      <td>0</td>\n",
              "      <td>0</td>\n",
              "      <td>0</td>\n",
              "      <td>0</td>\n",
              "      <td>0</td>\n",
              "      <td>0</td>\n",
              "      <td>0</td>\n",
              "      <td>1</td>\n",
              "      <td>0</td>\n",
              "      <td>1</td>\n",
              "      <td>1</td>\n",
              "      <td>1</td>\n",
              "      <td>0</td>\n",
              "      <td>0</td>\n",
              "      <td>0</td>\n",
              "    </tr>\n",
              "    <tr>\n",
              "      <th>U15</th>\n",
              "      <td>0</td>\n",
              "      <td>0</td>\n",
              "      <td>0</td>\n",
              "      <td>0</td>\n",
              "      <td>0</td>\n",
              "      <td>0</td>\n",
              "      <td>0</td>\n",
              "      <td>0</td>\n",
              "      <td>0</td>\n",
              "      <td>0</td>\n",
              "      <td>0</td>\n",
              "      <td>0</td>\n",
              "      <td>0</td>\n",
              "      <td>1</td>\n",
              "      <td>0</td>\n",
              "      <td>1</td>\n",
              "      <td>0</td>\n",
              "      <td>0</td>\n",
              "      <td>0</td>\n",
              "      <td>0</td>\n",
              "    </tr>\n",
              "    <tr>\n",
              "      <th>U16</th>\n",
              "      <td>0</td>\n",
              "      <td>0</td>\n",
              "      <td>0</td>\n",
              "      <td>0</td>\n",
              "      <td>0</td>\n",
              "      <td>0</td>\n",
              "      <td>0</td>\n",
              "      <td>0</td>\n",
              "      <td>0</td>\n",
              "      <td>0</td>\n",
              "      <td>0</td>\n",
              "      <td>0</td>\n",
              "      <td>0</td>\n",
              "      <td>1</td>\n",
              "      <td>1</td>\n",
              "      <td>0</td>\n",
              "      <td>1</td>\n",
              "      <td>1</td>\n",
              "      <td>1</td>\n",
              "      <td>0</td>\n",
              "    </tr>\n",
              "    <tr>\n",
              "      <th>U17</th>\n",
              "      <td>0</td>\n",
              "      <td>0</td>\n",
              "      <td>0</td>\n",
              "      <td>0</td>\n",
              "      <td>0</td>\n",
              "      <td>0</td>\n",
              "      <td>0</td>\n",
              "      <td>0</td>\n",
              "      <td>0</td>\n",
              "      <td>0</td>\n",
              "      <td>0</td>\n",
              "      <td>0</td>\n",
              "      <td>1</td>\n",
              "      <td>1</td>\n",
              "      <td>0</td>\n",
              "      <td>1</td>\n",
              "      <td>0</td>\n",
              "      <td>1</td>\n",
              "      <td>1</td>\n",
              "      <td>0</td>\n",
              "    </tr>\n",
              "    <tr>\n",
              "      <th>U18</th>\n",
              "      <td>0</td>\n",
              "      <td>0</td>\n",
              "      <td>0</td>\n",
              "      <td>0</td>\n",
              "      <td>0</td>\n",
              "      <td>0</td>\n",
              "      <td>0</td>\n",
              "      <td>0</td>\n",
              "      <td>0</td>\n",
              "      <td>0</td>\n",
              "      <td>0</td>\n",
              "      <td>0</td>\n",
              "      <td>0</td>\n",
              "      <td>0</td>\n",
              "      <td>0</td>\n",
              "      <td>1</td>\n",
              "      <td>1</td>\n",
              "      <td>0</td>\n",
              "      <td>1</td>\n",
              "      <td>0</td>\n",
              "    </tr>\n",
              "    <tr>\n",
              "      <th>U19</th>\n",
              "      <td>0</td>\n",
              "      <td>0</td>\n",
              "      <td>0</td>\n",
              "      <td>0</td>\n",
              "      <td>0</td>\n",
              "      <td>1</td>\n",
              "      <td>0</td>\n",
              "      <td>0</td>\n",
              "      <td>0</td>\n",
              "      <td>0</td>\n",
              "      <td>0</td>\n",
              "      <td>0</td>\n",
              "      <td>0</td>\n",
              "      <td>0</td>\n",
              "      <td>0</td>\n",
              "      <td>1</td>\n",
              "      <td>1</td>\n",
              "      <td>1</td>\n",
              "      <td>0</td>\n",
              "      <td>1</td>\n",
              "    </tr>\n",
              "    <tr>\n",
              "      <th>U20</th>\n",
              "      <td>0</td>\n",
              "      <td>0</td>\n",
              "      <td>0</td>\n",
              "      <td>1</td>\n",
              "      <td>1</td>\n",
              "      <td>1</td>\n",
              "      <td>0</td>\n",
              "      <td>0</td>\n",
              "      <td>0</td>\n",
              "      <td>0</td>\n",
              "      <td>0</td>\n",
              "      <td>0</td>\n",
              "      <td>0</td>\n",
              "      <td>0</td>\n",
              "      <td>0</td>\n",
              "      <td>0</td>\n",
              "      <td>0</td>\n",
              "      <td>0</td>\n",
              "      <td>1</td>\n",
              "      <td>0</td>\n",
              "    </tr>\n",
              "  </tbody>\n",
              "</table>\n",
              "</div>"
            ],
            "text/plain": [
              "     U01  U02  U03  U04  U05  U06  U07  U08  U09  U10  U11  U12  U13  U14  \\\n",
              "U01    0    1    1    0    0    0    0    0    0    0    1    0    0    0   \n",
              "U02    1    0    1    0    0    0    0    0    0    0    0    0    0    0   \n",
              "U03    1    1    0    0    0    0    0    0    0    0    0    0    0    0   \n",
              "U04    0    0    0    0    1    0    0    0    0    0    0    0    0    0   \n",
              "U05    0    0    0    1    0    0    0    0    0    0    0    0    0    0   \n",
              "U06    0    0    0    0    0    0    1    1    1    0    0    0    0    0   \n",
              "U07    0    0    0    0    0    1    0    1    1    0    0    0    0    0   \n",
              "U08    0    0    0    0    0    1    1    0    1    0    0    0    0    0   \n",
              "U09    0    0    0    0    0    1    1    1    0    1    1    0    0    0   \n",
              "U10    0    0    0    0    0    0    0    0    1    0    1    0    0    0   \n",
              "U11    1    0    0    0    0    0    0    0    1    1    0    1    1    0   \n",
              "U12    0    0    0    0    0    0    0    0    0    0    1    0    1    0   \n",
              "U13    0    0    0    0    0    0    0    0    0    0    1    1    0    1   \n",
              "U14    0    0    0    0    0    0    0    0    0    0    0    0    1    0   \n",
              "U15    0    0    0    0    0    0    0    0    0    0    0    0    0    1   \n",
              "U16    0    0    0    0    0    0    0    0    0    0    0    0    0    1   \n",
              "U17    0    0    0    0    0    0    0    0    0    0    0    0    1    1   \n",
              "U18    0    0    0    0    0    0    0    0    0    0    0    0    0    0   \n",
              "U19    0    0    0    0    0    1    0    0    0    0    0    0    0    0   \n",
              "U20    0    0    0    1    1    1    0    0    0    0    0    0    0    0   \n",
              "\n",
              "     U15  U16  U17  U18  U19  U20  \n",
              "U01    0    0    0    0    0    0  \n",
              "U02    0    0    0    0    0    0  \n",
              "U03    0    0    0    0    0    0  \n",
              "U04    0    0    0    0    0    1  \n",
              "U05    0    0    0    0    0    1  \n",
              "U06    0    0    0    0    1    1  \n",
              "U07    0    0    0    0    0    0  \n",
              "U08    0    0    0    0    0    0  \n",
              "U09    0    0    0    0    0    0  \n",
              "U10    0    0    0    0    0    0  \n",
              "U11    0    0    0    0    0    0  \n",
              "U12    0    0    0    0    0    0  \n",
              "U13    0    0    1    0    0    0  \n",
              "U14    1    1    1    0    0    0  \n",
              "U15    0    1    0    0    0    0  \n",
              "U16    1    0    1    1    1    0  \n",
              "U17    0    1    0    1    1    0  \n",
              "U18    0    1    1    0    1    0  \n",
              "U19    0    1    1    1    0    1  \n",
              "U20    0    0    0    0    1    0  "
            ]
          },
          "execution_count": 50,
          "metadata": {},
          "output_type": "execute_result"
        }
      ],
      "source": [
        "U_matrix = df2_edge.iloc[:,1:]\n",
        "U_matrix = U_matrix.T.dot(U_matrix)\n",
        "np.fill_diagonal(U_matrix.values, 0)\n",
        "U_matrix"
      ]
    },
    {
      "cell_type": "code",
      "execution_count": 51,
      "metadata": {
        "colab": {
          "base_uri": "https://localhost:8080/"
        },
        "id": "5bT2rafqqYOD",
        "outputId": "19861a6f-34c0-4829-9a06-4a91afa0eb56"
      },
      "outputs": [
        {
          "name": "stdout",
          "output_type": "stream",
          "text": [
            "['U01', 'U02', 'U03', 'U04', 'U05', 'U06', 'U07', 'U08', 'U09', 'U10', 'U11', 'U12', 'U13', 'U14', 'U15', 'U16', 'U17', 'U18', 'U19', 'U20']\n"
          ]
        }
      ],
      "source": [
        "node_u = list(df2_edge.columns[1:])\n",
        "print(node_u)"
      ]
    },
    {
      "cell_type": "code",
      "execution_count": 52,
      "metadata": {
        "colab": {
          "base_uri": "https://localhost:8080/",
          "height": 538
        },
        "id": "KmMGY19nqmjQ",
        "outputId": "ebca1c85-0081-46c6-9c27-9cb9f55731b5"
      },
      "outputs": [],
      "source": [
        "adjacency_u = adjacency_matrix(node_u, U_matrix, df2_node)\n",
        "adjacency_u.show('./html/adjacency_u.html')\n",
        "#colab可以解開直接看\n",
        "# IPython.display.HTML('./html/adjacency_u.html')"
      ]
    }
  ],
  "metadata": {
    "colab": {
      "collapsed_sections": [],
      "name": "week13_en.ipynb",
      "provenance": []
    },
    "kernelspec": {
      "display_name": "Python 3",
      "name": "python3"
    },
    "language_info": {
      "codemirror_mode": {
        "name": "ipython",
        "version": 3
      },
      "file_extension": ".py",
      "mimetype": "text/x-python",
      "name": "python",
      "nbconvert_exporter": "python",
      "pygments_lexer": "ipython3",
      "version": "3.9.6"
    }
  },
  "nbformat": 4,
  "nbformat_minor": 0
}
