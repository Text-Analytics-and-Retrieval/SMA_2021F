{
 "cells": [
  {
   "cell_type": "markdown",
   "id": "8b1a847b",
   "metadata": {},
   "source": [
    "# 期末專案：針對華燈初上之主題探討\n",
    "\n",
    "**Autor:** Group8 林昱秀、龔紫雲、周映君、蔡旻蓉 <br>\n",
    "**Date Created:** 2021/01/15<br>\n",
    "**Last Modified:** 2021/01/17 <br>\n",
    "\n",
    "本次專案將針對「華燈初上」於PTT上的討論，進行社群上的圖學分析與應用。  \n",
    "本次專案將先透過LDA為資料進行主題分析，再以不同角度、主題對社群進行篩選，進行網路分析。 "
   ]
  },
  {
   "cell_type": "markdown",
   "id": "68909136",
   "metadata": {},
   "source": [
    "## 專案動機\n",
    "從去年一路至今，「華燈初上」此戲劇於Netflix上造成一波轟動，除了聚集了台灣許多大牌戲劇演員齊聚一堂外，緊湊而具年代感的劇情鋪陳，更是讓全台灣陷入一陣討論劇情及誰是兇手的瘋狂中。而在網路平台上有許多網友爭相討論劇中角色、劇情、以及推論到底誰會是兇手，關於華燈初上的主題討論，網友各自有其擁護及指認的角色。\n",
    "\n",
    "而我們也因應此新興主題，以戲劇中會出現的人名、情境等資訊加入自定義的詞典之中，加強後續分析的準確性。另一方面，本次專案使用LDA了解發文主題的分佈，進行主題分類討論分析外；也使用N-gram字詞相關網路圖，以此了解有哪些關鍵字間具有高度關聯性。之後我們以日期、主題進行篩選，抓出社群網路中主要的討論者。最後再探討討論之文章其推、噓程度為何。"
   ]
  },
  {
   "cell_type": "markdown",
   "id": "ae2f094f",
   "metadata": {},
   "source": [
    "## 大綱\n",
    "\n",
    "- 1. 載入套件\n",
    "- 2. 資料前處理\n",
    "    - 2.1 基本資料介紹\n",
    "    - 2.2 資料清理\n",
    "    - 2.3 文章斷詞與整理，及建立字典\n",
    "- 3. LDA\n",
    "    - 3.1 LDA資料準備\n",
    "    - 3.2 建立LDA\n",
    "    - 3.3 判斷每筆資料之發文主題\n",
    "    - 3.4 資料內容探索及每日主題分佈\n",
    "    - 3.5 N-gram 字詞相關網路圖\n",
    "- 4. 社群網路圖\n",
    "    - 4.1 基本網路圖\n",
    "    - 4.2 資料篩選\n",
    "    - 4.3 以日期篩選社群\n",
    "    - 4.4 以主題篩選社群\n",
    "    - 4.5 使用者是否受到歡迎"
   ]
  },
  {
   "cell_type": "markdown",
   "id": "69d73709",
   "metadata": {},
   "source": [
    "## 分析目標\n",
    "分析主題：2021/11/22 ~ 2022/01/15 期間，PTT上對於「華燈初上」的討論及留言。\n",
    "\n",
    "> 這次我們針對台劇華燈初上，討論ptt版上相關討論的發文風向，主要針對以下方向分析：  \n",
    "1.華燈初上的討論重點有哪些? 主要分為哪幾種風向?  \n",
    "2.風向最偏哪邊?  \n",
    "3.討論此戲劇的社群網路如何分布?  \n",
    "4.討論此戲劇的意見領袖有誰?網友的推噓狀態如何?"
   ]
  },
  {
   "cell_type": "code",
   "execution_count": 1,
   "id": "890c7006",
   "metadata": {},
   "outputs": [
    {
     "data": {
      "text/plain": [
       "'/Users/caiminrong/Downloads/期末報告G8'"
      ]
     },
     "execution_count": 1,
     "metadata": {},
     "output_type": "execute_result"
    }
   ],
   "source": [
    "%pwd"
   ]
  },
  {
   "cell_type": "markdown",
   "id": "f2056b2b",
   "metadata": {},
   "source": [
    "## 1. 載入套件"
   ]
  },
  {
   "cell_type": "code",
   "execution_count": 2,
   "id": "07eed916",
   "metadata": {},
   "outputs": [],
   "source": [
    "import pandas as pd\n",
    "import numpy as np\n",
    "import matplotlib.pyplot as plt \n",
    "import matplotlib\n",
    "import re\n",
    "import jieba\n",
    "import jieba.analyse\n",
    "from datetime import datetime\n",
    "from wordcloud import WordCloud \n",
    "import math\n",
    "from nltk import ngrams\n",
    "from collections import defaultdict\n",
    "from nltk import FreqDist\n",
    "from collections import Counter, namedtuple\n",
    "import networkx as nx\n",
    "from sklearn.feature_extraction.text import CountVectorizer,TfidfTransformer\n",
    "from numpy.linalg import norm\n",
    "import gensim\n",
    "from gensim.models import CoherenceModel\n",
    "from gensim import corpora\n",
    "import pyLDAvis.gensim_models"
   ]
  },
  {
   "cell_type": "code",
   "execution_count": 3,
   "id": "d05f8b01",
   "metadata": {},
   "outputs": [
    {
     "name": "stderr",
     "output_type": "stream",
     "text": [
      "/Users/caiminrong/opt/anaconda3/lib/python3.8/site-packages/ipykernel/ipkernel.py:287: DeprecationWarning: `should_run_async` will not call `transform_cell` automatically in the future. Please pass the result to `transformed_cell` argument and any exception that happen during thetransform in `preprocessing_exc_tuple` in IPython 7.17 and above.\n",
      "  and should_run_async(code)\n"
     ]
    }
   ],
   "source": [
    "# 移除警告語，視覺上比較乾淨\n",
    "import warnings\n",
    "warnings.filterwarnings(\"ignore\", category=DeprecationWarning)"
   ]
  },
  {
   "cell_type": "code",
   "execution_count": 4,
   "id": "9a49c340",
   "metadata": {},
   "outputs": [],
   "source": [
    "plt.rcParams['font.sans-serif']=['SimHei'] #使圖中中文能正常顯示\n",
    "plt.rcParams['axes.unicode_minus']=False #使負號能夠顯示"
   ]
  },
  {
   "cell_type": "markdown",
   "id": "5129fda3",
   "metadata": {},
   "source": [
    "## 2.資料前處理"
   ]
  },
  {
   "cell_type": "markdown",
   "id": "7b06cf38",
   "metadata": {},
   "source": [
    "### 2.1 基本資料介紹\n",
    "- 資料來源: 文字平台收集PTT 台劇版2021/11/22 ~ 2022/01/15  所有文章\n",
    "- 資料集： light_articleMetaData.csv; light_articleReviews.csv\n",
    "- 關鍵字：華燈初上,蘿絲,Rose,羅雨儂,蘇慶儀,愛子,阿季,蘇媽媽,Netflix,網飛,光,ヒカリ\n",
    "- 資料時間：2021/11/22 ~ 2022/01/15 \n",
    "- 資料筆數：共 10327 篇文章"
   ]
  },
  {
   "cell_type": "code",
   "execution_count": 5,
   "id": "76bd3ff3",
   "metadata": {},
   "outputs": [],
   "source": [
    "#匯入資料\n",
    "MetaData = pd.read_csv('./light_articleMetaData.csv', encoding='UTF-8')\n",
    "Reviews = pd.read_csv('./light_articleReviews.csv', encoding='UTF-8')"
   ]
  },
  {
   "cell_type": "code",
   "execution_count": 6,
   "id": "ece3308f",
   "metadata": {},
   "outputs": [
    {
     "data": {
      "text/html": [
       "<div>\n",
       "<style scoped>\n",
       "    .dataframe tbody tr th:only-of-type {\n",
       "        vertical-align: middle;\n",
       "    }\n",
       "\n",
       "    .dataframe tbody tr th {\n",
       "        vertical-align: top;\n",
       "    }\n",
       "\n",
       "    .dataframe thead th {\n",
       "        text-align: right;\n",
       "    }\n",
       "</style>\n",
       "<table border=\"1\" class=\"dataframe\">\n",
       "  <thead>\n",
       "    <tr style=\"text-align: right;\">\n",
       "      <th></th>\n",
       "      <th>artTitle</th>\n",
       "      <th>artDate</th>\n",
       "      <th>artTime</th>\n",
       "      <th>artUrl</th>\n",
       "      <th>artPoster</th>\n",
       "      <th>artCat</th>\n",
       "      <th>commentNum</th>\n",
       "      <th>push</th>\n",
       "      <th>boo</th>\n",
       "      <th>sentence</th>\n",
       "    </tr>\n",
       "  </thead>\n",
       "  <tbody>\n",
       "    <tr>\n",
       "      <th>0</th>\n",
       "      <td>[討論]無神之地不下雨到第七集的猜測</td>\n",
       "      <td>2021/11/22</td>\n",
       "      <td>00:09:16</td>\n",
       "      <td>https://www.ptt.cc/bbs/TaiwanDrama/M.163753975...</td>\n",
       "      <td>cofee</td>\n",
       "      <td>TaiwanDrama</td>\n",
       "      <td>32</td>\n",
       "      <td>20</td>\n",
       "      <td>0</td>\n",
       "      <td>雖然已看到最新\\n\\n但應該沒有第七集的雷\\n\\n純粹猜測 現在Fali的想法\\n\\n在月台...</td>\n",
       "    </tr>\n",
       "    <tr>\n",
       "      <th>1</th>\n",
       "      <td>[無神]無神之地不下雨1-7集隨便聊</td>\n",
       "      <td>2021/11/23</td>\n",
       "      <td>05:31:39</td>\n",
       "      <td>https://www.ptt.cc/bbs/TaiwanDrama/M.163764550...</td>\n",
       "      <td>bomito</td>\n",
       "      <td>TaiwanDrama</td>\n",
       "      <td>42</td>\n",
       "      <td>16</td>\n",
       "      <td>0</td>\n",
       "      <td>閒聊前的閒聊～\\n\\n這一部其實剛開播時看了半集直接棄劇\\n覺得雖然是劇情需要，但男主角雨之...</td>\n",
       "    </tr>\n",
       "    <tr>\n",
       "      <th>2</th>\n",
       "      <td>[新聞]章廣辰、修杰楷「刑偵」聯手調查神秘無名屍案</td>\n",
       "      <td>2021/11/23</td>\n",
       "      <td>17:09:57</td>\n",
       "      <td>https://www.ptt.cc/bbs/TaiwanDrama/M.163768740...</td>\n",
       "      <td>ttnakafzcm</td>\n",
       "      <td>TaiwanDrama</td>\n",
       "      <td>0</td>\n",
       "      <td>0</td>\n",
       "      <td>0</td>\n",
       "      <td>章廣辰、修杰楷「刑偵」聯手調查神秘無名屍案\\n\\nNetflix攜手百聿數碼推出旗艦懸疑影集...</td>\n",
       "    </tr>\n",
       "    <tr>\n",
       "      <th>3</th>\n",
       "      <td>[情報]《我願意》2021年金馬影展首映全紀實、影評推薦</td>\n",
       "      <td>2021/11/24</td>\n",
       "      <td>07:58:18</td>\n",
       "      <td>https://www.ptt.cc/bbs/TaiwanDrama/M.163774070...</td>\n",
       "      <td>AmyLien</td>\n",
       "      <td>TaiwanDrama</td>\n",
       "      <td>1</td>\n",
       "      <td>1</td>\n",
       "      <td>0</td>\n",
       "      <td>《The Amazing Grace of Σ》《我願意》2021年金馬影展首映全紀實\\nh...</td>\n",
       "    </tr>\n",
       "    <tr>\n",
       "      <th>4</th>\n",
       "      <td>[新聞]于子育自嘲「吻仔魚腦」錯把曾之喬叫成「天心」</td>\n",
       "      <td>2021/11/24</td>\n",
       "      <td>16:27:54</td>\n",
       "      <td>https://www.ptt.cc/bbs/TaiwanDrama/M.163777127...</td>\n",
       "      <td>ttnakafzcm</td>\n",
       "      <td>TaiwanDrama</td>\n",
       "      <td>4</td>\n",
       "      <td>2</td>\n",
       "      <td>0</td>\n",
       "      <td>于子育自嘲「吻仔魚腦」 錯把曾之喬叫成「天心」\\n\\n愛奇藝、華視、八大電視共同推出的《無神...</td>\n",
       "    </tr>\n",
       "  </tbody>\n",
       "</table>\n",
       "</div>"
      ],
      "text/plain": [
       "                       artTitle     artDate   artTime  \\\n",
       "0            [討論]無神之地不下雨到第七集的猜測  2021/11/22  00:09:16   \n",
       "1            [無神]無神之地不下雨1-7集隨便聊  2021/11/23  05:31:39   \n",
       "2     [新聞]章廣辰、修杰楷「刑偵」聯手調查神秘無名屍案  2021/11/23  17:09:57   \n",
       "3  [情報]《我願意》2021年金馬影展首映全紀實、影評推薦  2021/11/24  07:58:18   \n",
       "4    [新聞]于子育自嘲「吻仔魚腦」錯把曾之喬叫成「天心」  2021/11/24  16:27:54   \n",
       "\n",
       "                                              artUrl   artPoster       artCat  \\\n",
       "0  https://www.ptt.cc/bbs/TaiwanDrama/M.163753975...       cofee  TaiwanDrama   \n",
       "1  https://www.ptt.cc/bbs/TaiwanDrama/M.163764550...      bomito  TaiwanDrama   \n",
       "2  https://www.ptt.cc/bbs/TaiwanDrama/M.163768740...  ttnakafzcm  TaiwanDrama   \n",
       "3  https://www.ptt.cc/bbs/TaiwanDrama/M.163774070...     AmyLien  TaiwanDrama   \n",
       "4  https://www.ptt.cc/bbs/TaiwanDrama/M.163777127...  ttnakafzcm  TaiwanDrama   \n",
       "\n",
       "   commentNum  push  boo                                           sentence  \n",
       "0          32    20    0  雖然已看到最新\\n\\n但應該沒有第七集的雷\\n\\n純粹猜測 現在Fali的想法\\n\\n在月台...  \n",
       "1          42    16    0  閒聊前的閒聊～\\n\\n這一部其實剛開播時看了半集直接棄劇\\n覺得雖然是劇情需要，但男主角雨之...  \n",
       "2           0     0    0  章廣辰、修杰楷「刑偵」聯手調查神秘無名屍案\\n\\nNetflix攜手百聿數碼推出旗艦懸疑影集...  \n",
       "3           1     1    0  《The Amazing Grace of Σ》《我願意》2021年金馬影展首映全紀實\\nh...  \n",
       "4           4     2    0  于子育自嘲「吻仔魚腦」 錯把曾之喬叫成「天心」\\n\\n愛奇藝、華視、八大電視共同推出的《無神...  "
      ]
     },
     "execution_count": 6,
     "metadata": {},
     "output_type": "execute_result"
    }
   ],
   "source": [
    "MetaData.head(5)"
   ]
  },
  {
   "cell_type": "code",
   "execution_count": 7,
   "id": "aca012f7",
   "metadata": {},
   "outputs": [],
   "source": [
    "# 再篩一次文章\n",
    "keywords = ['華燈初上','蘿絲','Rose','羅雨儂','蘇慶儀','愛子','阿季','蘇媽媽','Netflix','網飛','光','ヒカリ']\n",
    "toMatch = '|'.join(keywords)\n"
   ]
  },
  {
   "cell_type": "code",
   "execution_count": 8,
   "id": "16b6fb61",
   "metadata": {},
   "outputs": [
    {
     "name": "stdout",
     "output_type": "stream",
     "text": [
      "(168, 10)\n"
     ]
    }
   ],
   "source": [
    "MetaData = MetaData.loc[MetaData['sentence'].str.contains(toMatch) | MetaData['artTitle'].str.contains(toMatch), :]\n",
    "MetaData.reset_index(inplace=True, drop=True) #重設index\n",
    "print(MetaData.shape)"
   ]
  },
  {
   "cell_type": "code",
   "execution_count": 9,
   "id": "d153451c",
   "metadata": {},
   "outputs": [],
   "source": [
    "MetaData['sum']=MetaData['push']+MetaData['boo']"
   ]
  },
  {
   "cell_type": "code",
   "execution_count": 10,
   "id": "ddb8134e",
   "metadata": {},
   "outputs": [
    {
     "data": {
      "text/html": [
       "<div>\n",
       "<style scoped>\n",
       "    .dataframe tbody tr th:only-of-type {\n",
       "        vertical-align: middle;\n",
       "    }\n",
       "\n",
       "    .dataframe tbody tr th {\n",
       "        vertical-align: top;\n",
       "    }\n",
       "\n",
       "    .dataframe thead th {\n",
       "        text-align: right;\n",
       "    }\n",
       "</style>\n",
       "<table border=\"1\" class=\"dataframe\">\n",
       "  <thead>\n",
       "    <tr style=\"text-align: right;\">\n",
       "      <th></th>\n",
       "      <th>artTitle</th>\n",
       "      <th>artDate</th>\n",
       "      <th>artTime</th>\n",
       "      <th>artUrl</th>\n",
       "      <th>artPoster</th>\n",
       "      <th>artCat</th>\n",
       "      <th>commentNum</th>\n",
       "      <th>push</th>\n",
       "      <th>boo</th>\n",
       "      <th>sentence</th>\n",
       "      <th>sum</th>\n",
       "    </tr>\n",
       "  </thead>\n",
       "  <tbody>\n",
       "    <tr>\n",
       "      <th>0</th>\n",
       "      <td>[討論]無神之地不下雨到第七集的猜測</td>\n",
       "      <td>2021/11/22</td>\n",
       "      <td>00:09:16</td>\n",
       "      <td>https://www.ptt.cc/bbs/TaiwanDrama/M.163753975...</td>\n",
       "      <td>cofee</td>\n",
       "      <td>TaiwanDrama</td>\n",
       "      <td>32</td>\n",
       "      <td>20</td>\n",
       "      <td>0</td>\n",
       "      <td>雖然已看到最新\\n\\n但應該沒有第七集的雷\\n\\n純粹猜測 現在Fali的想法\\n\\n在月台...</td>\n",
       "      <td>20</td>\n",
       "    </tr>\n",
       "    <tr>\n",
       "      <th>1</th>\n",
       "      <td>[無神]無神之地不下雨1-7集隨便聊</td>\n",
       "      <td>2021/11/23</td>\n",
       "      <td>05:31:39</td>\n",
       "      <td>https://www.ptt.cc/bbs/TaiwanDrama/M.163764550...</td>\n",
       "      <td>bomito</td>\n",
       "      <td>TaiwanDrama</td>\n",
       "      <td>42</td>\n",
       "      <td>16</td>\n",
       "      <td>0</td>\n",
       "      <td>閒聊前的閒聊～\\n\\n這一部其實剛開播時看了半集直接棄劇\\n覺得雖然是劇情需要，但男主角雨之...</td>\n",
       "      <td>16</td>\n",
       "    </tr>\n",
       "    <tr>\n",
       "      <th>2</th>\n",
       "      <td>[新聞]章廣辰、修杰楷「刑偵」聯手調查神秘無名屍案</td>\n",
       "      <td>2021/11/23</td>\n",
       "      <td>17:09:57</td>\n",
       "      <td>https://www.ptt.cc/bbs/TaiwanDrama/M.163768740...</td>\n",
       "      <td>ttnakafzcm</td>\n",
       "      <td>TaiwanDrama</td>\n",
       "      <td>0</td>\n",
       "      <td>0</td>\n",
       "      <td>0</td>\n",
       "      <td>章廣辰、修杰楷「刑偵」聯手調查神秘無名屍案\\n\\nNetflix攜手百聿數碼推出旗艦懸疑影集...</td>\n",
       "      <td>0</td>\n",
       "    </tr>\n",
       "    <tr>\n",
       "      <th>3</th>\n",
       "      <td>[情報]《我願意》2021年金馬影展首映全紀實、影評推薦</td>\n",
       "      <td>2021/11/24</td>\n",
       "      <td>07:58:18</td>\n",
       "      <td>https://www.ptt.cc/bbs/TaiwanDrama/M.163774070...</td>\n",
       "      <td>AmyLien</td>\n",
       "      <td>TaiwanDrama</td>\n",
       "      <td>1</td>\n",
       "      <td>1</td>\n",
       "      <td>0</td>\n",
       "      <td>《The Amazing Grace of Σ》《我願意》2021年金馬影展首映全紀實\\nh...</td>\n",
       "      <td>1</td>\n",
       "    </tr>\n",
       "    <tr>\n",
       "      <th>4</th>\n",
       "      <td>[新聞]于子育自嘲「吻仔魚腦」錯把曾之喬叫成「天心」</td>\n",
       "      <td>2021/11/24</td>\n",
       "      <td>16:27:54</td>\n",
       "      <td>https://www.ptt.cc/bbs/TaiwanDrama/M.163777127...</td>\n",
       "      <td>ttnakafzcm</td>\n",
       "      <td>TaiwanDrama</td>\n",
       "      <td>4</td>\n",
       "      <td>2</td>\n",
       "      <td>0</td>\n",
       "      <td>于子育自嘲「吻仔魚腦」 錯把曾之喬叫成「天心」\\n\\n愛奇藝、華視、八大電視共同推出的《無神...</td>\n",
       "      <td>2</td>\n",
       "    </tr>\n",
       "  </tbody>\n",
       "</table>\n",
       "</div>"
      ],
      "text/plain": [
       "                       artTitle     artDate   artTime  \\\n",
       "0            [討論]無神之地不下雨到第七集的猜測  2021/11/22  00:09:16   \n",
       "1            [無神]無神之地不下雨1-7集隨便聊  2021/11/23  05:31:39   \n",
       "2     [新聞]章廣辰、修杰楷「刑偵」聯手調查神秘無名屍案  2021/11/23  17:09:57   \n",
       "3  [情報]《我願意》2021年金馬影展首映全紀實、影評推薦  2021/11/24  07:58:18   \n",
       "4    [新聞]于子育自嘲「吻仔魚腦」錯把曾之喬叫成「天心」  2021/11/24  16:27:54   \n",
       "\n",
       "                                              artUrl   artPoster       artCat  \\\n",
       "0  https://www.ptt.cc/bbs/TaiwanDrama/M.163753975...       cofee  TaiwanDrama   \n",
       "1  https://www.ptt.cc/bbs/TaiwanDrama/M.163764550...      bomito  TaiwanDrama   \n",
       "2  https://www.ptt.cc/bbs/TaiwanDrama/M.163768740...  ttnakafzcm  TaiwanDrama   \n",
       "3  https://www.ptt.cc/bbs/TaiwanDrama/M.163774070...     AmyLien  TaiwanDrama   \n",
       "4  https://www.ptt.cc/bbs/TaiwanDrama/M.163777127...  ttnakafzcm  TaiwanDrama   \n",
       "\n",
       "   commentNum  push  boo                                           sentence  \\\n",
       "0          32    20    0  雖然已看到最新\\n\\n但應該沒有第七集的雷\\n\\n純粹猜測 現在Fali的想法\\n\\n在月台...   \n",
       "1          42    16    0  閒聊前的閒聊～\\n\\n這一部其實剛開播時看了半集直接棄劇\\n覺得雖然是劇情需要，但男主角雨之...   \n",
       "2           0     0    0  章廣辰、修杰楷「刑偵」聯手調查神秘無名屍案\\n\\nNetflix攜手百聿數碼推出旗艦懸疑影集...   \n",
       "3           1     1    0  《The Amazing Grace of Σ》《我願意》2021年金馬影展首映全紀實\\nh...   \n",
       "4           4     2    0  于子育自嘲「吻仔魚腦」 錯把曾之喬叫成「天心」\\n\\n愛奇藝、華視、八大電視共同推出的《無神...   \n",
       "\n",
       "   sum  \n",
       "0   20  \n",
       "1   16  \n",
       "2    0  \n",
       "3    1  \n",
       "4    2  "
      ]
     },
     "execution_count": 10,
     "metadata": {},
     "output_type": "execute_result"
    }
   ],
   "source": [
    "MetaData.head(5)"
   ]
  },
  {
   "cell_type": "code",
   "execution_count": 11,
   "id": "80e26aee",
   "metadata": {},
   "outputs": [],
   "source": [
    "MetaData['sum'] = MetaData['sum'].astype(int)"
   ]
  },
  {
   "cell_type": "code",
   "execution_count": 12,
   "id": "d22d65e2",
   "metadata": {},
   "outputs": [],
   "source": [
    "MetaData = MetaData.drop(MetaData[MetaData['sum'] < 30].index)"
   ]
  },
  {
   "cell_type": "code",
   "execution_count": 13,
   "id": "e7bde3ba",
   "metadata": {},
   "outputs": [
    {
     "data": {
      "text/html": [
       "<div>\n",
       "<style scoped>\n",
       "    .dataframe tbody tr th:only-of-type {\n",
       "        vertical-align: middle;\n",
       "    }\n",
       "\n",
       "    .dataframe tbody tr th {\n",
       "        vertical-align: top;\n",
       "    }\n",
       "\n",
       "    .dataframe thead th {\n",
       "        text-align: right;\n",
       "    }\n",
       "</style>\n",
       "<table border=\"1\" class=\"dataframe\">\n",
       "  <thead>\n",
       "    <tr style=\"text-align: right;\">\n",
       "      <th></th>\n",
       "      <th>artTitle</th>\n",
       "      <th>artDate</th>\n",
       "      <th>artTime</th>\n",
       "      <th>artUrl</th>\n",
       "      <th>artPoster</th>\n",
       "      <th>artCat</th>\n",
       "      <th>commentNum</th>\n",
       "      <th>push</th>\n",
       "      <th>boo</th>\n",
       "      <th>sentence</th>\n",
       "      <th>sum</th>\n",
       "    </tr>\n",
       "  </thead>\n",
       "  <tbody>\n",
       "    <tr>\n",
       "      <th>7</th>\n",
       "      <td>[LIVE]《華燈初上》NETFLIX11/2616:00第一部</td>\n",
       "      <td>2021/11/26</td>\n",
       "      <td>05:21:14</td>\n",
       "      <td>https://www.ptt.cc/bbs/TaiwanDrama/M.163790407...</td>\n",
       "      <td>YRanger</td>\n",
       "      <td>TaiwanDrama</td>\n",
       "      <td>432</td>\n",
       "      <td>271</td>\n",
       "      <td>3</td>\n",
       "      <td>華燈初上  NETFLIX\\nhttps://www.netflix.com/title/8...</td>\n",
       "      <td>274</td>\n",
       "    </tr>\n",
       "    <tr>\n",
       "      <th>8</th>\n",
       "      <td>[討論]華燈初上第一季(雷)</td>\n",
       "      <td>2021/11/27</td>\n",
       "      <td>05:50:32</td>\n",
       "      <td>https://www.ptt.cc/bbs/TaiwanDrama/M.163799223...</td>\n",
       "      <td>zorgYen</td>\n",
       "      <td>TaiwanDrama</td>\n",
       "      <td>119</td>\n",
       "      <td>70</td>\n",
       "      <td>0</td>\n",
       "      <td>昨晚一口氣就追完八集，覺得編劇蠻厲害的，\\n雖然時間幕跳來跳去，會讓人邊想排序一下。\\n而且...</td>\n",
       "      <td>70</td>\n",
       "    </tr>\n",
       "    <tr>\n",
       "      <th>9</th>\n",
       "      <td>[討論]華燈初上（有雷</td>\n",
       "      <td>2021/11/27</td>\n",
       "      <td>08:31:36</td>\n",
       "      <td>https://www.ptt.cc/bbs/TaiwanDrama/M.163800189...</td>\n",
       "      <td>vivian0515</td>\n",
       "      <td>TaiwanDrama</td>\n",
       "      <td>316</td>\n",
       "      <td>133</td>\n",
       "      <td>0</td>\n",
       "      <td>先吐槽一下：\\n我昨天一口氣的看完了八集\\n只能說有點失望 但是有點不知道失望感從何而來\\n...</td>\n",
       "      <td>133</td>\n",
       "    </tr>\n",
       "    <tr>\n",
       "      <th>11</th>\n",
       "      <td>[閒聊]華燈初上最喜歡哪個角色？</td>\n",
       "      <td>2021/11/28</td>\n",
       "      <td>14:53:54</td>\n",
       "      <td>https://www.ptt.cc/bbs/TaiwanDrama/M.163811123...</td>\n",
       "      <td>lovely0930</td>\n",
       "      <td>TaiwanDrama</td>\n",
       "      <td>216</td>\n",
       "      <td>134</td>\n",
       "      <td>0</td>\n",
       "      <td>有劇情雷\\n請觀賞過後再觀看\\n\\n\\n\\n\\n\\n\\n\\n\\n\\n\\n\\n\\n\\n\\n\\n...</td>\n",
       "      <td>134</td>\n",
       "    </tr>\n",
       "    <tr>\n",
       "      <th>12</th>\n",
       "      <td>[心得]華燈初上-林森北路上的雙姝怨</td>\n",
       "      <td>2021/11/28</td>\n",
       "      <td>23:16:41</td>\n",
       "      <td>https://www.ptt.cc/bbs/TaiwanDrama/M.163814140...</td>\n",
       "      <td>MBAR</td>\n",
       "      <td>TaiwanDrama</td>\n",
       "      <td>335</td>\n",
       "      <td>110</td>\n",
       "      <td>5</td>\n",
       "      <td>老實說一開始看到這部劇的卡司還有製作人的時候\\n\\n我是很擔心的。\\n\\n大家都知道林心如過...</td>\n",
       "      <td>115</td>\n",
       "    </tr>\n",
       "    <tr>\n",
       "      <th>...</th>\n",
       "      <td>...</td>\n",
       "      <td>...</td>\n",
       "      <td>...</td>\n",
       "      <td>...</td>\n",
       "      <td>...</td>\n",
       "      <td>...</td>\n",
       "      <td>...</td>\n",
       "      <td>...</td>\n",
       "      <td>...</td>\n",
       "      <td>...</td>\n",
       "      <td>...</td>\n",
       "    </tr>\n",
       "    <tr>\n",
       "      <th>146</th>\n",
       "      <td>[請益]求大家推薦類似華燈初上的影集</td>\n",
       "      <td>2022/01/08</td>\n",
       "      <td>14:26:42</td>\n",
       "      <td>https://www.ptt.cc/bbs/TaiwanDrama/M.164165200...</td>\n",
       "      <td>laiteng0105</td>\n",
       "      <td>TaiwanDrama</td>\n",
       "      <td>56</td>\n",
       "      <td>39</td>\n",
       "      <td>0</td>\n",
       "      <td>最近看了華燈覺得超讚的\\n不管服裝場景設計 配樂全部都非常剛好\\n想問大家有推薦類似這樣的台...</td>\n",
       "      <td>39</td>\n",
       "    </tr>\n",
       "    <tr>\n",
       "      <th>153</th>\n",
       "      <td>[華燈]華燈初上第二季最後一幕後照鏡雷</td>\n",
       "      <td>2022/01/09</td>\n",
       "      <td>15:00:54</td>\n",
       "      <td>https://www.ptt.cc/bbs/TaiwanDrama/M.164174045...</td>\n",
       "      <td>InfocusM510</td>\n",
       "      <td>TaiwanDrama</td>\n",
       "      <td>111</td>\n",
       "      <td>81</td>\n",
       "      <td>0</td>\n",
       "      <td>有雷\\n\\n有雷\\n\\n有雷\\n\\n\\n\\n\\n\\n\\n\\n\\n\\n\\n華燈初上第二季最後一...</td>\n",
       "      <td>81</td>\n",
       "    </tr>\n",
       "    <tr>\n",
       "      <th>155</th>\n",
       "      <td>[討論]華燈初上不負責任猜測</td>\n",
       "      <td>2022/01/10</td>\n",
       "      <td>09:02:41</td>\n",
       "      <td>https://www.ptt.cc/bbs/TaiwanDrama/M.164180536...</td>\n",
       "      <td>pwl</td>\n",
       "      <td>TaiwanDrama</td>\n",
       "      <td>100</td>\n",
       "      <td>30</td>\n",
       "      <td>0</td>\n",
       "      <td>人在日本，剛看完兩季華燈，好想分享一下心得和一點推理\\n\\n首先要讚美一下這部戲的質感，\\n...</td>\n",
       "      <td>30</td>\n",
       "    </tr>\n",
       "    <tr>\n",
       "      <th>157</th>\n",
       "      <td>[討論]演員真的都會抽菸嗎?</td>\n",
       "      <td>2022/01/11</td>\n",
       "      <td>03:50:56</td>\n",
       "      <td>https://www.ptt.cc/bbs/TaiwanDrama/M.164187305...</td>\n",
       "      <td>QchchQ</td>\n",
       "      <td>TaiwanDrama</td>\n",
       "      <td>176</td>\n",
       "      <td>68</td>\n",
       "      <td>3</td>\n",
       "      <td>看完華燈初上\\n\\n可能時代背景跟職業關西\\n\\n幾乎每個人人手一支菸\\n\\n看起來也不是點...</td>\n",
       "      <td>71</td>\n",
       "    </tr>\n",
       "    <tr>\n",
       "      <th>162</th>\n",
       "      <td>[閒聊]《華燈初上》S2最讓人出戲的角色</td>\n",
       "      <td>2022/01/12</td>\n",
       "      <td>12:18:16</td>\n",
       "      <td>https://www.ptt.cc/bbs/TaiwanDrama/M.164198989...</td>\n",
       "      <td>kiradu</td>\n",
       "      <td>TaiwanDrama</td>\n",
       "      <td>77</td>\n",
       "      <td>35</td>\n",
       "      <td>2</td>\n",
       "      <td>《華燈初上》在第二季又加入了許多新的角色，姑且先不論劇情，單就角色表現而言，大\\n家覺得哪些...</td>\n",
       "      <td>37</td>\n",
       "    </tr>\n",
       "  </tbody>\n",
       "</table>\n",
       "<p>66 rows × 11 columns</p>\n",
       "</div>"
      ],
      "text/plain": [
       "                             artTitle     artDate   artTime  \\\n",
       "7    [LIVE]《華燈初上》NETFLIX11/2616:00第一部  2021/11/26  05:21:14   \n",
       "8                      [討論]華燈初上第一季(雷)  2021/11/27  05:50:32   \n",
       "9                         [討論]華燈初上（有雷  2021/11/27  08:31:36   \n",
       "11                   [閒聊]華燈初上最喜歡哪個角色？  2021/11/28  14:53:54   \n",
       "12                 [心得]華燈初上-林森北路上的雙姝怨  2021/11/28  23:16:41   \n",
       "..                                ...         ...       ...   \n",
       "146                [請益]求大家推薦類似華燈初上的影集  2022/01/08  14:26:42   \n",
       "153               [華燈]華燈初上第二季最後一幕後照鏡雷  2022/01/09  15:00:54   \n",
       "155                    [討論]華燈初上不負責任猜測  2022/01/10  09:02:41   \n",
       "157                    [討論]演員真的都會抽菸嗎?  2022/01/11  03:50:56   \n",
       "162              [閒聊]《華燈初上》S2最讓人出戲的角色  2022/01/12  12:18:16   \n",
       "\n",
       "                                                artUrl    artPoster  \\\n",
       "7    https://www.ptt.cc/bbs/TaiwanDrama/M.163790407...      YRanger   \n",
       "8    https://www.ptt.cc/bbs/TaiwanDrama/M.163799223...      zorgYen   \n",
       "9    https://www.ptt.cc/bbs/TaiwanDrama/M.163800189...   vivian0515   \n",
       "11   https://www.ptt.cc/bbs/TaiwanDrama/M.163811123...   lovely0930   \n",
       "12   https://www.ptt.cc/bbs/TaiwanDrama/M.163814140...         MBAR   \n",
       "..                                                 ...          ...   \n",
       "146  https://www.ptt.cc/bbs/TaiwanDrama/M.164165200...  laiteng0105   \n",
       "153  https://www.ptt.cc/bbs/TaiwanDrama/M.164174045...  InfocusM510   \n",
       "155  https://www.ptt.cc/bbs/TaiwanDrama/M.164180536...          pwl   \n",
       "157  https://www.ptt.cc/bbs/TaiwanDrama/M.164187305...       QchchQ   \n",
       "162  https://www.ptt.cc/bbs/TaiwanDrama/M.164198989...       kiradu   \n",
       "\n",
       "          artCat  commentNum  push  boo  \\\n",
       "7    TaiwanDrama         432   271    3   \n",
       "8    TaiwanDrama         119    70    0   \n",
       "9    TaiwanDrama         316   133    0   \n",
       "11   TaiwanDrama         216   134    0   \n",
       "12   TaiwanDrama         335   110    5   \n",
       "..           ...         ...   ...  ...   \n",
       "146  TaiwanDrama          56    39    0   \n",
       "153  TaiwanDrama         111    81    0   \n",
       "155  TaiwanDrama         100    30    0   \n",
       "157  TaiwanDrama         176    68    3   \n",
       "162  TaiwanDrama          77    35    2   \n",
       "\n",
       "                                              sentence  sum  \n",
       "7    華燈初上  NETFLIX\\nhttps://www.netflix.com/title/8...  274  \n",
       "8    昨晚一口氣就追完八集，覺得編劇蠻厲害的，\\n雖然時間幕跳來跳去，會讓人邊想排序一下。\\n而且...   70  \n",
       "9    先吐槽一下：\\n我昨天一口氣的看完了八集\\n只能說有點失望 但是有點不知道失望感從何而來\\n...  133  \n",
       "11   有劇情雷\\n請觀賞過後再觀看\\n\\n\\n\\n\\n\\n\\n\\n\\n\\n\\n\\n\\n\\n\\n\\n...  134  \n",
       "12   老實說一開始看到這部劇的卡司還有製作人的時候\\n\\n我是很擔心的。\\n\\n大家都知道林心如過...  115  \n",
       "..                                                 ...  ...  \n",
       "146  最近看了華燈覺得超讚的\\n不管服裝場景設計 配樂全部都非常剛好\\n想問大家有推薦類似這樣的台...   39  \n",
       "153  有雷\\n\\n有雷\\n\\n有雷\\n\\n\\n\\n\\n\\n\\n\\n\\n\\n\\n華燈初上第二季最後一...   81  \n",
       "155  人在日本，剛看完兩季華燈，好想分享一下心得和一點推理\\n\\n首先要讚美一下這部戲的質感，\\n...   30  \n",
       "157  看完華燈初上\\n\\n可能時代背景跟職業關西\\n\\n幾乎每個人人手一支菸\\n\\n看起來也不是點...   71  \n",
       "162  《華燈初上》在第二季又加入了許多新的角色，姑且先不論劇情，單就角色表現而言，大\\n家覺得哪些...   37  \n",
       "\n",
       "[66 rows x 11 columns]"
      ]
     },
     "execution_count": 13,
     "metadata": {},
     "output_type": "execute_result"
    }
   ],
   "source": [
    "MetaData"
   ]
  },
  {
   "cell_type": "code",
   "execution_count": 14,
   "id": "49bdd5ce",
   "metadata": {},
   "outputs": [
    {
     "data": {
      "text/html": [
       "<div>\n",
       "<style scoped>\n",
       "    .dataframe tbody tr th:only-of-type {\n",
       "        vertical-align: middle;\n",
       "    }\n",
       "\n",
       "    .dataframe tbody tr th {\n",
       "        vertical-align: top;\n",
       "    }\n",
       "\n",
       "    .dataframe thead th {\n",
       "        text-align: right;\n",
       "    }\n",
       "</style>\n",
       "<table border=\"1\" class=\"dataframe\">\n",
       "  <thead>\n",
       "    <tr style=\"text-align: right;\">\n",
       "      <th></th>\n",
       "      <th>artTitle</th>\n",
       "      <th>artDate</th>\n",
       "      <th>artTime</th>\n",
       "      <th>artUrl</th>\n",
       "      <th>artPoster</th>\n",
       "      <th>artCat</th>\n",
       "      <th>cmtPoster</th>\n",
       "      <th>cmtStatus</th>\n",
       "      <th>cmtDate</th>\n",
       "      <th>cmtContent</th>\n",
       "    </tr>\n",
       "  </thead>\n",
       "  <tbody>\n",
       "    <tr>\n",
       "      <th>0</th>\n",
       "      <td>[討論]無神之地不下雨到第七集的猜測</td>\n",
       "      <td>2021/11/22</td>\n",
       "      <td>00:09:16</td>\n",
       "      <td>https://www.ptt.cc/bbs/TaiwanDrama/M.163753975...</td>\n",
       "      <td>cofee</td>\n",
       "      <td>TaiwanDrama</td>\n",
       "      <td>smallshu0418</td>\n",
       "      <td>推</td>\n",
       "      <td>2021-11-22 08:23:00</td>\n",
       "      <td>:雖然進度慢但還是想一直看～有看分享要到11集才會劇</td>\n",
       "    </tr>\n",
       "    <tr>\n",
       "      <th>1</th>\n",
       "      <td>[討論]無神之地不下雨到第七集的猜測</td>\n",
       "      <td>2021/11/22</td>\n",
       "      <td>00:09:16</td>\n",
       "      <td>https://www.ptt.cc/bbs/TaiwanDrama/M.163753975...</td>\n",
       "      <td>cofee</td>\n",
       "      <td>TaiwanDrama</td>\n",
       "      <td>smallshu0418</td>\n",
       "      <td>→</td>\n",
       "      <td>2021-11-22 08:23:00</td>\n",
       "      <td>:情明朗XD</td>\n",
       "    </tr>\n",
       "    <tr>\n",
       "      <th>2</th>\n",
       "      <td>[討論]無神之地不下雨到第七集的猜測</td>\n",
       "      <td>2021/11/22</td>\n",
       "      <td>00:09:16</td>\n",
       "      <td>https://www.ptt.cc/bbs/TaiwanDrama/M.163753975...</td>\n",
       "      <td>cofee</td>\n",
       "      <td>TaiwanDrama</td>\n",
       "      <td>sandymo</td>\n",
       "      <td>推</td>\n",
       "      <td>2021-11-22 09:38:00</td>\n",
       "      <td>:進度很慢+1總共不是才13集嗎</td>\n",
       "    </tr>\n",
       "  </tbody>\n",
       "</table>\n",
       "</div>"
      ],
      "text/plain": [
       "             artTitle     artDate   artTime  \\\n",
       "0  [討論]無神之地不下雨到第七集的猜測  2021/11/22  00:09:16   \n",
       "1  [討論]無神之地不下雨到第七集的猜測  2021/11/22  00:09:16   \n",
       "2  [討論]無神之地不下雨到第七集的猜測  2021/11/22  00:09:16   \n",
       "\n",
       "                                              artUrl artPoster       artCat  \\\n",
       "0  https://www.ptt.cc/bbs/TaiwanDrama/M.163753975...     cofee  TaiwanDrama   \n",
       "1  https://www.ptt.cc/bbs/TaiwanDrama/M.163753975...     cofee  TaiwanDrama   \n",
       "2  https://www.ptt.cc/bbs/TaiwanDrama/M.163753975...     cofee  TaiwanDrama   \n",
       "\n",
       "      cmtPoster cmtStatus              cmtDate                  cmtContent  \n",
       "0  smallshu0418         推  2021-11-22 08:23:00  :雖然進度慢但還是想一直看～有看分享要到11集才會劇  \n",
       "1  smallshu0418         →  2021-11-22 08:23:00                      :情明朗XD  \n",
       "2       sandymo         推  2021-11-22 09:38:00            :進度很慢+1總共不是才13集嗎  "
      ]
     },
     "execution_count": 14,
     "metadata": {},
     "output_type": "execute_result"
    }
   ],
   "source": [
    "Reviews.head(3)"
   ]
  },
  {
   "cell_type": "code",
   "execution_count": 15,
   "id": "cccba41b",
   "metadata": {},
   "outputs": [],
   "source": [
    "# 合併每篇文章對應的留言\n",
    "Reviews = MetaData.iloc[:,0:-1].merge(Reviews.loc[:,[\"artUrl\", \"cmtContent\", \"cmtPoster\", \"cmtStatus\", \"cmtContent\"]], how = \"left\", on = 'artUrl')"
   ]
  },
  {
   "cell_type": "code",
   "execution_count": 16,
   "id": "b331129c",
   "metadata": {},
   "outputs": [
    {
     "name": "stdout",
     "output_type": "stream",
     "text": [
      "(10327, 14)\n"
     ]
    },
    {
     "data": {
      "text/html": [
       "<div>\n",
       "<style scoped>\n",
       "    .dataframe tbody tr th:only-of-type {\n",
       "        vertical-align: middle;\n",
       "    }\n",
       "\n",
       "    .dataframe tbody tr th {\n",
       "        vertical-align: top;\n",
       "    }\n",
       "\n",
       "    .dataframe thead th {\n",
       "        text-align: right;\n",
       "    }\n",
       "</style>\n",
       "<table border=\"1\" class=\"dataframe\">\n",
       "  <thead>\n",
       "    <tr style=\"text-align: right;\">\n",
       "      <th></th>\n",
       "      <th>artTitle</th>\n",
       "      <th>artDate</th>\n",
       "      <th>artTime</th>\n",
       "      <th>artUrl</th>\n",
       "      <th>artPoster</th>\n",
       "      <th>artCat</th>\n",
       "      <th>commentNum</th>\n",
       "      <th>push</th>\n",
       "      <th>boo</th>\n",
       "      <th>sentence</th>\n",
       "      <th>cmtContent</th>\n",
       "      <th>cmtPoster</th>\n",
       "      <th>cmtStatus</th>\n",
       "      <th>cmtContent</th>\n",
       "    </tr>\n",
       "  </thead>\n",
       "  <tbody>\n",
       "    <tr>\n",
       "      <th>0</th>\n",
       "      <td>[LIVE]《華燈初上》NETFLIX11/2616:00第一部</td>\n",
       "      <td>2021/11/26</td>\n",
       "      <td>05:21:14</td>\n",
       "      <td>https://www.ptt.cc/bbs/TaiwanDrama/M.163790407...</td>\n",
       "      <td>YRanger</td>\n",
       "      <td>TaiwanDrama</td>\n",
       "      <td>432</td>\n",
       "      <td>271</td>\n",
       "      <td>3</td>\n",
       "      <td>華燈初上  NETFLIX\\nhttps://www.netflix.com/title/8...</td>\n",
       "      <td>:(不是責怪原po，是建議與說明~)臺劇板的[LIVE]發表</td>\n",
       "      <td>sodabubble</td>\n",
       "      <td>→</td>\n",
       "      <td>:(不是責怪原po，是建議與說明~)臺劇板的[LIVE]發表</td>\n",
       "    </tr>\n",
       "    <tr>\n",
       "      <th>1</th>\n",
       "      <td>[LIVE]《華燈初上》NETFLIX11/2616:00第一部</td>\n",
       "      <td>2021/11/26</td>\n",
       "      <td>05:21:14</td>\n",
       "      <td>https://www.ptt.cc/bbs/TaiwanDrama/M.163790407...</td>\n",
       "      <td>YRanger</td>\n",
       "      <td>TaiwanDrama</td>\n",
       "      <td>432</td>\n",
       "      <td>271</td>\n",
       "      <td>3</td>\n",
       "      <td>華燈初上  NETFLIX\\nhttps://www.netflix.com/title/8...</td>\n",
       "      <td>:時間是每集首播前的兩小時內。例如16:00開播，[LIVE]</td>\n",
       "      <td>sodabubble</td>\n",
       "      <td>→</td>\n",
       "      <td>:時間是每集首播前的兩小時內。例如16:00開播，[LIVE]</td>\n",
       "    </tr>\n",
       "    <tr>\n",
       "      <th>2</th>\n",
       "      <td>[LIVE]《華燈初上》NETFLIX11/2616:00第一部</td>\n",
       "      <td>2021/11/26</td>\n",
       "      <td>05:21:14</td>\n",
       "      <td>https://www.ptt.cc/bbs/TaiwanDrama/M.163790407...</td>\n",
       "      <td>YRanger</td>\n",
       "      <td>TaiwanDrama</td>\n",
       "      <td>432</td>\n",
       "      <td>271</td>\n",
       "      <td>3</td>\n",
       "      <td>華燈初上  NETFLIX\\nhttps://www.netflix.com/title/8...</td>\n",
       "      <td>:文的發表時間即為當天的14:00~16:00。敬請參考~</td>\n",
       "      <td>sodabubble</td>\n",
       "      <td>→</td>\n",
       "      <td>:文的發表時間即為當天的14:00~16:00。敬請參考~</td>\n",
       "    </tr>\n",
       "  </tbody>\n",
       "</table>\n",
       "</div>"
      ],
      "text/plain": [
       "                           artTitle     artDate   artTime  \\\n",
       "0  [LIVE]《華燈初上》NETFLIX11/2616:00第一部  2021/11/26  05:21:14   \n",
       "1  [LIVE]《華燈初上》NETFLIX11/2616:00第一部  2021/11/26  05:21:14   \n",
       "2  [LIVE]《華燈初上》NETFLIX11/2616:00第一部  2021/11/26  05:21:14   \n",
       "\n",
       "                                              artUrl artPoster       artCat  \\\n",
       "0  https://www.ptt.cc/bbs/TaiwanDrama/M.163790407...   YRanger  TaiwanDrama   \n",
       "1  https://www.ptt.cc/bbs/TaiwanDrama/M.163790407...   YRanger  TaiwanDrama   \n",
       "2  https://www.ptt.cc/bbs/TaiwanDrama/M.163790407...   YRanger  TaiwanDrama   \n",
       "\n",
       "   commentNum  push  boo                                           sentence  \\\n",
       "0         432   271    3  華燈初上  NETFLIX\\nhttps://www.netflix.com/title/8...   \n",
       "1         432   271    3  華燈初上  NETFLIX\\nhttps://www.netflix.com/title/8...   \n",
       "2         432   271    3  華燈初上  NETFLIX\\nhttps://www.netflix.com/title/8...   \n",
       "\n",
       "                        cmtContent   cmtPoster cmtStatus  \\\n",
       "0   :(不是責怪原po，是建議與說明~)臺劇板的[LIVE]發表  sodabubble         →   \n",
       "1  :時間是每集首播前的兩小時內。例如16:00開播，[LIVE]  sodabubble         →   \n",
       "2    :文的發表時間即為當天的14:00~16:00。敬請參考~  sodabubble         →   \n",
       "\n",
       "                        cmtContent  \n",
       "0   :(不是責怪原po，是建議與說明~)臺劇板的[LIVE]發表  \n",
       "1  :時間是每集首播前的兩小時內。例如16:00開播，[LIVE]  \n",
       "2    :文的發表時間即為當天的14:00~16:00。敬請參考~  "
      ]
     },
     "execution_count": 16,
     "metadata": {},
     "output_type": "execute_result"
    }
   ],
   "source": [
    "print(Reviews.shape)\n",
    "Reviews.head(3)"
   ]
  },
  {
   "cell_type": "markdown",
   "id": "ab69bd16",
   "metadata": {},
   "source": [
    "### 2.2 資料清理  \n",
    "- 去除特殊字元與標點符號"
   ]
  },
  {
   "cell_type": "code",
   "execution_count": 17,
   "id": "555c97f5",
   "metadata": {},
   "outputs": [],
   "source": [
    "#移除PTT貼新聞時會出現的格式用字\n",
    "MetaData['sentence'] = MetaData.sentence.apply(lambda x: re.sub('(媒體來源|記者署名|完整新聞標題|完整新聞內文|完整新聞連結|(或短網址)|備註:|備註請放最後面|違者新聞文章刪除)', '', str(x)))\n",
    "MetaData['sentence'] = MetaData.sentence.apply(lambda x: re.sub('(http|https)://.*', '', x))\n",
    "MetaData['sentence'] = MetaData.sentence.apply(lambda x: re.sub('\\n', ',', x))\n",
    "MetaData['sentence'] = MetaData.sentence.apply(lambda x: re.sub('[a-zA-Z0-9]+', ',', x))"
   ]
  },
  {
   "cell_type": "markdown",
   "id": "0eedf5df",
   "metadata": {},
   "source": [
    "### 2.3 文章斷詞與整理"
   ]
  },
  {
   "cell_type": "markdown",
   "id": "331f07ef",
   "metadata": {},
   "source": [
    "### Create dictonary"
   ]
  },
  {
   "cell_type": "code",
   "execution_count": 18,
   "id": "4f631525",
   "metadata": {
    "code_folding": [
     0
    ]
   },
   "outputs": [
    {
     "name": "stderr",
     "output_type": "stream",
     "text": [
      "Building prefix dict from /Users/caiminrong/Downloads/期末報告G8/dict/dict.txt ...\n",
      "Dumping model to file cache /var/folders/qs/v34r1tz92mddbmqp6bhm13b00000gn/T/jieba.uacc484140fede949fa470f9402b2345a.cache\n",
      "Loading model cost 0.639 seconds.\n",
      "Prefix dict has been built successfully.\n"
     ]
    }
   ],
   "source": [
    "#設定繁體中文詞庫\n",
    "jieba.set_dictionary('./dict/dict.txt')\n",
    "\n",
    "#新增戲劇相關自定義字典\n",
    "jieba.load_userdict('./dict/user_dict.txt')\n",
    "\n",
    "#新增stop words\n",
    "#jieba.analyse.set_stop_words('./dict/stop_words.txt') #jieba.analyse.extract_tags才會作用\n",
    "with open('./dict/stopwords.txt',encoding=\"utf-8\") as f:\n",
    "    stopWords = [line.strip() for line in f.readlines()]"
   ]
  },
  {
   "cell_type": "code",
   "execution_count": 19,
   "id": "f4556304",
   "metadata": {
    "code_folding": []
   },
   "outputs": [],
   "source": [
    "# 設定斷詞 function\n",
    "def getToken(row):\n",
    "    seg_list = jieba.lcut(row)\n",
    "    seg_list = [w for w in seg_list if w not in stopWords and len(w)>1] # 篩選不在停用字的字與字元數大於1的字詞\n",
    "    return seg_list"
   ]
  },
  {
   "cell_type": "code",
   "execution_count": 20,
   "id": "decb370f",
   "metadata": {},
   "outputs": [],
   "source": [
    "data = MetaData.copy()\n",
    "data['word'] = data.sentence.apply(getToken)"
   ]
  },
  {
   "cell_type": "code",
   "execution_count": 21,
   "id": "ebf188c8",
   "metadata": {},
   "outputs": [
    {
     "data": {
      "text/html": [
       "<div>\n",
       "<style scoped>\n",
       "    .dataframe tbody tr th:only-of-type {\n",
       "        vertical-align: middle;\n",
       "    }\n",
       "\n",
       "    .dataframe tbody tr th {\n",
       "        vertical-align: top;\n",
       "    }\n",
       "\n",
       "    .dataframe thead th {\n",
       "        text-align: right;\n",
       "    }\n",
       "</style>\n",
       "<table border=\"1\" class=\"dataframe\">\n",
       "  <thead>\n",
       "    <tr style=\"text-align: right;\">\n",
       "      <th></th>\n",
       "      <th>artTitle</th>\n",
       "      <th>artDate</th>\n",
       "      <th>artTime</th>\n",
       "      <th>artUrl</th>\n",
       "      <th>artPoster</th>\n",
       "      <th>artCat</th>\n",
       "      <th>commentNum</th>\n",
       "      <th>push</th>\n",
       "      <th>boo</th>\n",
       "      <th>sentence</th>\n",
       "      <th>sum</th>\n",
       "      <th>word</th>\n",
       "    </tr>\n",
       "  </thead>\n",
       "  <tbody>\n",
       "    <tr>\n",
       "      <th>7</th>\n",
       "      <td>[LIVE]《華燈初上》NETFLIX11/2616:00第一部</td>\n",
       "      <td>2021/11/26</td>\n",
       "      <td>05:21:14</td>\n",
       "      <td>https://www.ptt.cc/bbs/TaiwanDrama/M.163790407...</td>\n",
       "      <td>YRanger</td>\n",
       "      <td>TaiwanDrama</td>\n",
       "      <td>432</td>\n",
       "      <td>271</td>\n",
       "      <td>3</td>\n",
       "      <td>華燈初上  ,,,,,,正式預告,,羅雨儂和蘇慶儀的故事在她們還是女孩的時候 就已經開始了。...</td>\n",
       "      <td>274</td>\n",
       "      <td>[華燈初上, 正式, 預告, 羅雨儂, 蘇慶儀, 故事, 女孩, 生長, 背景, 個性, 天...</td>\n",
       "    </tr>\n",
       "    <tr>\n",
       "      <th>8</th>\n",
       "      <td>[討論]華燈初上第一季(雷)</td>\n",
       "      <td>2021/11/27</td>\n",
       "      <td>05:50:32</td>\n",
       "      <td>https://www.ptt.cc/bbs/TaiwanDrama/M.163799223...</td>\n",
       "      <td>zorgYen</td>\n",
       "      <td>TaiwanDrama</td>\n",
       "      <td>119</td>\n",
       "      <td>70</td>\n",
       "      <td>0</td>\n",
       "      <td>昨晚一口氣就追完八集，覺得編劇蠻厲害的，,雖然時間幕跳來跳去，會讓人邊想排序一下。,而且這第...</td>\n",
       "      <td>70</td>\n",
       "      <td>[昨晚, 一口氣, 追完, 八集, 編劇, 厲害, 時間, 跳來跳去, 人邊, 排序, 第一...</td>\n",
       "    </tr>\n",
       "    <tr>\n",
       "      <th>9</th>\n",
       "      <td>[討論]華燈初上（有雷</td>\n",
       "      <td>2021/11/27</td>\n",
       "      <td>08:31:36</td>\n",
       "      <td>https://www.ptt.cc/bbs/TaiwanDrama/M.163800189...</td>\n",
       "      <td>vivian0515</td>\n",
       "      <td>TaiwanDrama</td>\n",
       "      <td>316</td>\n",
       "      <td>133</td>\n",
       "      <td>0</td>\n",
       "      <td>先吐槽一下：,我昨天一口氣的看完了八集,只能說有點失望 但是有點不知道失望感從何而來,其實我...</td>\n",
       "      <td>133</td>\n",
       "      <td>[先吐槽, 昨天, 一口氣, 看完, 八集, 只能, 失望, 失望感, 從何, 跳來跳去, ...</td>\n",
       "    </tr>\n",
       "  </tbody>\n",
       "</table>\n",
       "</div>"
      ],
      "text/plain": [
       "                           artTitle     artDate   artTime  \\\n",
       "7  [LIVE]《華燈初上》NETFLIX11/2616:00第一部  2021/11/26  05:21:14   \n",
       "8                    [討論]華燈初上第一季(雷)  2021/11/27  05:50:32   \n",
       "9                       [討論]華燈初上（有雷  2021/11/27  08:31:36   \n",
       "\n",
       "                                              artUrl   artPoster       artCat  \\\n",
       "7  https://www.ptt.cc/bbs/TaiwanDrama/M.163790407...     YRanger  TaiwanDrama   \n",
       "8  https://www.ptt.cc/bbs/TaiwanDrama/M.163799223...     zorgYen  TaiwanDrama   \n",
       "9  https://www.ptt.cc/bbs/TaiwanDrama/M.163800189...  vivian0515  TaiwanDrama   \n",
       "\n",
       "   commentNum  push  boo                                           sentence  \\\n",
       "7         432   271    3  華燈初上  ,,,,,,正式預告,,羅雨儂和蘇慶儀的故事在她們還是女孩的時候 就已經開始了。...   \n",
       "8         119    70    0  昨晚一口氣就追完八集，覺得編劇蠻厲害的，,雖然時間幕跳來跳去，會讓人邊想排序一下。,而且這第...   \n",
       "9         316   133    0  先吐槽一下：,我昨天一口氣的看完了八集,只能說有點失望 但是有點不知道失望感從何而來,其實我...   \n",
       "\n",
       "   sum                                               word  \n",
       "7  274  [華燈初上, 正式, 預告, 羅雨儂, 蘇慶儀, 故事, 女孩, 生長, 背景, 個性, 天...  \n",
       "8   70  [昨晚, 一口氣, 追完, 八集, 編劇, 厲害, 時間, 跳來跳去, 人邊, 排序, 第一...  \n",
       "9  133  [先吐槽, 昨天, 一口氣, 看完, 八集, 只能, 失望, 失望感, 從何, 跳來跳去, ...  "
      ]
     },
     "execution_count": 21,
     "metadata": {},
     "output_type": "execute_result"
    }
   ],
   "source": [
    "data.head(3)"
   ]
  },
  {
   "cell_type": "markdown",
   "id": "791080d4",
   "metadata": {},
   "source": [
    "## 3. LDA"
   ]
  },
  {
   "cell_type": "markdown",
   "id": "ead89abf",
   "metadata": {},
   "source": [
    "### 3.1 LDA資料準備\n",
    "- 將斷詞結果轉成list型式，使用id2word 將斷詞結果生成字典"
   ]
  },
  {
   "cell_type": "code",
   "execution_count": 22,
   "id": "0f674fc6",
   "metadata": {},
   "outputs": [],
   "source": [
    "token_data = data['word'].tolist()"
   ]
  },
  {
   "cell_type": "code",
   "execution_count": 23,
   "id": "6d29ac6b",
   "metadata": {},
   "outputs": [
    {
     "name": "stdout",
     "output_type": "stream",
     "text": [
      "資料集字典：\n",
      "Dictionary(4138 unique tokens: ['一間', '上線', '主演', '人生', '修杰楷']...)\n"
     ]
    }
   ],
   "source": [
    "id2word = corpora.Dictionary(token_data)\n",
    "print('資料集字典：')\n",
    "print(id2word)"
   ]
  },
  {
   "cell_type": "markdown",
   "id": "1496c44f",
   "metadata": {},
   "source": [
    "- 將斷詞結果建構語料庫(corpus)，利用語料庫把每篇文章數字化。  \n",
    "- 每篇文章、每個詞彙都被賦予一個 ID 及頻率(word_id，word_frequency)。"
   ]
  },
  {
   "cell_type": "code",
   "execution_count": 24,
   "id": "4e7f78e4",
   "metadata": {},
   "outputs": [
    {
     "name": "stdout",
     "output_type": "stream",
     "text": [
      "第一篇文章 corpus :\n",
      "[(0, 1), (1, 1), (2, 1)]\n"
     ]
    }
   ],
   "source": [
    "corpus = [id2word.doc2bow(text) for text in token_data]\n",
    "print('第一篇文章 corpus :')\n",
    "print(corpus[0][:3])"
   ]
  },
  {
   "cell_type": "markdown",
   "id": "f3fc983c",
   "metadata": {},
   "source": [
    "### 3.2 建立LDA"
   ]
  },
  {
   "cell_type": "code",
   "execution_count": 25,
   "id": "d391e12c",
   "metadata": {},
   "outputs": [],
   "source": [
    "ldamodel = gensim.models.ldamulticore.LdaMulticore(\n",
    "    corpus=corpus,  # 文檔語料庫\n",
    "    id2word=id2word, # 詞彙字典\n",
    "    num_topics=2, # 生成幾個主題數\n",
    "    random_state=2022, # 亂數\n",
    "    iterations = 2000, # 每個文章訓練的次數，可以設定高一點讓模型收斂\n",
    "    passes=5, # 模型訓練次數\n",
    ")"
   ]
  },
  {
   "cell_type": "code",
   "execution_count": 26,
   "id": "eb587011",
   "metadata": {},
   "outputs": [],
   "source": [
    "ldaVis = pyLDAvis.gensim_models.prepare(ldamodel, corpus, dictionary=ldamodel.id2word)\n",
    "pyLDAvis.save_html(ldaVis,'./test2.html')"
   ]
  },
  {
   "cell_type": "markdown",
   "id": "82fe06b6",
   "metadata": {},
   "source": [
    "### 3.3 判斷每筆發文的主題\n",
    "**查看 LDA 各主題代表字**  \n",
    "- 查看每個主題的單詞分佈"
   ]
  },
  {
   "cell_type": "code",
   "execution_count": 27,
   "id": "3ee9124d",
   "metadata": {},
   "outputs": [
    {
     "name": "stdout",
     "output_type": "stream",
     "text": [
      "這個主題的 PMI score:  -4.74190605191766\n"
     ]
    }
   ],
   "source": [
    "PMI_model_lda = CoherenceModel(model=ldamodel, texts=token_data, coherence='c_uci')\n",
    "PMI_lda = PMI_model_lda.get_coherence()\n",
    "print('這個主題的 PMI score: ', PMI_lda)"
   ]
  },
  {
   "cell_type": "code",
   "execution_count": 28,
   "id": "eca536f1",
   "metadata": {},
   "outputs": [
    {
     "name": "stdout",
     "output_type": "stream",
     "text": [
      "這個主題的 Perplexity Score:  -8.057533686063667\n"
     ]
    }
   ],
   "source": [
    "perplexity = ldamodel.log_perplexity(corpus)\n",
    "print('這個主題的 Perplexity Score: ', perplexity)"
   ]
  },
  {
   "cell_type": "code",
   "execution_count": 29,
   "id": "79ca68cb",
   "metadata": {},
   "outputs": [],
   "source": [
    "topic_num_list = np.arange(2, 10, 2)\n",
    "result = []\n",
    "for topic_num in topic_num_list:\n",
    "    # perplexity\n",
    "    tmp_ldamodel = gensim.models.ldamulticore.LdaMulticore(\n",
    "        corpus = corpus,\n",
    "        num_topics = topic_num ,\n",
    "        id2word=id2word,\n",
    "        random_state = 2022,\n",
    "        passes=5,\n",
    "        iterations=2000\n",
    "        )\n",
    "    tmp_perplexity = tmp_ldamodel.log_perplexity(corpus)\n",
    "    temp_skleran = np.exp(-1. * tmp_perplexity)\n",
    "    \n",
    "    result.append({\"topic_num\": topic_num, \"gensim_perplexity\": tmp_perplexity, \"perplexity\":temp_skleran})"
   ]
  },
  {
   "cell_type": "code",
   "execution_count": 30,
   "id": "65f771f7",
   "metadata": {},
   "outputs": [
    {
     "data": {
      "text/html": [
       "<div>\n",
       "<style scoped>\n",
       "    .dataframe tbody tr th:only-of-type {\n",
       "        vertical-align: middle;\n",
       "    }\n",
       "\n",
       "    .dataframe tbody tr th {\n",
       "        vertical-align: top;\n",
       "    }\n",
       "\n",
       "    .dataframe thead th {\n",
       "        text-align: right;\n",
       "    }\n",
       "</style>\n",
       "<table border=\"1\" class=\"dataframe\">\n",
       "  <thead>\n",
       "    <tr style=\"text-align: right;\">\n",
       "      <th></th>\n",
       "      <th>topic_num</th>\n",
       "      <th>gensim_perplexity</th>\n",
       "      <th>perplexity</th>\n",
       "    </tr>\n",
       "  </thead>\n",
       "  <tbody>\n",
       "    <tr>\n",
       "      <th>0</th>\n",
       "      <td>2</td>\n",
       "      <td>-8.057534</td>\n",
       "      <td>3157.492915</td>\n",
       "    </tr>\n",
       "    <tr>\n",
       "      <th>1</th>\n",
       "      <td>4</td>\n",
       "      <td>-8.122535</td>\n",
       "      <td>3369.550744</td>\n",
       "    </tr>\n",
       "    <tr>\n",
       "      <th>2</th>\n",
       "      <td>6</td>\n",
       "      <td>-8.138477</td>\n",
       "      <td>3423.698024</td>\n",
       "    </tr>\n",
       "    <tr>\n",
       "      <th>3</th>\n",
       "      <td>8</td>\n",
       "      <td>-8.166846</td>\n",
       "      <td>3522.215656</td>\n",
       "    </tr>\n",
       "  </tbody>\n",
       "</table>\n",
       "</div>"
      ],
      "text/plain": [
       "   topic_num  gensim_perplexity   perplexity\n",
       "0          2          -8.057534  3157.492915\n",
       "1          4          -8.122535  3369.550744\n",
       "2          6          -8.138477  3423.698024\n",
       "3          8          -8.166846  3522.215656"
      ]
     },
     "execution_count": 30,
     "metadata": {},
     "output_type": "execute_result"
    },
    {
     "data": {
      "image/png": "[encoded data removed]",
      "text/plain": [
       "<Figure size 432x288 with 1 Axes>"
      ]
     },
     "metadata": {
      "needs_background": "light"
     },
     "output_type": "display_data"
    }
   ],
   "source": [
    "result = pd.DataFrame(result)\n",
    "result.plot.line(x='topic_num', y='gensim_perplexity', label='gensim_perplexity')\n",
    "result"
   ]
  },
  {
   "cell_type": "code",
   "execution_count": 31,
   "id": "be135c9f",
   "metadata": {},
   "outputs": [
    {
     "data": {
      "text/html": [
       "<div>\n",
       "<style scoped>\n",
       "    .dataframe tbody tr th:only-of-type {\n",
       "        vertical-align: middle;\n",
       "    }\n",
       "\n",
       "    .dataframe tbody tr th {\n",
       "        vertical-align: top;\n",
       "    }\n",
       "\n",
       "    .dataframe thead th {\n",
       "        text-align: right;\n",
       "    }\n",
       "</style>\n",
       "<table border=\"1\" class=\"dataframe\">\n",
       "  <thead>\n",
       "    <tr style=\"text-align: right;\">\n",
       "      <th></th>\n",
       "      <th>topic_num</th>\n",
       "      <th>gensim_perplexity</th>\n",
       "      <th>perplexity</th>\n",
       "    </tr>\n",
       "  </thead>\n",
       "  <tbody>\n",
       "    <tr>\n",
       "      <th>0</th>\n",
       "      <td>2</td>\n",
       "      <td>-8.057534</td>\n",
       "      <td>3157.492915</td>\n",
       "    </tr>\n",
       "    <tr>\n",
       "      <th>1</th>\n",
       "      <td>4</td>\n",
       "      <td>-8.122535</td>\n",
       "      <td>3369.550744</td>\n",
       "    </tr>\n",
       "    <tr>\n",
       "      <th>2</th>\n",
       "      <td>6</td>\n",
       "      <td>-8.138477</td>\n",
       "      <td>3423.698024</td>\n",
       "    </tr>\n",
       "    <tr>\n",
       "      <th>3</th>\n",
       "      <td>8</td>\n",
       "      <td>-8.166846</td>\n",
       "      <td>3522.215656</td>\n",
       "    </tr>\n",
       "  </tbody>\n",
       "</table>\n",
       "</div>"
      ],
      "text/plain": [
       "   topic_num  gensim_perplexity   perplexity\n",
       "0          2          -8.057534  3157.492915\n",
       "1          4          -8.122535  3369.550744\n",
       "2          6          -8.138477  3423.698024\n",
       "3          8          -8.166846  3522.215656"
      ]
     },
     "execution_count": 31,
     "metadata": {},
     "output_type": "execute_result"
    },
    {
     "data": {
      "image/png": "[encoded data removed]",
      "text/plain": [
       "<Figure size 432x288 with 1 Axes>"
      ]
     },
     "metadata": {
      "needs_background": "light"
     },
     "output_type": "display_data"
    }
   ],
   "source": [
    "result = pd.DataFrame(result)\n",
    "result.plot.line(x='topic_num', y='perplexity', label='perplexity')\n",
    "result"
   ]
  },
  {
   "cell_type": "markdown",
   "id": "25e5c671",
   "metadata": {},
   "source": [
    "由perplexity可得知，2個topic是最合適的。"
   ]
  },
  {
   "cell_type": "code",
   "execution_count": 32,
   "id": "e327f3c0",
   "metadata": {},
   "outputs": [
    {
     "name": "stdout",
     "output_type": "stream",
     "text": [
      "(0, '0.008*\"角色\" + 0.007*\"林心如\" + 0.006*\"酒店\" + 0.005*\"蘇慶儀\" + 0.004*\"劇情\" + 0.004*\"演員\" + 0.004*\"羅雨儂\" + 0.004*\"楊謹華\" + 0.004*\"媽媽\" + 0.004*\"華燈初上\" + 0.004*\"阿季\" + 0.003*\"演出\" + 0.003*\"小姐\" + 0.003*\"客人\" + 0.003*\"演技\" + 0.003*\"日式\" + 0.003*\"客串\" + 0.003*\"年代\" + 0.003*\"背景\" + 0.003*\"第二季\" + 0.002*\"條通\" + 0.002*\"華燈\" + 0.002*\"吳慷仁\" + 0.002*\"郭雪芙\" + 0.002*\"鳳小岳\"')\n",
      "\n",
      "(1, '0.008*\"兇手\" + 0.007*\"阿達\" + 0.006*\"子維\" + 0.006*\"角色\" + 0.005*\"毒品\" + 0.005*\"第二季\" + 0.005*\"江瀚\" + 0.005*\"媽媽\" + 0.005*\"劇情\" + 0.004*\"阿季\" + 0.004*\"自殺\" + 0.004*\"喜歡\" + 0.004*\"淑華\" + 0.003*\"何予恩\" + 0.003*\"中村先生\" + 0.003*\"蘇慶儀\" + 0.003*\"日本\" + 0.003*\"第一季\" + 0.003*\"華燈\" + 0.003*\"錄音機\" + 0.003*\"羅絲\" + 0.002*\"線索\" + 0.002*\"成哥\" + 0.002*\"編劇\" + 0.002*\"江翰\"')\n",
      "\n"
     ]
    }
   ],
   "source": [
    "# 每個主題重要的前25個關鍵字\n",
    "topics = ldamodel.print_topics(num_words=25)\n",
    "for topic in topics:\n",
    "    print(topic)\n",
    "    print(\"\")"
   ]
  },
  {
   "cell_type": "markdown",
   "id": "6a942784",
   "metadata": {},
   "source": [
    "**可以歸納出**\n",
    "- topic 0 = “討論華燈初上的角色陣容”\n",
    "- topic 1 = “討論劇情內各角色間的愛恨情仇與劇情兇手是誰”  \n",
    " \n",
    "<b><mark><font color=red>*以下我們挑出 第0個主題 與 第1個主題 來做比較。 </font></mark></b> "
   ]
  },
  {
   "cell_type": "markdown",
   "id": "5a961340",
   "metadata": {},
   "source": [
    "**以每筆發文的\"主題分佈\"中分數最大的主題當作該文章的主題**"
   ]
  },
  {
   "cell_type": "code",
   "execution_count": 33,
   "id": "d9266f02",
   "metadata": {},
   "outputs": [
    {
     "name": "stdout",
     "output_type": "stream",
     "text": [
      "[[0.9919059, 0.008094079], [0.87163496, 0.1283651], [0.9876143, 0.012385719]]\n"
     ]
    }
   ],
   "source": [
    "# 取得每筆發文的主題分佈\n",
    "topics_doc = ldamodel.get_document_topics(corpus,minimum_probability=0)\n",
    "\n",
    "# 把每筆發文的主題分佈存成list\n",
    "probabilities = [ [entry[1] for entry in doc] for doc in topics_doc ]\n",
    "print(probabilities[0:3])\n",
    "\n",
    "# 找出probabilities最大的主題 存入 doc_list\n",
    "doc_list = [np.argmax(t) for t in probabilities]"
   ]
  },
  {
   "cell_type": "code",
   "execution_count": 34,
   "id": "4deeda38",
   "metadata": {},
   "outputs": [],
   "source": [
    "# 將結果放進 DataFrame裏\n",
    "data['topic'] = doc_list"
   ]
  },
  {
   "cell_type": "code",
   "execution_count": 35,
   "id": "02c60207",
   "metadata": {},
   "outputs": [
    {
     "data": {
      "text/html": [
       "<div>\n",
       "<style scoped>\n",
       "    .dataframe tbody tr th:only-of-type {\n",
       "        vertical-align: middle;\n",
       "    }\n",
       "\n",
       "    .dataframe tbody tr th {\n",
       "        vertical-align: top;\n",
       "    }\n",
       "\n",
       "    .dataframe thead th {\n",
       "        text-align: right;\n",
       "    }\n",
       "</style>\n",
       "<table border=\"1\" class=\"dataframe\">\n",
       "  <thead>\n",
       "    <tr style=\"text-align: right;\">\n",
       "      <th></th>\n",
       "      <th>artTitle</th>\n",
       "      <th>topic</th>\n",
       "    </tr>\n",
       "  </thead>\n",
       "  <tbody>\n",
       "    <tr>\n",
       "      <th>7</th>\n",
       "      <td>[LIVE]《華燈初上》NETFLIX11/2616:00第一部</td>\n",
       "      <td>0</td>\n",
       "    </tr>\n",
       "    <tr>\n",
       "      <th>8</th>\n",
       "      <td>[討論]華燈初上第一季(雷)</td>\n",
       "      <td>0</td>\n",
       "    </tr>\n",
       "    <tr>\n",
       "      <th>9</th>\n",
       "      <td>[討論]華燈初上（有雷</td>\n",
       "      <td>0</td>\n",
       "    </tr>\n",
       "    <tr>\n",
       "      <th>11</th>\n",
       "      <td>[閒聊]華燈初上最喜歡哪個角色？</td>\n",
       "      <td>1</td>\n",
       "    </tr>\n",
       "    <tr>\n",
       "      <th>12</th>\n",
       "      <td>[心得]華燈初上-林森北路上的雙姝怨</td>\n",
       "      <td>0</td>\n",
       "    </tr>\n",
       "  </tbody>\n",
       "</table>\n",
       "</div>"
      ],
      "text/plain": [
       "                            artTitle  topic\n",
       "7   [LIVE]《華燈初上》NETFLIX11/2616:00第一部      0\n",
       "8                     [討論]華燈初上第一季(雷)      0\n",
       "9                        [討論]華燈初上（有雷      0\n",
       "11                  [閒聊]華燈初上最喜歡哪個角色？      1\n",
       "12                [心得]華燈初上-林森北路上的雙姝怨      0"
      ]
     },
     "execution_count": 35,
     "metadata": {},
     "output_type": "execute_result"
    }
   ],
   "source": [
    "data[[\"artTitle\",\"topic\"]].head(5)"
   ]
  },
  {
   "cell_type": "markdown",
   "id": "8e7e6378",
   "metadata": {},
   "source": [
    "### 3.4 資料內容探索"
   ]
  },
  {
   "cell_type": "markdown",
   "id": "5a704c46",
   "metadata": {},
   "source": [
    "**3.4.1畫出每日主題分布**"
   ]
  },
  {
   "cell_type": "code",
   "execution_count": 36,
   "id": "599fc6ff",
   "metadata": {},
   "outputs": [],
   "source": [
    "# 轉換artDate為 Python 日期格式\n",
    "data['artDate'] = pd.to_datetime(data['artDate'], format=\"%Y-%m-%d\")"
   ]
  },
  {
   "cell_type": "code",
   "execution_count": 37,
   "id": "75fec4a0",
   "metadata": {},
   "outputs": [
    {
     "data": {
      "text/html": [
       "<div>\n",
       "<style scoped>\n",
       "    .dataframe tbody tr th:only-of-type {\n",
       "        vertical-align: middle;\n",
       "    }\n",
       "\n",
       "    .dataframe tbody tr th {\n",
       "        vertical-align: top;\n",
       "    }\n",
       "\n",
       "    .dataframe thead th {\n",
       "        text-align: right;\n",
       "    }\n",
       "</style>\n",
       "<table border=\"1\" class=\"dataframe\">\n",
       "  <thead>\n",
       "    <tr style=\"text-align: right;\">\n",
       "      <th></th>\n",
       "      <th>artDate</th>\n",
       "      <th>topic</th>\n",
       "      <th>count</th>\n",
       "    </tr>\n",
       "  </thead>\n",
       "  <tbody>\n",
       "    <tr>\n",
       "      <th>0</th>\n",
       "      <td>2021-11-26</td>\n",
       "      <td>0</td>\n",
       "      <td>1</td>\n",
       "    </tr>\n",
       "    <tr>\n",
       "      <th>1</th>\n",
       "      <td>2021-11-27</td>\n",
       "      <td>0</td>\n",
       "      <td>2</td>\n",
       "    </tr>\n",
       "    <tr>\n",
       "      <th>2</th>\n",
       "      <td>2021-11-28</td>\n",
       "      <td>0</td>\n",
       "      <td>1</td>\n",
       "    </tr>\n",
       "    <tr>\n",
       "      <th>3</th>\n",
       "      <td>2021-11-28</td>\n",
       "      <td>1</td>\n",
       "      <td>1</td>\n",
       "    </tr>\n",
       "    <tr>\n",
       "      <th>4</th>\n",
       "      <td>2021-11-29</td>\n",
       "      <td>0</td>\n",
       "      <td>1</td>\n",
       "    </tr>\n",
       "    <tr>\n",
       "      <th>5</th>\n",
       "      <td>2021-11-29</td>\n",
       "      <td>1</td>\n",
       "      <td>1</td>\n",
       "    </tr>\n",
       "    <tr>\n",
       "      <th>6</th>\n",
       "      <td>2021-11-30</td>\n",
       "      <td>0</td>\n",
       "      <td>1</td>\n",
       "    </tr>\n",
       "    <tr>\n",
       "      <th>7</th>\n",
       "      <td>2021-12-01</td>\n",
       "      <td>0</td>\n",
       "      <td>1</td>\n",
       "    </tr>\n",
       "    <tr>\n",
       "      <th>8</th>\n",
       "      <td>2021-12-01</td>\n",
       "      <td>1</td>\n",
       "      <td>1</td>\n",
       "    </tr>\n",
       "    <tr>\n",
       "      <th>9</th>\n",
       "      <td>2021-12-02</td>\n",
       "      <td>0</td>\n",
       "      <td>1</td>\n",
       "    </tr>\n",
       "    <tr>\n",
       "      <th>10</th>\n",
       "      <td>2021-12-04</td>\n",
       "      <td>0</td>\n",
       "      <td>1</td>\n",
       "    </tr>\n",
       "    <tr>\n",
       "      <th>11</th>\n",
       "      <td>2021-12-05</td>\n",
       "      <td>0</td>\n",
       "      <td>1</td>\n",
       "    </tr>\n",
       "    <tr>\n",
       "      <th>12</th>\n",
       "      <td>2021-12-05</td>\n",
       "      <td>1</td>\n",
       "      <td>2</td>\n",
       "    </tr>\n",
       "    <tr>\n",
       "      <th>13</th>\n",
       "      <td>2021-12-06</td>\n",
       "      <td>0</td>\n",
       "      <td>2</td>\n",
       "    </tr>\n",
       "    <tr>\n",
       "      <th>14</th>\n",
       "      <td>2021-12-07</td>\n",
       "      <td>0</td>\n",
       "      <td>2</td>\n",
       "    </tr>\n",
       "    <tr>\n",
       "      <th>15</th>\n",
       "      <td>2021-12-07</td>\n",
       "      <td>1</td>\n",
       "      <td>1</td>\n",
       "    </tr>\n",
       "    <tr>\n",
       "      <th>16</th>\n",
       "      <td>2021-12-10</td>\n",
       "      <td>0</td>\n",
       "      <td>2</td>\n",
       "    </tr>\n",
       "    <tr>\n",
       "      <th>17</th>\n",
       "      <td>2021-12-10</td>\n",
       "      <td>1</td>\n",
       "      <td>1</td>\n",
       "    </tr>\n",
       "    <tr>\n",
       "      <th>18</th>\n",
       "      <td>2021-12-11</td>\n",
       "      <td>0</td>\n",
       "      <td>1</td>\n",
       "    </tr>\n",
       "    <tr>\n",
       "      <th>19</th>\n",
       "      <td>2021-12-12</td>\n",
       "      <td>0</td>\n",
       "      <td>2</td>\n",
       "    </tr>\n",
       "    <tr>\n",
       "      <th>20</th>\n",
       "      <td>2021-12-13</td>\n",
       "      <td>1</td>\n",
       "      <td>1</td>\n",
       "    </tr>\n",
       "    <tr>\n",
       "      <th>21</th>\n",
       "      <td>2021-12-16</td>\n",
       "      <td>0</td>\n",
       "      <td>1</td>\n",
       "    </tr>\n",
       "    <tr>\n",
       "      <th>22</th>\n",
       "      <td>2021-12-26</td>\n",
       "      <td>1</td>\n",
       "      <td>1</td>\n",
       "    </tr>\n",
       "    <tr>\n",
       "      <th>23</th>\n",
       "      <td>2021-12-27</td>\n",
       "      <td>0</td>\n",
       "      <td>1</td>\n",
       "    </tr>\n",
       "    <tr>\n",
       "      <th>24</th>\n",
       "      <td>2021-12-28</td>\n",
       "      <td>0</td>\n",
       "      <td>1</td>\n",
       "    </tr>\n",
       "    <tr>\n",
       "      <th>25</th>\n",
       "      <td>2021-12-30</td>\n",
       "      <td>0</td>\n",
       "      <td>1</td>\n",
       "    </tr>\n",
       "    <tr>\n",
       "      <th>26</th>\n",
       "      <td>2021-12-31</td>\n",
       "      <td>0</td>\n",
       "      <td>1</td>\n",
       "    </tr>\n",
       "    <tr>\n",
       "      <th>27</th>\n",
       "      <td>2021-12-31</td>\n",
       "      <td>1</td>\n",
       "      <td>3</td>\n",
       "    </tr>\n",
       "    <tr>\n",
       "      <th>28</th>\n",
       "      <td>2022-01-01</td>\n",
       "      <td>0</td>\n",
       "      <td>1</td>\n",
       "    </tr>\n",
       "    <tr>\n",
       "      <th>29</th>\n",
       "      <td>2022-01-01</td>\n",
       "      <td>1</td>\n",
       "      <td>1</td>\n",
       "    </tr>\n",
       "    <tr>\n",
       "      <th>30</th>\n",
       "      <td>2022-01-02</td>\n",
       "      <td>0</td>\n",
       "      <td>3</td>\n",
       "    </tr>\n",
       "    <tr>\n",
       "      <th>31</th>\n",
       "      <td>2022-01-02</td>\n",
       "      <td>1</td>\n",
       "      <td>3</td>\n",
       "    </tr>\n",
       "    <tr>\n",
       "      <th>32</th>\n",
       "      <td>2022-01-03</td>\n",
       "      <td>0</td>\n",
       "      <td>4</td>\n",
       "    </tr>\n",
       "    <tr>\n",
       "      <th>33</th>\n",
       "      <td>2022-01-03</td>\n",
       "      <td>1</td>\n",
       "      <td>4</td>\n",
       "    </tr>\n",
       "    <tr>\n",
       "      <th>34</th>\n",
       "      <td>2022-01-04</td>\n",
       "      <td>0</td>\n",
       "      <td>1</td>\n",
       "    </tr>\n",
       "    <tr>\n",
       "      <th>35</th>\n",
       "      <td>2022-01-04</td>\n",
       "      <td>1</td>\n",
       "      <td>1</td>\n",
       "    </tr>\n",
       "    <tr>\n",
       "      <th>36</th>\n",
       "      <td>2022-01-05</td>\n",
       "      <td>0</td>\n",
       "      <td>2</td>\n",
       "    </tr>\n",
       "    <tr>\n",
       "      <th>37</th>\n",
       "      <td>2022-01-05</td>\n",
       "      <td>1</td>\n",
       "      <td>2</td>\n",
       "    </tr>\n",
       "    <tr>\n",
       "      <th>38</th>\n",
       "      <td>2022-01-06</td>\n",
       "      <td>1</td>\n",
       "      <td>1</td>\n",
       "    </tr>\n",
       "    <tr>\n",
       "      <th>39</th>\n",
       "      <td>2022-01-07</td>\n",
       "      <td>1</td>\n",
       "      <td>1</td>\n",
       "    </tr>\n",
       "    <tr>\n",
       "      <th>40</th>\n",
       "      <td>2022-01-08</td>\n",
       "      <td>0</td>\n",
       "      <td>1</td>\n",
       "    </tr>\n",
       "    <tr>\n",
       "      <th>41</th>\n",
       "      <td>2022-01-08</td>\n",
       "      <td>1</td>\n",
       "      <td>1</td>\n",
       "    </tr>\n",
       "    <tr>\n",
       "      <th>42</th>\n",
       "      <td>2022-01-09</td>\n",
       "      <td>1</td>\n",
       "      <td>1</td>\n",
       "    </tr>\n",
       "    <tr>\n",
       "      <th>43</th>\n",
       "      <td>2022-01-10</td>\n",
       "      <td>1</td>\n",
       "      <td>1</td>\n",
       "    </tr>\n",
       "    <tr>\n",
       "      <th>44</th>\n",
       "      <td>2022-01-11</td>\n",
       "      <td>0</td>\n",
       "      <td>1</td>\n",
       "    </tr>\n",
       "    <tr>\n",
       "      <th>45</th>\n",
       "      <td>2022-01-12</td>\n",
       "      <td>0</td>\n",
       "      <td>1</td>\n",
       "    </tr>\n",
       "  </tbody>\n",
       "</table>\n",
       "</div>"
      ],
      "text/plain": [
       "      artDate  topic  count\n",
       "0  2021-11-26      0      1\n",
       "1  2021-11-27      0      2\n",
       "2  2021-11-28      0      1\n",
       "3  2021-11-28      1      1\n",
       "4  2021-11-29      0      1\n",
       "5  2021-11-29      1      1\n",
       "6  2021-11-30      0      1\n",
       "7  2021-12-01      0      1\n",
       "8  2021-12-01      1      1\n",
       "9  2021-12-02      0      1\n",
       "10 2021-12-04      0      1\n",
       "11 2021-12-05      0      1\n",
       "12 2021-12-05      1      2\n",
       "13 2021-12-06      0      2\n",
       "14 2021-12-07      0      2\n",
       "15 2021-12-07      1      1\n",
       "16 2021-12-10      0      2\n",
       "17 2021-12-10      1      1\n",
       "18 2021-12-11      0      1\n",
       "19 2021-12-12      0      2\n",
       "20 2021-12-13      1      1\n",
       "21 2021-12-16      0      1\n",
       "22 2021-12-26      1      1\n",
       "23 2021-12-27      0      1\n",
       "24 2021-12-28      0      1\n",
       "25 2021-12-30      0      1\n",
       "26 2021-12-31      0      1\n",
       "27 2021-12-31      1      3\n",
       "28 2022-01-01      0      1\n",
       "29 2022-01-01      1      1\n",
       "30 2022-01-02      0      3\n",
       "31 2022-01-02      1      3\n",
       "32 2022-01-03      0      4\n",
       "33 2022-01-03      1      4\n",
       "34 2022-01-04      0      1\n",
       "35 2022-01-04      1      1\n",
       "36 2022-01-05      0      2\n",
       "37 2022-01-05      1      2\n",
       "38 2022-01-06      1      1\n",
       "39 2022-01-07      1      1\n",
       "40 2022-01-08      0      1\n",
       "41 2022-01-08      1      1\n",
       "42 2022-01-09      1      1\n",
       "43 2022-01-10      1      1\n",
       "44 2022-01-11      0      1\n",
       "45 2022-01-12      0      1"
      ]
     },
     "execution_count": 37,
     "metadata": {},
     "output_type": "execute_result"
    }
   ],
   "source": [
    "# groupby 日期、主題並計算文章篇數\n",
    "date_topic = pd.DataFrame({\n",
    "    'count':data.groupby(['artDate','topic']).size()\n",
    "})\n",
    "\n",
    "date_topic = date_topic.reset_index()\n",
    "date_topic"
   ]
  },
  {
   "cell_type": "code",
   "execution_count": 38,
   "id": "8c28d4f2",
   "metadata": {},
   "outputs": [
    {
     "data": {
      "text/html": [
       "<div>\n",
       "<style scoped>\n",
       "    .dataframe tbody tr th:only-of-type {\n",
       "        vertical-align: middle;\n",
       "    }\n",
       "\n",
       "    .dataframe tbody tr th {\n",
       "        vertical-align: top;\n",
       "    }\n",
       "\n",
       "    .dataframe thead th {\n",
       "        text-align: right;\n",
       "    }\n",
       "</style>\n",
       "<table border=\"1\" class=\"dataframe\">\n",
       "  <thead>\n",
       "    <tr style=\"text-align: right;\">\n",
       "      <th></th>\n",
       "      <th>topic0</th>\n",
       "      <th>topic1</th>\n",
       "    </tr>\n",
       "    <tr>\n",
       "      <th>artDate</th>\n",
       "      <th></th>\n",
       "      <th></th>\n",
       "    </tr>\n",
       "  </thead>\n",
       "  <tbody>\n",
       "    <tr>\n",
       "      <th>2021-11-26</th>\n",
       "      <td>1.0</td>\n",
       "      <td>0.0</td>\n",
       "    </tr>\n",
       "    <tr>\n",
       "      <th>2021-11-27</th>\n",
       "      <td>2.0</td>\n",
       "      <td>0.0</td>\n",
       "    </tr>\n",
       "    <tr>\n",
       "      <th>2021-11-28</th>\n",
       "      <td>1.0</td>\n",
       "      <td>1.0</td>\n",
       "    </tr>\n",
       "    <tr>\n",
       "      <th>2021-11-29</th>\n",
       "      <td>1.0</td>\n",
       "      <td>1.0</td>\n",
       "    </tr>\n",
       "    <tr>\n",
       "      <th>2021-11-30</th>\n",
       "      <td>1.0</td>\n",
       "      <td>0.0</td>\n",
       "    </tr>\n",
       "  </tbody>\n",
       "</table>\n",
       "</div>"
      ],
      "text/plain": [
       "            topic0  topic1\n",
       "artDate                   \n",
       "2021-11-26     1.0     0.0\n",
       "2021-11-27     2.0     0.0\n",
       "2021-11-28     1.0     1.0\n",
       "2021-11-29     1.0     1.0\n",
       "2021-11-30     1.0     0.0"
      ]
     },
     "execution_count": 38,
     "metadata": {},
     "output_type": "execute_result"
    }
   ],
   "source": [
    "date_df = date_topic.pivot_table(index='artDate', values='count', columns='topic').fillna(0).reset_index()\n",
    "date_df.columns = ['artDate', 'topic0', 'topic1']\n",
    "date_df = date_df.set_index('artDate')\n",
    "date_df.head(5)"
   ]
  },
  {
   "cell_type": "markdown",
   "id": "a92fa728",
   "metadata": {},
   "source": [
    "各主題的討論程度每日都會浮動，可看出網友們對於華燈初上的各討論topic都很熱烈。"
   ]
  },
  {
   "cell_type": "markdown",
   "id": "9d86ba50",
   "metadata": {},
   "source": [
    "### 3.5 N-gram 字詞相關網路圖"
   ]
  },
  {
   "cell_type": "markdown",
   "id": "5b6b4fe3",
   "metadata": {},
   "source": [
    "為了更進一步的探討，我們將文章根據主題模型的結果進行分類，並且針對每個不同的主題文章進行 N-Gram 分析且繪製出字辭相關網路圖，目的是為了能更加瞭解主題模型所歸納出的2個主題分別有哪些意義。"
   ]
  },
  {
   "cell_type": "code",
   "execution_count": 39,
   "id": "61073092",
   "metadata": {},
   "outputs": [],
   "source": [
    "data_topic1 = data[data['topic']==0] # \n",
    "data_topic2 = data[data['topic']==1] # \n"
   ]
  },
  {
   "cell_type": "code",
   "execution_count": 40,
   "id": "57cbd34a",
   "metadata": {},
   "outputs": [],
   "source": [
    "bigramfdist1 = FreqDist()\n",
    "bigramfdist2 = FreqDist()\n",
    "\n",
    "def bigram_getToken_dict(row,dist,n=2):\n",
    "    seg_list = jieba.lcut(row)\n",
    "    seg_list = [w for w in seg_list if w not in stopWords and len(w)>1]\n",
    "    dist.update(ngrams(seg_list, n))\n",
    "    seg_list2 = ngrams(seg_list, n)\n",
    "    seg_list = [\" \".join(w) for w in list(seg_list2)]\n",
    "    return seg_list"
   ]
  },
  {
   "cell_type": "code",
   "execution_count": 41,
   "id": "f6bf49b4",
   "metadata": {
    "scrolled": false
   },
   "outputs": [
    {
     "name": "stderr",
     "output_type": "stream",
     "text": [
      "<ipython-input-41-77b9211923e5>:1: SettingWithCopyWarning: \n",
      "A value is trying to be set on a copy of a slice from a DataFrame.\n",
      "Try using .loc[row_indexer,col_indexer] = value instead\n",
      "\n",
      "See the caveats in the documentation: https://pandas.pydata.org/pandas-docs/stable/user_guide/indexing.html#returning-a-view-versus-a-copy\n",
      "  data_topic1[\"word\"] = data_topic1.sentence.apply(lambda x: bigram_getToken_dict(row = x,n=2,dist=bigramfdist1))\n",
      "<ipython-input-41-77b9211923e5>:2: SettingWithCopyWarning: \n",
      "A value is trying to be set on a copy of a slice from a DataFrame.\n",
      "Try using .loc[row_indexer,col_indexer] = value instead\n",
      "\n",
      "See the caveats in the documentation: https://pandas.pydata.org/pandas-docs/stable/user_guide/indexing.html#returning-a-view-versus-a-copy\n",
      "  data_topic2[\"word\"] = data_topic2.sentence.apply(lambda x: bigram_getToken_dict(row = x,n=2,dist=bigramfdist2))\n"
     ]
    }
   ],
   "source": [
    "data_topic1[\"word\"] = data_topic1.sentence.apply(lambda x: bigram_getToken_dict(row = x,n=2,dist=bigramfdist1))\n",
    "data_topic2[\"word\"] = data_topic2.sentence.apply(lambda x: bigram_getToken_dict(row = x,n=2,dist=bigramfdist2))"
   ]
  },
  {
   "cell_type": "code",
   "execution_count": 42,
   "id": "484f53c4",
   "metadata": {},
   "outputs": [],
   "source": [
    "#建立bigram和count的dictionary\n",
    "#這裡取最多的前30項\n",
    "d1 = {k:v for k,v in bigramfdist1.most_common(30)}\n",
    "d2 = {k:v for k,v in bigramfdist2.most_common(30)}"
   ]
  },
  {
   "cell_type": "code",
   "execution_count": 43,
   "id": "f48e532a",
   "metadata": {},
   "outputs": [],
   "source": [
    "G1 = nx.Graph()\n",
    "\n",
    "# 建立 nodes 間的連結\n",
    "for k, v in [d1][0].items():\n",
    "    G1.add_edge(k[0], k[1], weight=v)\n",
    "    \n",
    "# 取得edge權重\n",
    "weights1 = [w[2]['weight']*0.03 for w in  G1.edges(data=True)]"
   ]
  },
  {
   "cell_type": "code",
   "execution_count": 99,
   "id": "bc36f747",
   "metadata": {},
   "outputs": [
    {
     "data": {
      "image/png": "[encoded data removed]",
      "text/plain": [
       "<Figure size 720x576 with 1 Axes>"
      ]
     },
     "metadata": {},
     "output_type": "display_data"
    }
   ],
   "source": [
    "fig, ax = plt.subplots(figsize=(10, 8))\n",
    "\n",
    "pos = nx.spring_layout(G1, k=2)\n",
    "\n",
    "# networks\n",
    "nx.draw_networkx(G1, pos,\n",
    "                 font_size=16,\n",
    "                 width=weights1,\n",
    "                 edge_color='grey',\n",
    "                 node_color='purple',\n",
    "                 with_labels = False,\n",
    "                 ax=ax)\n",
    "\n",
    "# 增加 labels\n",
    "for key, value in pos.items():\n",
    "    x, y = value[0]+.07, value[1]+.045\n",
    "    ax.text(x, y,\n",
    "            s=key,\n",
    "            bbox=dict(facecolor='red', alpha=0.25),\n",
    "            horizontalalignment='center', fontsize=13)\n",
    "fig.suptitle('Visulization of 2-Gram (Topic1 華燈初上角色陣容)', fontsize=30)    \n",
    "plt.show()"
   ]
  },
  {
   "cell_type": "code",
   "execution_count": 45,
   "id": "741a2c86",
   "metadata": {},
   "outputs": [],
   "source": [
    "G2 = nx.Graph()\n",
    "\n",
    "# 建立 nodes 間的連結\n",
    "for k, v in [d2][0].items():\n",
    "    G2.add_edge(k[0], k[1], weight=v)\n",
    "    \n",
    "# 取得edge權重\n",
    "weights2 = [w[2]['weight']*0.03 for w in  G2.edges(data=True)]"
   ]
  },
  {
   "cell_type": "code",
   "execution_count": 100,
   "id": "d26aa4c3",
   "metadata": {
    "scrolled": false
   },
   "outputs": [
    {
     "data": {
      "image/png": "[encoded data removed]",
      "text/plain": [
       "<Figure size 720x576 with 1 Axes>"
      ]
     },
     "metadata": {},
     "output_type": "display_data"
    }
   ],
   "source": [
    "fig, ax = plt.subplots(figsize=(10, 8))\n",
    "\n",
    "pos = nx.spring_layout(G2, k=2)\n",
    "\n",
    "# networks\n",
    "nx.draw_networkx(G2, pos,\n",
    "                 font_size=16,\n",
    "                 width=weights2,\n",
    "                 edge_color='grey',\n",
    "                 node_color='purple',\n",
    "                 with_labels = False,\n",
    "                 ax=ax)\n",
    "\n",
    "# 增加 labels\n",
    "for key, value in pos.items():\n",
    "    x, y = value[0]+.07, value[1]+.045\n",
    "    ax.text(x, y,\n",
    "            s=key,\n",
    "            bbox=dict(facecolor='red', alpha=0.25),\n",
    "            horizontalalignment='center', fontsize=13)\n",
    "fig.suptitle('Visulization of 2-Gram (Topic2 愛恨情仇與劇情兇手)', fontsize=30)    \n",
    "plt.show()"
   ]
  },
  {
   "cell_type": "markdown",
   "id": "f42488d9",
   "metadata": {},
   "source": [
    "雖然我們已經透過主題模型的結果，將文章切分成兩個主題，但透過N gram 字詞相關網路圖的結果會發現，各自不同主題的文章其實都有高度重疊的部分，因為我們再製作 字詞相關網路圖 時採用的統計量是字辭頻率，因此我們可以從以上的結果發現真正決定主題模型的主題劃分應當是在較少數的字詞上，但不同的主題文章大部分會出現的字詞幾乎都是一致的。而這個發現帶給我們的收穫是，如果要真正地繪製出不同主題下文章的字詞相關網路圖，我們應當刪去那些共同出現在不同主題文章中的字詞，才更能夠看出不同主題文章下的內容差異。"
   ]
  },
  {
   "cell_type": "markdown",
   "id": "90821073",
   "metadata": {},
   "source": [
    "## 4. 社群網路圖\n",
    "社群網絡分析就是運用圖論(Graph theory)從這些節點和連結去研究人與人之間的關係以及整個群體的結構。"
   ]
  },
  {
   "cell_type": "markdown",
   "id": "417e3e85",
   "metadata": {},
   "source": [
    "### 4.1 基本網路圖"
   ]
  },
  {
   "cell_type": "code",
   "execution_count": 47,
   "id": "25fd9f68",
   "metadata": {},
   "outputs": [
    {
     "data": {
      "text/html": [
       "<div>\n",
       "<style scoped>\n",
       "    .dataframe tbody tr th:only-of-type {\n",
       "        vertical-align: middle;\n",
       "    }\n",
       "\n",
       "    .dataframe tbody tr th {\n",
       "        vertical-align: top;\n",
       "    }\n",
       "\n",
       "    .dataframe thead th {\n",
       "        text-align: right;\n",
       "    }\n",
       "</style>\n",
       "<table border=\"1\" class=\"dataframe\">\n",
       "  <thead>\n",
       "    <tr style=\"text-align: right;\">\n",
       "      <th></th>\n",
       "      <th>artTitle</th>\n",
       "      <th>artDate</th>\n",
       "      <th>artTime</th>\n",
       "      <th>artUrl</th>\n",
       "      <th>artPoster</th>\n",
       "      <th>artCat</th>\n",
       "      <th>commentNum</th>\n",
       "      <th>push</th>\n",
       "      <th>boo</th>\n",
       "      <th>sentence</th>\n",
       "      <th>sum</th>\n",
       "      <th>word</th>\n",
       "      <th>topic</th>\n",
       "    </tr>\n",
       "  </thead>\n",
       "  <tbody>\n",
       "    <tr>\n",
       "      <th>7</th>\n",
       "      <td>[LIVE]《華燈初上》NETFLIX11/2616:00第一部</td>\n",
       "      <td>2021-11-26</td>\n",
       "      <td>05:21:14</td>\n",
       "      <td>https://www.ptt.cc/bbs/TaiwanDrama/M.163790407...</td>\n",
       "      <td>YRanger</td>\n",
       "      <td>TaiwanDrama</td>\n",
       "      <td>432</td>\n",
       "      <td>271</td>\n",
       "      <td>3</td>\n",
       "      <td>華燈初上  ,,,,,,正式預告,,羅雨儂和蘇慶儀的故事在她們還是女孩的時候 就已經開始了。...</td>\n",
       "      <td>274</td>\n",
       "      <td>[華燈初上, 正式, 預告, 羅雨儂, 蘇慶儀, 故事, 女孩, 生長, 背景, 個性, 天...</td>\n",
       "      <td>0</td>\n",
       "    </tr>\n",
       "  </tbody>\n",
       "</table>\n",
       "</div>"
      ],
      "text/plain": [
       "                           artTitle    artDate   artTime  \\\n",
       "7  [LIVE]《華燈初上》NETFLIX11/2616:00第一部 2021-11-26  05:21:14   \n",
       "\n",
       "                                              artUrl artPoster       artCat  \\\n",
       "7  https://www.ptt.cc/bbs/TaiwanDrama/M.163790407...   YRanger  TaiwanDrama   \n",
       "\n",
       "   commentNum  push  boo                                           sentence  \\\n",
       "7         432   271    3  華燈初上  ,,,,,,正式預告,,羅雨儂和蘇慶儀的故事在她們還是女孩的時候 就已經開始了。...   \n",
       "\n",
       "   sum                                               word  topic  \n",
       "7  274  [華燈初上, 正式, 預告, 羅雨儂, 蘇慶儀, 故事, 女孩, 生長, 背景, 個性, 天...      0  "
      ]
     },
     "execution_count": 47,
     "metadata": {},
     "output_type": "execute_result"
    }
   ],
   "source": [
    "data.head(1)"
   ]
  },
  {
   "cell_type": "code",
   "execution_count": 48,
   "id": "648564ce",
   "metadata": {},
   "outputs": [
    {
     "data": {
      "text/html": [
       "<div>\n",
       "<style scoped>\n",
       "    .dataframe tbody tr th:only-of-type {\n",
       "        vertical-align: middle;\n",
       "    }\n",
       "\n",
       "    .dataframe tbody tr th {\n",
       "        vertical-align: top;\n",
       "    }\n",
       "\n",
       "    .dataframe thead th {\n",
       "        text-align: right;\n",
       "    }\n",
       "</style>\n",
       "<table border=\"1\" class=\"dataframe\">\n",
       "  <thead>\n",
       "    <tr style=\"text-align: right;\">\n",
       "      <th></th>\n",
       "      <th>artTitle</th>\n",
       "      <th>artDate</th>\n",
       "      <th>artTime</th>\n",
       "      <th>artUrl</th>\n",
       "      <th>artPoster</th>\n",
       "      <th>artCat</th>\n",
       "      <th>commentNum</th>\n",
       "      <th>push</th>\n",
       "      <th>boo</th>\n",
       "      <th>sentence</th>\n",
       "      <th>cmtContent</th>\n",
       "      <th>cmtPoster</th>\n",
       "      <th>cmtStatus</th>\n",
       "      <th>cmtContent</th>\n",
       "    </tr>\n",
       "  </thead>\n",
       "  <tbody>\n",
       "    <tr>\n",
       "      <th>0</th>\n",
       "      <td>[LIVE]《華燈初上》NETFLIX11/2616:00第一部</td>\n",
       "      <td>2021/11/26</td>\n",
       "      <td>05:21:14</td>\n",
       "      <td>https://www.ptt.cc/bbs/TaiwanDrama/M.163790407...</td>\n",
       "      <td>YRanger</td>\n",
       "      <td>TaiwanDrama</td>\n",
       "      <td>432</td>\n",
       "      <td>271</td>\n",
       "      <td>3</td>\n",
       "      <td>華燈初上  NETFLIX\\nhttps://www.netflix.com/title/8...</td>\n",
       "      <td>:(不是責怪原po，是建議與說明~)臺劇板的[LIVE]發表</td>\n",
       "      <td>sodabubble</td>\n",
       "      <td>→</td>\n",
       "      <td>:(不是責怪原po，是建議與說明~)臺劇板的[LIVE]發表</td>\n",
       "    </tr>\n",
       "  </tbody>\n",
       "</table>\n",
       "</div>"
      ],
      "text/plain": [
       "                           artTitle     artDate   artTime  \\\n",
       "0  [LIVE]《華燈初上》NETFLIX11/2616:00第一部  2021/11/26  05:21:14   \n",
       "\n",
       "                                              artUrl artPoster       artCat  \\\n",
       "0  https://www.ptt.cc/bbs/TaiwanDrama/M.163790407...   YRanger  TaiwanDrama   \n",
       "\n",
       "   commentNum  push  boo                                           sentence  \\\n",
       "0         432   271    3  華燈初上  NETFLIX\\nhttps://www.netflix.com/title/8...   \n",
       "\n",
       "                       cmtContent   cmtPoster cmtStatus  \\\n",
       "0  :(不是責怪原po，是建議與說明~)臺劇板的[LIVE]發表  sodabubble         →   \n",
       "\n",
       "                       cmtContent  \n",
       "0  :(不是責怪原po，是建議與說明~)臺劇板的[LIVE]發表  "
      ]
     },
     "execution_count": 48,
     "metadata": {},
     "output_type": "execute_result"
    }
   ],
   "source": [
    "Reviews.head(1)"
   ]
  },
  {
   "cell_type": "code",
   "execution_count": 49,
   "id": "9cd9b3cf",
   "metadata": {},
   "outputs": [],
   "source": [
    "# 把reviews中 cmtPoster(回覆者), cmtStatus(推噓), cmtContent(留言) 合併到 data的資料表\n",
    "posts_Reviews = Reviews.loc[:,[\"artUrl\", \"cmtPoster\", \"cmtStatus\", \"cmtContent\"]]\n",
    "posts_Reviews  = pd.merge(data, posts_Reviews, how=\"right\", on=\"artUrl\")\n",
    "posts_Reviews = posts_Reviews[posts_Reviews[\"commentNum\"]>0]"
   ]
  },
  {
   "cell_type": "code",
   "execution_count": 50,
   "id": "2f92561e",
   "metadata": {},
   "outputs": [
    {
     "data": {
      "text/html": [
       "<div>\n",
       "<style scoped>\n",
       "    .dataframe tbody tr th:only-of-type {\n",
       "        vertical-align: middle;\n",
       "    }\n",
       "\n",
       "    .dataframe tbody tr th {\n",
       "        vertical-align: top;\n",
       "    }\n",
       "\n",
       "    .dataframe thead th {\n",
       "        text-align: right;\n",
       "    }\n",
       "</style>\n",
       "<table border=\"1\" class=\"dataframe\">\n",
       "  <thead>\n",
       "    <tr style=\"text-align: right;\">\n",
       "      <th></th>\n",
       "      <th>artTitle</th>\n",
       "      <th>artDate</th>\n",
       "      <th>artTime</th>\n",
       "      <th>artUrl</th>\n",
       "      <th>artPoster</th>\n",
       "      <th>artCat</th>\n",
       "      <th>commentNum</th>\n",
       "      <th>push</th>\n",
       "      <th>boo</th>\n",
       "      <th>sentence</th>\n",
       "      <th>sum</th>\n",
       "      <th>word</th>\n",
       "      <th>topic</th>\n",
       "      <th>cmtPoster</th>\n",
       "      <th>cmtStatus</th>\n",
       "      <th>cmtContent</th>\n",
       "      <th>cmtContent</th>\n",
       "    </tr>\n",
       "  </thead>\n",
       "  <tbody>\n",
       "    <tr>\n",
       "      <th>0</th>\n",
       "      <td>[LIVE]《華燈初上》NETFLIX11/2616:00第一部</td>\n",
       "      <td>2021-11-26</td>\n",
       "      <td>05:21:14</td>\n",
       "      <td>https://www.ptt.cc/bbs/TaiwanDrama/M.163790407...</td>\n",
       "      <td>YRanger</td>\n",
       "      <td>TaiwanDrama</td>\n",
       "      <td>432</td>\n",
       "      <td>271</td>\n",
       "      <td>3</td>\n",
       "      <td>華燈初上  ,,,,,,正式預告,,羅雨儂和蘇慶儀的故事在她們還是女孩的時候 就已經開始了。...</td>\n",
       "      <td>274</td>\n",
       "      <td>[華燈初上, 正式, 預告, 羅雨儂, 蘇慶儀, 故事, 女孩, 生長, 背景, 個性, 天...</td>\n",
       "      <td>0</td>\n",
       "      <td>sodabubble</td>\n",
       "      <td>→</td>\n",
       "      <td>:(不是責怪原po，是建議與說明~)臺劇板的[LIVE]發表</td>\n",
       "      <td>:(不是責怪原po，是建議與說明~)臺劇板的[LIVE]發表</td>\n",
       "    </tr>\n",
       "    <tr>\n",
       "      <th>1</th>\n",
       "      <td>[LIVE]《華燈初上》NETFLIX11/2616:00第一部</td>\n",
       "      <td>2021-11-26</td>\n",
       "      <td>05:21:14</td>\n",
       "      <td>https://www.ptt.cc/bbs/TaiwanDrama/M.163790407...</td>\n",
       "      <td>YRanger</td>\n",
       "      <td>TaiwanDrama</td>\n",
       "      <td>432</td>\n",
       "      <td>271</td>\n",
       "      <td>3</td>\n",
       "      <td>華燈初上  ,,,,,,正式預告,,羅雨儂和蘇慶儀的故事在她們還是女孩的時候 就已經開始了。...</td>\n",
       "      <td>274</td>\n",
       "      <td>[華燈初上, 正式, 預告, 羅雨儂, 蘇慶儀, 故事, 女孩, 生長, 背景, 個性, 天...</td>\n",
       "      <td>0</td>\n",
       "      <td>sodabubble</td>\n",
       "      <td>→</td>\n",
       "      <td>:時間是每集首播前的兩小時內。例如16:00開播，[LIVE]</td>\n",
       "      <td>:時間是每集首播前的兩小時內。例如16:00開播，[LIVE]</td>\n",
       "    </tr>\n",
       "  </tbody>\n",
       "</table>\n",
       "</div>"
      ],
      "text/plain": [
       "                           artTitle    artDate   artTime  \\\n",
       "0  [LIVE]《華燈初上》NETFLIX11/2616:00第一部 2021-11-26  05:21:14   \n",
       "1  [LIVE]《華燈初上》NETFLIX11/2616:00第一部 2021-11-26  05:21:14   \n",
       "\n",
       "                                              artUrl artPoster       artCat  \\\n",
       "0  https://www.ptt.cc/bbs/TaiwanDrama/M.163790407...   YRanger  TaiwanDrama   \n",
       "1  https://www.ptt.cc/bbs/TaiwanDrama/M.163790407...   YRanger  TaiwanDrama   \n",
       "\n",
       "   commentNum  push  boo                                           sentence  \\\n",
       "0         432   271    3  華燈初上  ,,,,,,正式預告,,羅雨儂和蘇慶儀的故事在她們還是女孩的時候 就已經開始了。...   \n",
       "1         432   271    3  華燈初上  ,,,,,,正式預告,,羅雨儂和蘇慶儀的故事在她們還是女孩的時候 就已經開始了。...   \n",
       "\n",
       "   sum                                               word  topic   cmtPoster  \\\n",
       "0  274  [華燈初上, 正式, 預告, 羅雨儂, 蘇慶儀, 故事, 女孩, 生長, 背景, 個性, 天...      0  sodabubble   \n",
       "1  274  [華燈初上, 正式, 預告, 羅雨儂, 蘇慶儀, 故事, 女孩, 生長, 背景, 個性, 天...      0  sodabubble   \n",
       "\n",
       "  cmtStatus                       cmtContent                       cmtContent  \n",
       "0         →   :(不是責怪原po，是建議與說明~)臺劇板的[LIVE]發表   :(不是責怪原po，是建議與說明~)臺劇板的[LIVE]發表  \n",
       "1         →  :時間是每集首播前的兩小時內。例如16:00開播，[LIVE]  :時間是每集首播前的兩小時內。例如16:00開播，[LIVE]  "
      ]
     },
     "execution_count": 50,
     "metadata": {},
     "output_type": "execute_result"
    }
   ],
   "source": [
    "posts_Reviews.head(2)"
   ]
  },
  {
   "cell_type": "code",
   "execution_count": 51,
   "id": "c16d1543",
   "metadata": {},
   "outputs": [
    {
     "data": {
      "text/html": [
       "<div>\n",
       "<style scoped>\n",
       "    .dataframe tbody tr th:only-of-type {\n",
       "        vertical-align: middle;\n",
       "    }\n",
       "\n",
       "    .dataframe tbody tr th {\n",
       "        vertical-align: top;\n",
       "    }\n",
       "\n",
       "    .dataframe thead th {\n",
       "        text-align: right;\n",
       "    }\n",
       "</style>\n",
       "<table border=\"1\" class=\"dataframe\">\n",
       "  <thead>\n",
       "    <tr style=\"text-align: right;\">\n",
       "      <th></th>\n",
       "      <th>cmtPoster</th>\n",
       "      <th>artPoster</th>\n",
       "      <th>artUrl</th>\n",
       "    </tr>\n",
       "  </thead>\n",
       "  <tbody>\n",
       "    <tr>\n",
       "      <th>0</th>\n",
       "      <td>sodabubble</td>\n",
       "      <td>YRanger</td>\n",
       "      <td>https://www.ptt.cc/bbs/TaiwanDrama/M.163790407...</td>\n",
       "    </tr>\n",
       "    <tr>\n",
       "      <th>1</th>\n",
       "      <td>sodabubble</td>\n",
       "      <td>YRanger</td>\n",
       "      <td>https://www.ptt.cc/bbs/TaiwanDrama/M.163790407...</td>\n",
       "    </tr>\n",
       "    <tr>\n",
       "      <th>2</th>\n",
       "      <td>sodabubble</td>\n",
       "      <td>YRanger</td>\n",
       "      <td>https://www.ptt.cc/bbs/TaiwanDrama/M.163790407...</td>\n",
       "    </tr>\n",
       "    <tr>\n",
       "      <th>3</th>\n",
       "      <td>YRanger</td>\n",
       "      <td>YRanger</td>\n",
       "      <td>https://www.ptt.cc/bbs/TaiwanDrama/M.163790407...</td>\n",
       "    </tr>\n",
       "    <tr>\n",
       "      <th>4</th>\n",
       "      <td>n731662000</td>\n",
       "      <td>YRanger</td>\n",
       "      <td>https://www.ptt.cc/bbs/TaiwanDrama/M.163790407...</td>\n",
       "    </tr>\n",
       "  </tbody>\n",
       "</table>\n",
       "</div>"
      ],
      "text/plain": [
       "    cmtPoster artPoster                                             artUrl\n",
       "0  sodabubble   YRanger  https://www.ptt.cc/bbs/TaiwanDrama/M.163790407...\n",
       "1  sodabubble   YRanger  https://www.ptt.cc/bbs/TaiwanDrama/M.163790407...\n",
       "2  sodabubble   YRanger  https://www.ptt.cc/bbs/TaiwanDrama/M.163790407...\n",
       "3     YRanger   YRanger  https://www.ptt.cc/bbs/TaiwanDrama/M.163790407...\n",
       "4  n731662000   YRanger  https://www.ptt.cc/bbs/TaiwanDrama/M.163790407..."
      ]
     },
     "execution_count": 51,
     "metadata": {},
     "output_type": "execute_result"
    }
   ],
   "source": [
    "# 取出 cmtPoster(回覆者)、artPoster(發文者)、artUrl(文章連結) 三個欄位\n",
    "link = posts_Reviews.loc[:,[\"cmtPoster\", \"artPoster\", \"artUrl\"]]\n",
    "link.head(5)"
   ]
  },
  {
   "cell_type": "code",
   "execution_count": 52,
   "id": "f1118745",
   "metadata": {},
   "outputs": [
    {
     "data": {
      "text/plain": [
       "10327"
      ]
     },
     "execution_count": 52,
     "metadata": {},
     "output_type": "execute_result"
    }
   ],
   "source": [
    "len(link)"
   ]
  },
  {
   "cell_type": "markdown",
   "id": "9da524f5",
   "metadata": {},
   "source": [
    "使用 cmtPoster(回覆者)、artPoster(發文者) 建立兩者的連結，這裡先嘗試使用前100筆資料(總共有10327筆資料)"
   ]
  },
  {
   "cell_type": "code",
   "execution_count": 53,
   "id": "ea3bda51",
   "metadata": {
    "code_folding": [
     4
    ]
   },
   "outputs": [],
   "source": [
    "# Create network plot \n",
    "G = nx.Graph()\n",
    "\n",
    "# 建立 nodes 間的連結\n",
    "for i in range(0,100):\n",
    "    G.add_edge(link[\"cmtPoster\"][i], link[\"artPoster\"][i])\n",
    "    "
   ]
  },
  {
   "cell_type": "code",
   "execution_count": 54,
   "id": "0b4314b6",
   "metadata": {
    "code_folding": [
     6,
     15
    ]
   },
   "outputs": [
    {
     "data": {
      "image/png": "[encoded data removed]",
      "text/plain": [
       "<Figure size 720x576 with 1 Axes>"
      ]
     },
     "metadata": {},
     "output_type": "display_data"
    }
   ],
   "source": [
    "fig, ax = plt.subplots(figsize=(10, 8))\n",
    "\n",
    "# 建立節點的布局 (節點位置)\n",
    "pos = nx.spring_layout(G, k=2)\n",
    "\n",
    "# networks\n",
    "nx.draw_networkx(G, pos,\n",
    "                 font_size=16,\n",
    "#                  width=weights,\n",
    "                 edge_color='grey',\n",
    "                 node_color='purple',\n",
    "                 with_labels = False,\n",
    "                 ax=ax)\n",
    "\n",
    "# 增加 labels\n",
    "for key, value in pos.items():\n",
    "    x, y = value[0]+.07, value[1]+.045 #調整label的位置(右上)\n",
    "    ax.text(x, y,\n",
    "            s=key,\n",
    "            bbox=dict(facecolor='red', alpha=0.25),\n",
    "            horizontalalignment='center', fontsize=13)\n",
    "    \n",
    "plt.show()"
   ]
  },
  {
   "cell_type": "markdown",
   "id": "f00da705",
   "metadata": {},
   "source": [
    "資料太多太雜(10327筆資料)，所以我們下面需要做進一步篩選。"
   ]
  },
  {
   "cell_type": "markdown",
   "id": "e37542d1",
   "metadata": {},
   "source": [
    "### 4.2 資料篩選"
   ]
  },
  {
   "cell_type": "markdown",
   "id": "ebc48037",
   "metadata": {},
   "source": [
    "資料篩選的方式：\n",
    "\n",
    "- 文章:文章日期、留言數(commentNum)\n",
    "- link、node:degree"
   ]
  },
  {
   "cell_type": "markdown",
   "id": "800322dd",
   "metadata": {},
   "source": [
    "看一下文章留言數大概都多少(方便後面篩選)"
   ]
  },
  {
   "cell_type": "code",
   "execution_count": 55,
   "id": "8d349657",
   "metadata": {},
   "outputs": [
    {
     "data": {
      "text/plain": [
       "Text(0, 0.5, 'count')"
      ]
     },
     "execution_count": 55,
     "metadata": {},
     "output_type": "execute_result"
    },
    {
     "data": {
      "image/png": "[encoded data removed]",
      "text/plain": [
       "<Figure size 864x576 with 1 Axes>"
      ]
     },
     "metadata": {
      "needs_background": "light"
     },
     "output_type": "display_data"
    }
   ],
   "source": [
    "plt.figure(figsize=(12,8))   # 顯示圖框架大小 (寬,高)\n",
    "plt.style.use(\"ggplot\")     # 使用ggplot主題樣式\n",
    "plt.rcParams['font.sans-serif']=['SimHei'] #使中文能正常顯示\n",
    "plt.hist(data[\"commentNum\"])\n",
    "\n",
    "plt.title('文章留言數')\n",
    "plt.xlabel('文章留言數')\n",
    "plt.ylabel('count')"
   ]
  },
  {
   "cell_type": "markdown",
   "id": "4696cadb",
   "metadata": {},
   "source": [
    "依據發文數或回覆數篩選post和review"
   ]
  },
  {
   "cell_type": "code",
   "execution_count": 56,
   "id": "a8295884",
   "metadata": {},
   "outputs": [
    {
     "data": {
      "text/html": [
       "<div>\n",
       "<style scoped>\n",
       "    .dataframe tbody tr th:only-of-type {\n",
       "        vertical-align: middle;\n",
       "    }\n",
       "\n",
       "    .dataframe tbody tr th {\n",
       "        vertical-align: top;\n",
       "    }\n",
       "\n",
       "    .dataframe thead th {\n",
       "        text-align: right;\n",
       "    }\n",
       "</style>\n",
       "<table border=\"1\" class=\"dataframe\">\n",
       "  <thead>\n",
       "    <tr style=\"text-align: right;\">\n",
       "      <th></th>\n",
       "      <th>artPoster</th>\n",
       "      <th>count</th>\n",
       "    </tr>\n",
       "  </thead>\n",
       "  <tbody>\n",
       "    <tr>\n",
       "      <th>37</th>\n",
       "      <td>markwu123</td>\n",
       "      <td>3</td>\n",
       "    </tr>\n",
       "    <tr>\n",
       "      <th>30</th>\n",
       "      <td>jung1211</td>\n",
       "      <td>2</td>\n",
       "    </tr>\n",
       "    <tr>\n",
       "      <th>16</th>\n",
       "      <td>Tiara5566</td>\n",
       "      <td>2</td>\n",
       "    </tr>\n",
       "    <tr>\n",
       "      <th>32</th>\n",
       "      <td>kiradu</td>\n",
       "      <td>2</td>\n",
       "    </tr>\n",
       "    <tr>\n",
       "      <th>53</th>\n",
       "      <td>zihying</td>\n",
       "      <td>2</td>\n",
       "    </tr>\n",
       "    <tr>\n",
       "      <th>34</th>\n",
       "      <td>lovely0930</td>\n",
       "      <td>2</td>\n",
       "    </tr>\n",
       "    <tr>\n",
       "      <th>44</th>\n",
       "      <td>ttnakafzcm</td>\n",
       "      <td>2</td>\n",
       "    </tr>\n",
       "    <tr>\n",
       "      <th>29</th>\n",
       "      <td>jj96857400</td>\n",
       "      <td>2</td>\n",
       "    </tr>\n",
       "    <tr>\n",
       "      <th>31</th>\n",
       "      <td>justicem</td>\n",
       "      <td>1</td>\n",
       "    </tr>\n",
       "    <tr>\n",
       "      <th>33</th>\n",
       "      <td>laiteng0105</td>\n",
       "      <td>1</td>\n",
       "    </tr>\n",
       "    <tr>\n",
       "      <th>35</th>\n",
       "      <td>lucking903</td>\n",
       "      <td>1</td>\n",
       "    </tr>\n",
       "    <tr>\n",
       "      <th>36</th>\n",
       "      <td>mapleXD</td>\n",
       "      <td>1</td>\n",
       "    </tr>\n",
       "    <tr>\n",
       "      <th>38</th>\n",
       "      <td>misssuika</td>\n",
       "      <td>1</td>\n",
       "    </tr>\n",
       "    <tr>\n",
       "      <th>39</th>\n",
       "      <td>pptstv</td>\n",
       "      <td>1</td>\n",
       "    </tr>\n",
       "    <tr>\n",
       "      <th>40</th>\n",
       "      <td>pwl</td>\n",
       "      <td>1</td>\n",
       "    </tr>\n",
       "    <tr>\n",
       "      <th>41</th>\n",
       "      <td>smallmaemae</td>\n",
       "      <td>1</td>\n",
       "    </tr>\n",
       "    <tr>\n",
       "      <th>0</th>\n",
       "      <td>BearUncle</td>\n",
       "      <td>1</td>\n",
       "    </tr>\n",
       "    <tr>\n",
       "      <th>42</th>\n",
       "      <td>ss61512tw</td>\n",
       "      <td>1</td>\n",
       "    </tr>\n",
       "    <tr>\n",
       "      <th>45</th>\n",
       "      <td>usercl6</td>\n",
       "      <td>1</td>\n",
       "    </tr>\n",
       "    <tr>\n",
       "      <th>46</th>\n",
       "      <td>villagermess</td>\n",
       "      <td>1</td>\n",
       "    </tr>\n",
       "    <tr>\n",
       "      <th>47</th>\n",
       "      <td>vivian0515</td>\n",
       "      <td>1</td>\n",
       "    </tr>\n",
       "    <tr>\n",
       "      <th>48</th>\n",
       "      <td>vores</td>\n",
       "      <td>1</td>\n",
       "    </tr>\n",
       "    <tr>\n",
       "      <th>49</th>\n",
       "      <td>vupmp6</td>\n",
       "      <td>1</td>\n",
       "    </tr>\n",
       "    <tr>\n",
       "      <th>50</th>\n",
       "      <td>wishcrystal</td>\n",
       "      <td>1</td>\n",
       "    </tr>\n",
       "    <tr>\n",
       "      <th>51</th>\n",
       "      <td>wishling</td>\n",
       "      <td>1</td>\n",
       "    </tr>\n",
       "    <tr>\n",
       "      <th>52</th>\n",
       "      <td>yutapon</td>\n",
       "      <td>1</td>\n",
       "    </tr>\n",
       "    <tr>\n",
       "      <th>54</th>\n",
       "      <td>zkow</td>\n",
       "      <td>1</td>\n",
       "    </tr>\n",
       "    <tr>\n",
       "      <th>55</th>\n",
       "      <td>zorgYen</td>\n",
       "      <td>1</td>\n",
       "    </tr>\n",
       "    <tr>\n",
       "      <th>43</th>\n",
       "      <td>techcrpa</td>\n",
       "      <td>1</td>\n",
       "    </tr>\n",
       "    <tr>\n",
       "      <th>28</th>\n",
       "      <td>jie0205hope</td>\n",
       "      <td>1</td>\n",
       "    </tr>\n",
       "    <tr>\n",
       "      <th>1</th>\n",
       "      <td>CahoForever</td>\n",
       "      <td>1</td>\n",
       "    </tr>\n",
       "    <tr>\n",
       "      <th>13</th>\n",
       "      <td>QchchQ</td>\n",
       "      <td>1</td>\n",
       "    </tr>\n",
       "    <tr>\n",
       "      <th>2</th>\n",
       "      <td>ChiaChi2018</td>\n",
       "      <td>1</td>\n",
       "    </tr>\n",
       "    <tr>\n",
       "      <th>3</th>\n",
       "      <td>Eileen1116</td>\n",
       "      <td>1</td>\n",
       "    </tr>\n",
       "    <tr>\n",
       "      <th>4</th>\n",
       "      <td>Erostupid</td>\n",
       "      <td>1</td>\n",
       "    </tr>\n",
       "    <tr>\n",
       "      <th>5</th>\n",
       "      <td>FG27</td>\n",
       "      <td>1</td>\n",
       "    </tr>\n",
       "    <tr>\n",
       "      <th>6</th>\n",
       "      <td>GarfieldCxT</td>\n",
       "      <td>1</td>\n",
       "    </tr>\n",
       "    <tr>\n",
       "      <th>7</th>\n",
       "      <td>InfocusM510</td>\n",
       "      <td>1</td>\n",
       "    </tr>\n",
       "    <tr>\n",
       "      <th>8</th>\n",
       "      <td>Lewis1105</td>\n",
       "      <td>1</td>\n",
       "    </tr>\n",
       "    <tr>\n",
       "      <th>9</th>\n",
       "      <td>MBAR</td>\n",
       "      <td>1</td>\n",
       "    </tr>\n",
       "    <tr>\n",
       "      <th>10</th>\n",
       "      <td>Mentor</td>\n",
       "      <td>1</td>\n",
       "    </tr>\n",
       "    <tr>\n",
       "      <th>11</th>\n",
       "      <td>PPwind</td>\n",
       "      <td>1</td>\n",
       "    </tr>\n",
       "    <tr>\n",
       "      <th>12</th>\n",
       "      <td>PTTskyblue</td>\n",
       "      <td>1</td>\n",
       "    </tr>\n",
       "    <tr>\n",
       "      <th>14</th>\n",
       "      <td>REDBLUEr</td>\n",
       "      <td>1</td>\n",
       "    </tr>\n",
       "    <tr>\n",
       "      <th>27</th>\n",
       "      <td>jason0986</td>\n",
       "      <td>1</td>\n",
       "    </tr>\n",
       "    <tr>\n",
       "      <th>15</th>\n",
       "      <td>SODAECHO1</td>\n",
       "      <td>1</td>\n",
       "    </tr>\n",
       "    <tr>\n",
       "      <th>17</th>\n",
       "      <td>YRanger</td>\n",
       "      <td>1</td>\n",
       "    </tr>\n",
       "    <tr>\n",
       "      <th>18</th>\n",
       "      <td>a16628667</td>\n",
       "      <td>1</td>\n",
       "    </tr>\n",
       "    <tr>\n",
       "      <th>19</th>\n",
       "      <td>aher2600</td>\n",
       "      <td>1</td>\n",
       "    </tr>\n",
       "    <tr>\n",
       "      <th>20</th>\n",
       "      <td>alonxalon</td>\n",
       "      <td>1</td>\n",
       "    </tr>\n",
       "    <tr>\n",
       "      <th>21</th>\n",
       "      <td>anni4134</td>\n",
       "      <td>1</td>\n",
       "    </tr>\n",
       "    <tr>\n",
       "      <th>22</th>\n",
       "      <td>e04su3no</td>\n",
       "      <td>1</td>\n",
       "    </tr>\n",
       "    <tr>\n",
       "      <th>23</th>\n",
       "      <td>eds28915</td>\n",
       "      <td>1</td>\n",
       "    </tr>\n",
       "    <tr>\n",
       "      <th>24</th>\n",
       "      <td>etrangere</td>\n",
       "      <td>1</td>\n",
       "    </tr>\n",
       "    <tr>\n",
       "      <th>25</th>\n",
       "      <td>hebeshaman</td>\n",
       "      <td>1</td>\n",
       "    </tr>\n",
       "    <tr>\n",
       "      <th>26</th>\n",
       "      <td>hotcurry</td>\n",
       "      <td>1</td>\n",
       "    </tr>\n",
       "    <tr>\n",
       "      <th>56</th>\n",
       "      <td>zzing</td>\n",
       "      <td>1</td>\n",
       "    </tr>\n",
       "  </tbody>\n",
       "</table>\n",
       "</div>"
      ],
      "text/plain": [
       "       artPoster  count\n",
       "37     markwu123      3\n",
       "30      jung1211      2\n",
       "16     Tiara5566      2\n",
       "32        kiradu      2\n",
       "53       zihying      2\n",
       "34    lovely0930      2\n",
       "44    ttnakafzcm      2\n",
       "29    jj96857400      2\n",
       "31      justicem      1\n",
       "33   laiteng0105      1\n",
       "35    lucking903      1\n",
       "36       mapleXD      1\n",
       "38     misssuika      1\n",
       "39        pptstv      1\n",
       "40           pwl      1\n",
       "41   smallmaemae      1\n",
       "0      BearUncle      1\n",
       "42     ss61512tw      1\n",
       "45       usercl6      1\n",
       "46  villagermess      1\n",
       "47    vivian0515      1\n",
       "48         vores      1\n",
       "49        vupmp6      1\n",
       "50   wishcrystal      1\n",
       "51      wishling      1\n",
       "52       yutapon      1\n",
       "54          zkow      1\n",
       "55       zorgYen      1\n",
       "43      techcrpa      1\n",
       "28   jie0205hope      1\n",
       "1    CahoForever      1\n",
       "13        QchchQ      1\n",
       "2    ChiaChi2018      1\n",
       "3     Eileen1116      1\n",
       "4      Erostupid      1\n",
       "5           FG27      1\n",
       "6    GarfieldCxT      1\n",
       "7    InfocusM510      1\n",
       "8      Lewis1105      1\n",
       "9           MBAR      1\n",
       "10        Mentor      1\n",
       "11        PPwind      1\n",
       "12    PTTskyblue      1\n",
       "14      REDBLUEr      1\n",
       "27     jason0986      1\n",
       "15     SODAECHO1      1\n",
       "17       YRanger      1\n",
       "18     a16628667      1\n",
       "19      aher2600      1\n",
       "20     alonxalon      1\n",
       "21      anni4134      1\n",
       "22      e04su3no      1\n",
       "23      eds28915      1\n",
       "24     etrangere      1\n",
       "25    hebeshaman      1\n",
       "26      hotcurry      1\n",
       "56         zzing      1"
      ]
     },
     "execution_count": 56,
     "metadata": {},
     "output_type": "execute_result"
    }
   ],
   "source": [
    "# 帳號發文篇數\n",
    "pd.DataFrame(data.groupby(\"artPoster\").size(),columns = ['count']).reset_index().sort_values(by=\"count\",ascending=False)"
   ]
  },
  {
   "cell_type": "code",
   "execution_count": 57,
   "id": "1a7e6379",
   "metadata": {},
   "outputs": [
    {
     "name": "stdout",
     "output_type": "stream",
     "text": [
      "發文者數量總共: 57\n",
      "回覆者數量總共: 2111\n"
     ]
    }
   ],
   "source": [
    "# 檢視人數\n",
    "print(\"發文者數量總共:\",len(set(posts_Reviews[\"artPoster\"])))\n",
    "print(\"回覆者數量總共:\",len(set(posts_Reviews[\"cmtPoster\"])))"
   ]
  },
  {
   "cell_type": "markdown",
   "id": "42acd333",
   "metadata": {},
   "source": [
    "**標記所有出現過的使用者**\n",
    "- poster：只發過文、發過文+留過言\n",
    "- replyer：只留過言"
   ]
  },
  {
   "cell_type": "code",
   "execution_count": 107,
   "id": "94504b41",
   "metadata": {},
   "outputs": [],
   "source": [
    "# 用set()得到不重複的集合\n",
    "s = set(list(posts_Reviews[\"artPoster\"])+list(posts_Reviews[\"cmtPoster\"]))"
   ]
  },
  {
   "cell_type": "code",
   "execution_count": 108,
   "id": "901b5111",
   "metadata": {},
   "outputs": [],
   "source": [
    "allPoster = pd.DataFrame(list(s),columns=[\"user\"])"
   ]
  },
  {
   "cell_type": "code",
   "execution_count": 109,
   "id": "df03580e",
   "metadata": {},
   "outputs": [],
   "source": [
    "allPoster[\"type\"] = allPoster[\"user\"].apply(lambda x: \"poster\" if x in list(data[\"artPoster\"]) else \"replyer\")"
   ]
  },
  {
   "cell_type": "code",
   "execution_count": 110,
   "id": "4bf115f0",
   "metadata": {},
   "outputs": [
    {
     "data": {
      "text/html": [
       "<div>\n",
       "<style scoped>\n",
       "    .dataframe tbody tr th:only-of-type {\n",
       "        vertical-align: middle;\n",
       "    }\n",
       "\n",
       "    .dataframe tbody tr th {\n",
       "        vertical-align: top;\n",
       "    }\n",
       "\n",
       "    .dataframe thead th {\n",
       "        text-align: right;\n",
       "    }\n",
       "</style>\n",
       "<table border=\"1\" class=\"dataframe\">\n",
       "  <thead>\n",
       "    <tr style=\"text-align: right;\">\n",
       "      <th></th>\n",
       "      <th>user</th>\n",
       "      <th>type</th>\n",
       "    </tr>\n",
       "  </thead>\n",
       "  <tbody>\n",
       "    <tr>\n",
       "      <th>0</th>\n",
       "      <td>smallwind</td>\n",
       "      <td>replyer</td>\n",
       "    </tr>\n",
       "    <tr>\n",
       "      <th>1</th>\n",
       "      <td>rolly11</td>\n",
       "      <td>replyer</td>\n",
       "    </tr>\n",
       "    <tr>\n",
       "      <th>2</th>\n",
       "      <td>Jkia</td>\n",
       "      <td>replyer</td>\n",
       "    </tr>\n",
       "    <tr>\n",
       "      <th>3</th>\n",
       "      <td>tatattaa</td>\n",
       "      <td>replyer</td>\n",
       "    </tr>\n",
       "    <tr>\n",
       "      <th>4</th>\n",
       "      <td>yaliieah</td>\n",
       "      <td>replyer</td>\n",
       "    </tr>\n",
       "  </tbody>\n",
       "</table>\n",
       "</div>"
      ],
      "text/plain": [
       "        user     type\n",
       "0  smallwind  replyer\n",
       "1    rolly11  replyer\n",
       "2       Jkia  replyer\n",
       "3   tatattaa  replyer\n",
       "4   yaliieah  replyer"
      ]
     },
     "execution_count": 110,
     "metadata": {},
     "output_type": "execute_result"
    }
   ],
   "source": [
    "allPoster.head(5)"
   ]
  },
  {
   "cell_type": "markdown",
   "id": "6815a5f2",
   "metadata": {},
   "source": [
    "### 4.3 以日期篩選社群"
   ]
  },
  {
   "cell_type": "markdown",
   "id": "1a849631",
   "metadata": {},
   "source": [
    " 我們從下方「每月文章篇數」來看，可以發現2022/01/02的文章篇數明顯多於其他天數，故我們從此天作為篩選依據。"
   ]
  },
  {
   "cell_type": "code",
   "execution_count": 62,
   "id": "7322119b",
   "metadata": {},
   "outputs": [],
   "source": [
    "# groupby artDate 轉為新的DataFrame\n",
    "day_count = pd.DataFrame({\n",
    "    'date': data.groupby('artDate').size().index,\n",
    "    'count': data.groupby('artDate').size().values\n",
    "})\n",
    "day_count = day_count.sort_values(by='date') # 排序\n",
    "day_count.date = pd.to_datetime(day_count['date']) # 將裡面資料轉為日期格式"
   ]
  },
  {
   "cell_type": "code",
   "execution_count": 63,
   "id": "2b7f2250",
   "metadata": {},
   "outputs": [
    {
     "data": {
      "image/png": "[encoded data removed]",
      "text/plain": [
       "<Figure size 432x288 with 1 Axes>"
      ]
     },
     "metadata": {},
     "output_type": "display_data"
    }
   ],
   "source": [
    "plt.plot(day_count['date'], day_count['count'])\n",
    "plt.title('每月文章篇數') # 標題\n",
    "plt.xlabel('月份') # x軸標題\n",
    "plt.ylabel('篇數') # y軸標題\n",
    "plt.xticks(rotation=30) # 旋轉x刻度避免重疊\n",
    "plt.show()"
   ]
  },
  {
   "cell_type": "code",
   "execution_count": 101,
   "id": "b072d9df",
   "metadata": {},
   "outputs": [],
   "source": [
    "# 篩選日期為2021-01-02 且 留言數>50的\n",
    "posts_Reviews_0102 = (posts_Reviews.query('artDate == \"2022-01-02\"')\n",
    "                      .query('commentNum>50')\n",
    "                      .groupby(['cmtPoster','artUrl'],as_index=False).size()\n",
    "                     )"
   ]
  },
  {
   "cell_type": "code",
   "execution_count": 102,
   "id": "275a95f2",
   "metadata": {},
   "outputs": [
    {
     "data": {
      "text/html": [
       "<div>\n",
       "<style scoped>\n",
       "    .dataframe tbody tr th:only-of-type {\n",
       "        vertical-align: middle;\n",
       "    }\n",
       "\n",
       "    .dataframe tbody tr th {\n",
       "        vertical-align: top;\n",
       "    }\n",
       "\n",
       "    .dataframe thead th {\n",
       "        text-align: right;\n",
       "    }\n",
       "</style>\n",
       "<table border=\"1\" class=\"dataframe\">\n",
       "  <thead>\n",
       "    <tr style=\"text-align: right;\">\n",
       "      <th></th>\n",
       "      <th>cmtPoster</th>\n",
       "      <th>artUrl</th>\n",
       "      <th>size</th>\n",
       "    </tr>\n",
       "  </thead>\n",
       "  <tbody>\n",
       "    <tr>\n",
       "      <th>24</th>\n",
       "      <td>Ciline</td>\n",
       "      <td>https://www.ptt.cc/bbs/TaiwanDrama/M.164112257...</td>\n",
       "      <td>7</td>\n",
       "    </tr>\n",
       "    <tr>\n",
       "      <th>31</th>\n",
       "      <td>Dirito</td>\n",
       "      <td>https://www.ptt.cc/bbs/TaiwanDrama/M.164112395...</td>\n",
       "      <td>7</td>\n",
       "    </tr>\n",
       "    <tr>\n",
       "      <th>43</th>\n",
       "      <td>GO77</td>\n",
       "      <td>https://www.ptt.cc/bbs/TaiwanDrama/M.164112395...</td>\n",
       "      <td>6</td>\n",
       "    </tr>\n",
       "  </tbody>\n",
       "</table>\n",
       "</div>"
      ],
      "text/plain": [
       "   cmtPoster                                             artUrl  size\n",
       "24    Ciline  https://www.ptt.cc/bbs/TaiwanDrama/M.164112257...     7\n",
       "31    Dirito  https://www.ptt.cc/bbs/TaiwanDrama/M.164112395...     7\n",
       "43      GO77  https://www.ptt.cc/bbs/TaiwanDrama/M.164112395...     6"
      ]
     },
     "execution_count": 102,
     "metadata": {},
     "output_type": "execute_result"
    }
   ],
   "source": [
    "# 篩選有人在同一篇文章重複回覆大於5次\n",
    "posts_Reviews_0102 = posts_Reviews_0102.query('size>5')\n",
    "posts_Reviews_0102.head(3)"
   ]
  },
  {
   "cell_type": "code",
   "execution_count": 103,
   "id": "e1584807",
   "metadata": {},
   "outputs": [
    {
     "data": {
      "text/html": [
       "<div>\n",
       "<style scoped>\n",
       "    .dataframe tbody tr th:only-of-type {\n",
       "        vertical-align: middle;\n",
       "    }\n",
       "\n",
       "    .dataframe tbody tr th {\n",
       "        vertical-align: top;\n",
       "    }\n",
       "\n",
       "    .dataframe thead th {\n",
       "        text-align: right;\n",
       "    }\n",
       "</style>\n",
       "<table border=\"1\" class=\"dataframe\">\n",
       "  <thead>\n",
       "    <tr style=\"text-align: right;\">\n",
       "      <th></th>\n",
       "      <th>cmtPoster</th>\n",
       "      <th>artUrl</th>\n",
       "      <th>size</th>\n",
       "      <th>artPoster</th>\n",
       "    </tr>\n",
       "  </thead>\n",
       "  <tbody>\n",
       "    <tr>\n",
       "      <th>0</th>\n",
       "      <td>Ciline</td>\n",
       "      <td>https://www.ptt.cc/bbs/TaiwanDrama/M.164112257...</td>\n",
       "      <td>7</td>\n",
       "      <td>GarfieldCxT</td>\n",
       "    </tr>\n",
       "    <tr>\n",
       "      <th>1</th>\n",
       "      <td>Dirito</td>\n",
       "      <td>https://www.ptt.cc/bbs/TaiwanDrama/M.164112395...</td>\n",
       "      <td>7</td>\n",
       "      <td>zihying</td>\n",
       "    </tr>\n",
       "    <tr>\n",
       "      <th>2</th>\n",
       "      <td>GO77</td>\n",
       "      <td>https://www.ptt.cc/bbs/TaiwanDrama/M.164112395...</td>\n",
       "      <td>6</td>\n",
       "      <td>zihying</td>\n",
       "    </tr>\n",
       "  </tbody>\n",
       "</table>\n",
       "</div>"
      ],
      "text/plain": [
       "  cmtPoster                                             artUrl  size  \\\n",
       "0    Ciline  https://www.ptt.cc/bbs/TaiwanDrama/M.164112257...     7   \n",
       "1    Dirito  https://www.ptt.cc/bbs/TaiwanDrama/M.164112395...     7   \n",
       "2      GO77  https://www.ptt.cc/bbs/TaiwanDrama/M.164112395...     6   \n",
       "\n",
       "     artPoster  \n",
       "0  GarfieldCxT  \n",
       "1      zihying  \n",
       "2      zihying  "
      ]
     },
     "execution_count": 103,
     "metadata": {},
     "output_type": "execute_result"
    }
   ],
   "source": [
    "# 因為需要artPoster所以merge link，之後使用drop_duplicates去除重複資料\n",
    "link_0102 = pd.merge(posts_Reviews_0102,link,on=[\"cmtPoster\",\"artUrl\"],how=\"left\").drop_duplicates()\n",
    "link_0102.reset_index(inplace=True, drop=True) #重設index\n",
    "link_0102.head(3)"
   ]
  },
  {
   "cell_type": "code",
   "execution_count": 104,
   "id": "5ff5311d",
   "metadata": {
    "code_folding": []
   },
   "outputs": [],
   "source": [
    "# Create network plot \n",
    "# nx.Graph()為無向圖 ; nx.DiGraph()為有向圖\n",
    "G = nx.Graph()\n",
    "\n",
    "# 建立 nodes 間的連結\n",
    "for i in range(0,len(link_0102)):\n",
    "    G.add_edge(link_0102[\"cmtPoster\"][i], link_0102[\"artPoster\"][i])"
   ]
  },
  {
   "cell_type": "code",
   "execution_count": 68,
   "id": "6a8f4da6",
   "metadata": {
    "code_folding": []
   },
   "outputs": [
    {
     "data": {
      "image/png": "[encoded data removed]",
      "text/plain": [
       "<Figure size 720x576 with 1 Axes>"
      ]
     },
     "metadata": {},
     "output_type": "display_data"
    }
   ],
   "source": [
    "fig, ax = plt.subplots(figsize=(10, 8))\n",
    "\n",
    "# 建立節點的布局 (節點位置)\n",
    "pos = nx.spring_layout(G, k=2)\n",
    "\n",
    "# networks\n",
    "nx.draw_networkx(G, pos,\n",
    "                 node_size=50,\n",
    "                 edge_color='grey',\n",
    "                 node_color=\"blue\",\n",
    "                 with_labels = False,\n",
    "                 ax=ax)\n",
    "    \n",
    "plt.show()"
   ]
  },
  {
   "cell_type": "markdown",
   "id": "09087a6f",
   "metadata": {},
   "source": [
    "**加上nodes的顯示資訊**  \n",
    "用使用者的身份來區分點的顏色\n",
    "- poster:red(有發文)\n",
    "- replyer:blue(只有回覆文章)"
   ]
  },
  {
   "cell_type": "code",
   "execution_count": 111,
   "id": "506ed744",
   "metadata": {
    "code_folding": [
     0
    ]
   },
   "outputs": [],
   "source": [
    "# 設定node顏色，red(有發文), blue(只有回覆)\n",
    "color_map = []\n",
    "for node in G.nodes():\n",
    "    if allPoster[allPoster[\"user\"]==node][\"type\"].item()==\"replyer\":\n",
    "        color_map.append('blue')\n",
    "    else: \n",
    "        color_map.append('red') "
   ]
  },
  {
   "cell_type": "code",
   "execution_count": 112,
   "id": "93413c50",
   "metadata": {
    "code_folding": []
   },
   "outputs": [
    {
     "data": {
      "image/png": "[encoded data removed]",
      "text/plain": [
       "<Figure size 720x576 with 1 Axes>"
      ]
     },
     "metadata": {},
     "output_type": "display_data"
    }
   ],
   "source": [
    "fig, ax = plt.subplots(figsize=(10, 8))\n",
    "\n",
    "# 建立節點的布局 (節點位置)\n",
    "pos = nx.spring_layout(G, k=2)\n",
    "\n",
    "# networks\n",
    "nx.draw_networkx(G, pos,\n",
    "                 node_size=50,\n",
    "                 edge_color='grey',\n",
    "                 node_color=color_map,\n",
    "                 with_labels = False,\n",
    "                 ax=ax)\n",
    "    \n",
    "plt.show()"
   ]
  },
  {
   "cell_type": "markdown",
   "id": "148149a3",
   "metadata": {},
   "source": [
    "為點加上帳號名字，用degree篩選要顯示出的使用者(degree>5)，以免圖形被密密麻麻的文字覆蓋。  "
   ]
  },
  {
   "cell_type": "code",
   "execution_count": 71,
   "id": "baa4bd45",
   "metadata": {
    "code_folding": []
   },
   "outputs": [],
   "source": [
    "# 刪除degree<1的點\n",
    "to_be_removed = [x for  x in G.nodes() if G.degree(x) < 1]\n",
    "for x in to_be_removed:\n",
    "    G.remove_node(x)"
   ]
  },
  {
   "cell_type": "code",
   "execution_count": 113,
   "id": "51ec8d2b",
   "metadata": {
    "code_folding": []
   },
   "outputs": [],
   "source": [
    "# 設定node顏色，red(有發文), blue(只有回覆)\n",
    "color_map = []\n",
    "for node in G.nodes():\n",
    "    if allPoster[allPoster[\"user\"]==node][\"type\"].item()==\"replyer\":\n",
    "        color_map.append('blue')\n",
    "    else: \n",
    "        color_map.append('red') "
   ]
  },
  {
   "cell_type": "code",
   "execution_count": 114,
   "id": "f66e8165",
   "metadata": {
    "code_folding": []
   },
   "outputs": [
    {
     "data": {
      "text/plain": [
       "['GarfieldCxT', 'zihying', 'vores', 'ss61512tw', 'smydguo']"
      ]
     },
     "execution_count": 114,
     "metadata": {},
     "output_type": "execute_result"
    }
   ],
   "source": [
    "# 找出degree>1的點\n",
    "degrees = [node for (node, val) in G.degree() if val>1]\n",
    "degrees"
   ]
  },
  {
   "cell_type": "code",
   "execution_count": 115,
   "id": "fc21e90c",
   "metadata": {
    "code_folding": [
     0
    ]
   },
   "outputs": [],
   "source": [
    "# 把找出的人加進label中\n",
    "labels = {}  \n",
    "for node in G.nodes():\n",
    "    if node in degrees:\n",
    "        #set the node name as the key and the label as its value \n",
    "        labels[node] = node"
   ]
  },
  {
   "cell_type": "code",
   "execution_count": 116,
   "id": "02d3d1a4",
   "metadata": {
    "code_folding": []
   },
   "outputs": [
    {
     "data": {
      "image/png": "[encoded data removed]",
      "text/plain": [
       "<Figure size 720x576 with 1 Axes>"
      ]
     },
     "metadata": {},
     "output_type": "display_data"
    }
   ],
   "source": [
    "fig, ax = plt.subplots(figsize=(10, 8))\n",
    "\n",
    "# 建立節點的布局 (節點位置)\n",
    "#pos = nx.spring_layout(G, k=2)\n",
    "pos = nx.shell_layout(G)\n",
    "\n",
    "# networks\n",
    "nx.draw_networkx(G, pos,\n",
    "                 node_size=50,\n",
    "                 edge_color='grey',\n",
    "                 node_color=color_map,\n",
    "                 with_labels = False,\n",
    "                 ax=ax)\n",
    "\n",
    "# 增加 labels\n",
    "nx.draw_networkx_labels(G,pos,labels,font_size=16,font_color='black',\n",
    "                        bbox=dict(facecolor='red', alpha=0.25),\n",
    "                        horizontalalignment='center')\n",
    "    \n",
    "plt.show()"
   ]
  },
  {
   "cell_type": "code",
   "execution_count": 76,
   "id": "49d80078",
   "metadata": {
    "code_folding": []
   },
   "outputs": [
    {
     "data": {
      "text/plain": [
       "{'Ciline': 0.05263157894736842,\n",
       " 'GarfieldCxT': 0.2631578947368421,\n",
       " 'Dirito': 0.05263157894736842,\n",
       " 'zihying': 0.21052631578947367,\n",
       " 'GO77': 0.05263157894736842,\n",
       " 'KID543': 0.05263157894736842,\n",
       " 'vores': 0.3157894736842105,\n",
       " 'MBAR': 0.05263157894736842,\n",
       " 'ss61512tw': 0.10526315789473684,\n",
       " 'NICKSHOW': 0.05263157894736842,\n",
       " 'REDBLUEr': 0.05263157894736842,\n",
       " 'bettybuy': 0.05263157894736842,\n",
       " 'bkool': 0.05263157894736842,\n",
       " 'dowcher': 0.05263157894736842,\n",
       " 'htk': 0.05263157894736842,\n",
       " 'mag1021': 0.05263157894736842,\n",
       " 'nancyh': 0.05263157894736842,\n",
       " 'overhead': 0.05263157894736842,\n",
       " 'polysmallfan': 0.05263157894736842,\n",
       " 'smydguo': 0.10526315789473684}"
      ]
     },
     "execution_count": 76,
     "metadata": {},
     "output_type": "execute_result"
    }
   ],
   "source": [
    "# degree centrality\n",
    "degree = nx.degree_centrality(G)\n",
    "degree"
   ]
  },
  {
   "cell_type": "code",
   "execution_count": 77,
   "id": "faa50560",
   "metadata": {},
   "outputs": [],
   "source": [
    "# eigenvector centrality\n",
    "eigenvector = nx.eigenvector_centrality(G)"
   ]
  },
  {
   "cell_type": "code",
   "execution_count": 78,
   "id": "a42bb3ce",
   "metadata": {},
   "outputs": [],
   "source": [
    "# pagerank centrality\n",
    "pr = nx.pagerank(G, alpha=0.5)"
   ]
  },
  {
   "cell_type": "code",
   "execution_count": 79,
   "id": "7f208b46",
   "metadata": {},
   "outputs": [],
   "source": [
    "# betweenness centrality\n",
    "between = nx.betweenness_centrality(G)"
   ]
  },
  {
   "cell_type": "code",
   "execution_count": 80,
   "id": "b65e919d",
   "metadata": {},
   "outputs": [
    {
     "name": "stdout",
     "output_type": "stream",
     "text": [
      "degree centrality: ['vores', 'GarfieldCxT', 'zihying', 'ss61512tw', 'smydguo']\n",
      "eigenvector centrality: ['vores', 'smydguo', 'GarfieldCxT', 'KID543', 'bettybuy']\n",
      "pagerank centrality: ['vores', 'GarfieldCxT', 'zihying', 'ss61512tw', 'smydguo']\n",
      "betweenness centrality: ['vores', 'GarfieldCxT', 'smydguo', 'zihying', 'ss61512tw']\n"
     ]
    }
   ],
   "source": [
    "# 找出degree centrality最高的前5名\n",
    "print(\"degree centrality:\",sorted(degree, key=degree.get, reverse=True)[:5])\n",
    "\n",
    "# 找出eigenvector centrality最高的前5名\n",
    "print(\"eigenvector centrality:\",sorted(eigenvector, key=eigenvector.get, reverse=True)[:5])\n",
    "\n",
    "# 找出pagerank centrality最高的前5名\n",
    "print(\"pagerank centrality:\",sorted(pr, key=pr.get, reverse=True)[:5])\n",
    "\n",
    "# 找出betweenness centrality最高的前5名\n",
    "print(\"betweenness centrality:\",sorted(between, key=between.get, reverse=True)[:5])"
   ]
  },
  {
   "cell_type": "markdown",
   "id": "dc7ec935",
   "metadata": {},
   "source": [
    "從這個部分我們可以看到基本的使用者關係，從各個角度的中心性排名來看，可以得知最為頻繁出現的有：vores, GarfieldCxT, zihying, smydguo, ss61512。"
   ]
  },
  {
   "cell_type": "markdown",
   "id": "2bd798ff",
   "metadata": {},
   "source": [
    "### 4.4 以主題篩選社群"
   ]
  },
  {
   "cell_type": "markdown",
   "id": "062a3861",
   "metadata": {},
   "source": [
    "挑選出2022-01-02當天的文章， 篩選一篇文章回覆5次以上者，且文章留言數大於200則， 文章主題歸類為0(報導相關)與2(調侃)者， 欄位只取：cmtPoster(評論者), artPoster(發文者), artUrl(文章連結), topic(主題)"
   ]
  },
  {
   "cell_type": "code",
   "execution_count": 105,
   "id": "d1c9d965",
   "metadata": {},
   "outputs": [],
   "source": [
    "# 加上topic\n",
    "topic_0102 = pd.merge(link_0102,posts_Reviews,on=[\"cmtPoster\",\"artUrl\"],how=\"left\")[[\"cmtPoster\",\"artUrl\",\"topic\"]].drop_duplicates()"
   ]
  },
  {
   "cell_type": "code",
   "execution_count": 106,
   "id": "0c942744",
   "metadata": {},
   "outputs": [
    {
     "data": {
      "text/html": [
       "<div>\n",
       "<style scoped>\n",
       "    .dataframe tbody tr th:only-of-type {\n",
       "        vertical-align: middle;\n",
       "    }\n",
       "\n",
       "    .dataframe tbody tr th {\n",
       "        vertical-align: top;\n",
       "    }\n",
       "\n",
       "    .dataframe thead th {\n",
       "        text-align: right;\n",
       "    }\n",
       "</style>\n",
       "<table border=\"1\" class=\"dataframe\">\n",
       "  <thead>\n",
       "    <tr style=\"text-align: right;\">\n",
       "      <th></th>\n",
       "      <th>cmtPoster</th>\n",
       "      <th>artUrl</th>\n",
       "      <th>topic</th>\n",
       "      <th>artPoster</th>\n",
       "    </tr>\n",
       "  </thead>\n",
       "  <tbody>\n",
       "    <tr>\n",
       "      <th>0</th>\n",
       "      <td>Ciline</td>\n",
       "      <td>https://www.ptt.cc/bbs/TaiwanDrama/M.164112257...</td>\n",
       "      <td>0</td>\n",
       "      <td>GarfieldCxT</td>\n",
       "    </tr>\n",
       "    <tr>\n",
       "      <th>1</th>\n",
       "      <td>Dirito</td>\n",
       "      <td>https://www.ptt.cc/bbs/TaiwanDrama/M.164112395...</td>\n",
       "      <td>1</td>\n",
       "      <td>zihying</td>\n",
       "    </tr>\n",
       "    <tr>\n",
       "      <th>2</th>\n",
       "      <td>GO77</td>\n",
       "      <td>https://www.ptt.cc/bbs/TaiwanDrama/M.164112395...</td>\n",
       "      <td>1</td>\n",
       "      <td>zihying</td>\n",
       "    </tr>\n",
       "  </tbody>\n",
       "</table>\n",
       "</div>"
      ],
      "text/plain": [
       "  cmtPoster                                             artUrl  topic  \\\n",
       "0    Ciline  https://www.ptt.cc/bbs/TaiwanDrama/M.164112257...      0   \n",
       "1    Dirito  https://www.ptt.cc/bbs/TaiwanDrama/M.164112395...      1   \n",
       "2      GO77  https://www.ptt.cc/bbs/TaiwanDrama/M.164112395...      1   \n",
       "\n",
       "     artPoster  \n",
       "0  GarfieldCxT  \n",
       "1      zihying  \n",
       "2      zihying  "
      ]
     },
     "execution_count": 106,
     "metadata": {},
     "output_type": "execute_result"
    }
   ],
   "source": [
    "# 因為需要artPoster所以merge link，之後使用drop_duplicates去除重複資料\n",
    "link_0102_topic = pd.merge(topic_0102,link,on=[\"cmtPoster\",\"artUrl\"],how=\"left\").drop_duplicates()\n",
    "link_0102_topic.reset_index(inplace=True, drop=True) #重設index\n",
    "link_0102_topic.head(3)"
   ]
  },
  {
   "cell_type": "code",
   "execution_count": 83,
   "id": "7398f756",
   "metadata": {},
   "outputs": [],
   "source": [
    "# Create network plot \n",
    "G = nx.Graph()\n",
    "\n",
    "# 建立 nodes 間的連結，及edge的顏色\n",
    "color_map_edge = []\n",
    "for i in range(0,len(link_0102_topic)):\n",
    "    G.add_edge(link_0102_topic[\"cmtPoster\"][i], link_0102_topic[\"artPoster\"][i])\n",
    "    if link_0102_topic[\"topic\"][i] == 0: #以主題區分顏色\n",
    "        color_map_edge.append('orange') # 主題零:人物角色相關\n",
    "    else: \n",
    "        color_map_edge.append('grey') # 主題一:愛恨情仇與兇手相關   "
   ]
  },
  {
   "cell_type": "code",
   "execution_count": 84,
   "id": "05eba27c",
   "metadata": {},
   "outputs": [],
   "source": [
    "# 刪除degree<1的點\n",
    "to_be_removed = [x for  x in G.nodes() if G.degree(x) < 1]\n",
    "for x in to_be_removed:\n",
    "    G.remove_node(x)"
   ]
  },
  {
   "cell_type": "code",
   "execution_count": 117,
   "id": "9be26d5c",
   "metadata": {},
   "outputs": [],
   "source": [
    "# 設定node顏色，red(有發文), blue(只有回覆)\n",
    "color_map = []\n",
    "for node in G.nodes():\n",
    "    if allPoster[allPoster[\"user\"]==node][\"type\"].item()==\"replyer\":\n",
    "        color_map.append('blue')\n",
    "    else: \n",
    "        color_map.append('red') "
   ]
  },
  {
   "cell_type": "code",
   "execution_count": 118,
   "id": "82e4e85c",
   "metadata": {},
   "outputs": [],
   "source": [
    "# 找出degree>2的點\n",
    "degrees = [node for (node, val) in G.degree() if val>2]\n",
    "degrees\n",
    "# 把找出的人加進label中\n",
    "labels = {}  \n",
    "for node in G.nodes():\n",
    "    if node in degrees:\n",
    "        #set the node name as the key and the label as its value \n",
    "        labels[node] = node"
   ]
  },
  {
   "cell_type": "code",
   "execution_count": 119,
   "id": "b274cad3",
   "metadata": {},
   "outputs": [
    {
     "data": {
      "image/png": "[encoded data removed]",
      "text/plain": [
       "<Figure size 720x576 with 1 Axes>"
      ]
     },
     "metadata": {},
     "output_type": "display_data"
    }
   ],
   "source": [
    "fig, ax = plt.subplots(figsize=(10, 8))\n",
    "\n",
    "# 建立節點的布局 (節點位置)\n",
    "pos = nx.spring_layout(G,k=0.5)\n",
    "\n",
    "# networks\n",
    "nx.draw_networkx(G, pos,\n",
    "                 node_size=60,\n",
    "                 edge_color=color_map_edge,\n",
    "                 node_color=color_map,\n",
    "                 with_labels = False,\n",
    "                 ax=ax)\n",
    "\n",
    "# 增加 labels\n",
    "nx.draw_networkx_labels(G,pos,labels,font_size=16,font_color='black',\n",
    "                        bbox=dict(facecolor='yellow', alpha=0.5),\n",
    "                        horizontalalignment='center')\n",
    "    \n",
    "plt.show()"
   ]
  },
  {
   "cell_type": "markdown",
   "id": "01a36f69",
   "metadata": {},
   "source": [
    "人物角色討論相關為橘色，愛恨情仇及兇手相關為灰色。而藍色點代表僅有回覆他人文章者。可以看出在2022/01/02這天，主要發文者zihying, vores,GarfieldCxT皆在兩種議題有平均的討論，而GarfieldCxT與vores中間有所連結。"
   ]
  },
  {
   "cell_type": "markdown",
   "id": "8bbd21e1",
   "metadata": {},
   "source": [
    "### 4.5 使用者是否受到歡迎"
   ]
  },
  {
   "cell_type": "markdown",
   "id": "6c319652",
   "metadata": {},
   "source": [
    "PTT的回覆有三種，推文、噓文、箭頭，我們只要看推噓就好，因此把箭頭清掉。"
   ]
  },
  {
   "cell_type": "code",
   "execution_count": 88,
   "id": "fa04c071",
   "metadata": {},
   "outputs": [],
   "source": [
    "# 加上status\n",
    "status_1218 = pd.merge(link_1218,posts_Reviews,on=[\"cmtPoster\",\"artUrl\"],how=\"left\")[[\"cmtPoster\",\"artUrl\",\"topic\",\"cmtStatus\"]].drop_duplicates()\n",
    "# 去掉\"→\"的資料\n",
    "status_1218 = status_1218[status_1218[\"cmtStatus\"]!=\"→\"]"
   ]
  },
  {
   "cell_type": "code",
   "execution_count": 89,
   "id": "3e6ed42e",
   "metadata": {},
   "outputs": [
    {
     "data": {
      "text/html": [
       "<div>\n",
       "<style scoped>\n",
       "    .dataframe tbody tr th:only-of-type {\n",
       "        vertical-align: middle;\n",
       "    }\n",
       "\n",
       "    .dataframe tbody tr th {\n",
       "        vertical-align: top;\n",
       "    }\n",
       "\n",
       "    .dataframe thead th {\n",
       "        text-align: right;\n",
       "    }\n",
       "</style>\n",
       "<table border=\"1\" class=\"dataframe\">\n",
       "  <thead>\n",
       "    <tr style=\"text-align: right;\">\n",
       "      <th></th>\n",
       "      <th>cmtPoster</th>\n",
       "      <th>artUrl</th>\n",
       "      <th>topic</th>\n",
       "      <th>cmtStatus</th>\n",
       "      <th>artPoster</th>\n",
       "    </tr>\n",
       "  </thead>\n",
       "  <tbody>\n",
       "    <tr>\n",
       "      <th>0</th>\n",
       "      <td>Ciline</td>\n",
       "      <td>https://www.ptt.cc/bbs/TaiwanDrama/M.164112257...</td>\n",
       "      <td>0</td>\n",
       "      <td>推</td>\n",
       "      <td>GarfieldCxT</td>\n",
       "    </tr>\n",
       "    <tr>\n",
       "      <th>1</th>\n",
       "      <td>Dirito</td>\n",
       "      <td>https://www.ptt.cc/bbs/TaiwanDrama/M.164112395...</td>\n",
       "      <td>1</td>\n",
       "      <td>推</td>\n",
       "      <td>zihying</td>\n",
       "    </tr>\n",
       "    <tr>\n",
       "      <th>2</th>\n",
       "      <td>GO77</td>\n",
       "      <td>https://www.ptt.cc/bbs/TaiwanDrama/M.164112395...</td>\n",
       "      <td>1</td>\n",
       "      <td>推</td>\n",
       "      <td>zihying</td>\n",
       "    </tr>\n",
       "  </tbody>\n",
       "</table>\n",
       "</div>"
      ],
      "text/plain": [
       "  cmtPoster                                             artUrl  topic  \\\n",
       "0    Ciline  https://www.ptt.cc/bbs/TaiwanDrama/M.164112257...      0   \n",
       "1    Dirito  https://www.ptt.cc/bbs/TaiwanDrama/M.164112395...      1   \n",
       "2      GO77  https://www.ptt.cc/bbs/TaiwanDrama/M.164112395...      1   \n",
       "\n",
       "  cmtStatus    artPoster  \n",
       "0         推  GarfieldCxT  \n",
       "1         推      zihying  \n",
       "2         推      zihying  "
      ]
     },
     "execution_count": 89,
     "metadata": {},
     "output_type": "execute_result"
    }
   ],
   "source": [
    "# 因為需要artPoster所以merge link，之後使用drop_duplicates去除重複資料\n",
    "link_1218_status = pd.merge(status_1218,link,on=[\"cmtPoster\",\"artUrl\"],how=\"left\").drop_duplicates()\n",
    "link_1218_status.reset_index(inplace=True, drop=True) #重設index\n",
    "link_1218_status.head(3)"
   ]
  },
  {
   "cell_type": "code",
   "execution_count": 90,
   "id": "450d4d53",
   "metadata": {},
   "outputs": [],
   "source": [
    "# Create network plot \n",
    "G = nx.Graph()\n",
    "\n",
    "# 建立 nodes 間的連結，及edge的顏色\n",
    "color_map_edge_S = []\n",
    "for i in range(0,len(link_1218_status)):\n",
    "    G.add_edge(link_1218_status[\"cmtPoster\"][i], link_1218_status[\"artPoster\"][i])\n",
    "    if link_1218_status[\"cmtStatus\"][i] == \"推\":\n",
    "        color_map_edge_S.append('orange')\n",
    "    else: \n",
    "        color_map_edge_S.append('grey')    "
   ]
  },
  {
   "cell_type": "code",
   "execution_count": 91,
   "id": "34d68a6a",
   "metadata": {},
   "outputs": [],
   "source": [
    "# 刪除degree<1的點\n",
    "#to_be_removed = [x for  x in G.nodes() if G.degree(x) <= 1]\n",
    "#for x in to_be_removed:\n",
    " #   G.remove_node(x)"
   ]
  },
  {
   "cell_type": "code",
   "execution_count": 120,
   "id": "d756faa9",
   "metadata": {},
   "outputs": [],
   "source": [
    "# 設定node顏色，red(有發文), blue(只有回覆)\n",
    "color_map = []\n",
    "for node in G.nodes():\n",
    "    if allPoster[allPoster[\"user\"]==node][\"type\"].item()==\"replyer\":\n",
    "        color_map.append('blue')\n",
    "    else: \n",
    "        color_map.append('red') "
   ]
  },
  {
   "cell_type": "code",
   "execution_count": 121,
   "id": "703fd78a",
   "metadata": {},
   "outputs": [],
   "source": [
    "# 找出degree>3的點\n",
    "degrees = [node for (node, val) in G.degree() if val>2]\n",
    "\n",
    "# 把找出的人加進label中\n",
    "labels = {}  \n",
    "for node in G.nodes():\n",
    "    if node in degrees:\n",
    "        #set the node name as the key and the label as its value \n",
    "        labels[node] = node"
   ]
  },
  {
   "cell_type": "code",
   "execution_count": 122,
   "id": "a2363ce0",
   "metadata": {},
   "outputs": [
    {
     "data": {
      "image/png": "[encoded data removed]",
      "text/plain": [
       "<Figure size 720x576 with 1 Axes>"
      ]
     },
     "metadata": {},
     "output_type": "display_data"
    }
   ],
   "source": [
    "fig, ax = plt.subplots(figsize=(10, 8))\n",
    "\n",
    "# 建立節點的布局 (節點位置)\n",
    "pos = nx.spring_layout(G, k=0.5)\n",
    "# pos = nx.shell_layout(G)\n",
    "\n",
    "# networks\n",
    "nx.draw_networkx(G, pos,\n",
    "                 node_size=50,\n",
    "                 edge_color=color_map_edge_S,\n",
    "                 node_color=color_map,\n",
    "                 with_labels = False,\n",
    "                 ax=ax)\n",
    "\n",
    "# 增加 labels\n",
    "nx.draw_networkx_labels(G,pos,labels,font_size=16,font_color='black',\n",
    "                        bbox=dict(facecolor='red', alpha=0.25),\n",
    "                        horizontalalignment='center')\n",
    "    \n",
    "plt.show()"
   ]
  },
  {
   "cell_type": "markdown",
   "id": "2b4385ff",
   "metadata": {},
   "source": [
    "可以發現本次的討論中幾乎都是以推文為主。"
   ]
  },
  {
   "cell_type": "code",
   "execution_count": 95,
   "id": "61f2cef9",
   "metadata": {},
   "outputs": [],
   "source": [
    "MetaData = pd.read_csv('./light_articleMetaData.csv', encoding='UTF-8')\n",
    "Reviews = pd.read_csv('./light_articleReviews.csv', encoding='UTF-8')"
   ]
  },
  {
   "cell_type": "code",
   "execution_count": 96,
   "id": "6b42d256",
   "metadata": {
    "scrolled": true
   },
   "outputs": [
    {
     "data": {
      "text/html": [
       "<div>\n",
       "<style scoped>\n",
       "    .dataframe tbody tr th:only-of-type {\n",
       "        vertical-align: middle;\n",
       "    }\n",
       "\n",
       "    .dataframe tbody tr th {\n",
       "        vertical-align: top;\n",
       "    }\n",
       "\n",
       "    .dataframe thead th {\n",
       "        text-align: right;\n",
       "    }\n",
       "</style>\n",
       "<table border=\"1\" class=\"dataframe\">\n",
       "  <thead>\n",
       "    <tr style=\"text-align: right;\">\n",
       "      <th></th>\n",
       "      <th>artTitle</th>\n",
       "      <th>artDate</th>\n",
       "      <th>artTime</th>\n",
       "      <th>artUrl</th>\n",
       "      <th>artPoster</th>\n",
       "      <th>artCat</th>\n",
       "      <th>commentNum</th>\n",
       "      <th>push</th>\n",
       "      <th>boo</th>\n",
       "      <th>sentence</th>\n",
       "    </tr>\n",
       "  </thead>\n",
       "  <tbody>\n",
       "    <tr>\n",
       "      <th>93</th>\n",
       "      <td>[閒聊]#無雷華燈初上誰讓你最出戲</td>\n",
       "      <td>2022/01/02</td>\n",
       "      <td>01:41:44</td>\n",
       "      <td>https://www.ptt.cc/bbs/TaiwanDrama/M.164108770...</td>\n",
       "      <td>vores</td>\n",
       "      <td>TaiwanDrama</td>\n",
       "      <td>333</td>\n",
       "      <td>190</td>\n",
       "      <td>4</td>\n",
       "      <td>華燈很多人的演技真的是讓人為之驚艷\\n劉品言 李李仁 吳慷仁的演技真的很吸睛\\n不過大家有沒...</td>\n",
       "    </tr>\n",
       "  </tbody>\n",
       "</table>\n",
       "</div>"
      ],
      "text/plain": [
       "             artTitle     artDate   artTime  \\\n",
       "93  [閒聊]#無雷華燈初上誰讓你最出戲  2022/01/02  01:41:44   \n",
       "\n",
       "                                               artUrl artPoster       artCat  \\\n",
       "93  https://www.ptt.cc/bbs/TaiwanDrama/M.164108770...     vores  TaiwanDrama   \n",
       "\n",
       "    commentNum  push  boo                                           sentence  \n",
       "93         333   190    4  華燈很多人的演技真的是讓人為之驚艷\\n劉品言 李李仁 吳慷仁的演技真的很吸睛\\n不過大家有沒...  "
      ]
     },
     "execution_count": 96,
     "metadata": {},
     "output_type": "execute_result"
    }
   ],
   "source": [
    "filter1 = MetaData[\"artPoster\"] == \"vores\"\n",
    "MetaData[filter1]"
   ]
  },
  {
   "cell_type": "code",
   "execution_count": 97,
   "id": "d5e9b8dc",
   "metadata": {},
   "outputs": [
    {
     "data": {
      "text/plain": [
       "Series([], Name: cmtContent, dtype: object)"
      ]
     },
     "execution_count": 97,
     "metadata": {},
     "output_type": "execute_result"
    }
   ],
   "source": [
    "filter2 = Reviews[\"cmtPoster\"] == \"vores\"\n",
    "Reviews[filter2]['cmtContent']"
   ]
  },
  {
   "cell_type": "code",
   "execution_count": 98,
   "id": "0f16a4a2",
   "metadata": {},
   "outputs": [
    {
     "data": {
      "text/html": [
       "<div>\n",
       "<style scoped>\n",
       "    .dataframe tbody tr th:only-of-type {\n",
       "        vertical-align: middle;\n",
       "    }\n",
       "\n",
       "    .dataframe tbody tr th {\n",
       "        vertical-align: top;\n",
       "    }\n",
       "\n",
       "    .dataframe thead th {\n",
       "        text-align: right;\n",
       "    }\n",
       "</style>\n",
       "<table border=\"1\" class=\"dataframe\">\n",
       "  <thead>\n",
       "    <tr style=\"text-align: right;\">\n",
       "      <th></th>\n",
       "      <th>artTitle</th>\n",
       "      <th>artDate</th>\n",
       "      <th>artTime</th>\n",
       "      <th>artUrl</th>\n",
       "      <th>artPoster</th>\n",
       "      <th>artCat</th>\n",
       "      <th>commentNum</th>\n",
       "      <th>push</th>\n",
       "      <th>boo</th>\n",
       "      <th>sentence</th>\n",
       "    </tr>\n",
       "  </thead>\n",
       "  <tbody>\n",
       "    <tr>\n",
       "      <th>97</th>\n",
       "      <td>[閒聊]為什麼華燈初上每個場景都在抽菸？</td>\n",
       "      <td>2022/01/02</td>\n",
       "      <td>11:22:53</td>\n",
       "      <td>https://www.ptt.cc/bbs/TaiwanDrama/M.164112257...</td>\n",
       "      <td>GarfieldCxT</td>\n",
       "      <td>TaiwanDrama</td>\n",
       "      <td>203</td>\n",
       "      <td>92</td>\n",
       "      <td>7</td>\n",
       "      <td>有名字的角色裡\\n沒抽菸的好像沒幾個\\n\\n是我的同溫層抽菸比例太低嗎？\\n身邊有抽菸的朋友...</td>\n",
       "    </tr>\n",
       "  </tbody>\n",
       "</table>\n",
       "</div>"
      ],
      "text/plain": [
       "                artTitle     artDate   artTime  \\\n",
       "97  [閒聊]為什麼華燈初上每個場景都在抽菸？  2022/01/02  11:22:53   \n",
       "\n",
       "                                               artUrl    artPoster  \\\n",
       "97  https://www.ptt.cc/bbs/TaiwanDrama/M.164112257...  GarfieldCxT   \n",
       "\n",
       "         artCat  commentNum  push  boo  \\\n",
       "97  TaiwanDrama         203    92    7   \n",
       "\n",
       "                                             sentence  \n",
       "97  有名字的角色裡\\n沒抽菸的好像沒幾個\\n\\n是我的同溫層抽菸比例太低嗎？\\n身邊有抽菸的朋友...  "
      ]
     },
     "execution_count": 98,
     "metadata": {},
     "output_type": "execute_result"
    }
   ],
   "source": [
    "filter3 = MetaData[\"artPoster\"] == \"GarfieldCxT\"\n",
    "MetaData[filter3]"
   ]
  },
  {
   "cell_type": "markdown",
   "id": "ad6585da",
   "metadata": {},
   "source": [
    "此部分我們將主要的社群中心發文者發佈的文章拉出來看其文章內容細節為何。"
   ]
  },
  {
   "cell_type": "code",
   "execution_count": null,
   "id": "d1845d6c",
   "metadata": {},
   "outputs": [],
   "source": []
  }
 ],
 "metadata": {
  "kernelspec": {
   "display_name": "Python 3",
   "language": "python",
   "name": "python3"
  },
  "language_info": {
   "codemirror_mode": {
    "name": "ipython",
    "version": 3
   },
   "file_extension": ".py",
   "mimetype": "text/x-python",
   "name": "python",
   "nbconvert_exporter": "python",
   "pygments_lexer": "ipython3",
   "version": "3.8.8"
  },
  "varInspector": {
   "cols": {
    "lenName": 16,
    "lenType": 16,
    "lenVar": 40
   },
   "kernels_config": {
    "python": {
     "delete_cmd_postfix": "",
     "delete_cmd_prefix": "del ",
     "library": "var_list.py",
     "varRefreshCmd": "print(var_dic_list())"
    },
    "r": {
     "delete_cmd_postfix": ") ",
     "delete_cmd_prefix": "rm(",
     "library": "var_list.r",
     "varRefreshCmd": "cat(var_dic_list()) "
    }
   },
   "types_to_exclude": [
    "module",
    "function",
    "builtin_function_or_method",
    "instance",
    "_Feature"
   ],
   "window_display": false
  }
 },
 "nbformat": 4,
 "nbformat_minor": 5
}
