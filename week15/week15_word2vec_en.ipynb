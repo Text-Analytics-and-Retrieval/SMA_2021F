{
 "cells": [
  {
   "cell_type": "markdown",
   "metadata": {},
   "source": [
    "## 第十五周: 字詞向量(word2vec)\n",
    "\n",
    "**Author:** 劉岱宜<br>\n",
    "**Date created:** 2021/10/01<br>\n",
    "**Last modified:** 2021/11/17<br>\n",
    "\n",
    "本周課程為「字詞向量」，我們將介紹將文字轉向量的方式來建立word2vec model，以計算文字間的相似度、文件分群、觀察視覺化的字詞關係等等。在本章我們使用辛普森家庭的電視句台詞作為英文向量建模的範本。"
   ]
  },
  {
   "cell_type": "markdown",
   "metadata": {},
   "source": [
    "## 大綱\n",
    "1. 套件說明\n",
    "2. 文字前處理\n",
    "    + 2.1 文字清理\n",
    "    + 2.2 建立bigram資料集\n",
    "    + 2.3 資料集基本檢視\n",
    "3. word2vec模型\n",
    "    + 3.1 建立模型\n",
    "    + 3.2 初始化模型\n",
    "    + 3.3 訓練模型\n",
    "4. 查看模型結果\n",
    "    + 4.1 字詞相似度\n",
    "    + 4.2 向量空間視覺化"
   ]
  },
  {
   "cell_type": "markdown",
   "metadata": {},
   "source": [
    "## 分析目標\n",
    "分析主題：將辛普森家庭的台詞作向量建模，分析角色特性、比較角色間的相似性關係\n",
    "+ 資料內容：\n",
    "    + 內容：《辛普森家庭》(Simpsons)約600集的影集台詞(約25MB)\n",
    "    + 連結：https://www.kaggle.com/ambarish/fun-in-text-mining-with-simpsons/data\n",
    "    + 使用欄位：\n",
    "        + `spoken_words`: 原始台詞\n",
    "        \n",
    "1. 分析主要角色荷馬、花枝的相似性字詞有哪些，不同角色間的相似性如何？\n",
    "    +  討論章節：\n",
    "        + 用cos similarity來找出相似字詞\n",
    "2. 在向量空間中，相似性較高的字詞空間分布如何？\n",
    "    + 討論章節：\n",
    "        + 以PCA降維後的結果畫出來發現，相似性較高的字詞在空間上會較接近"
   ]
  },
  {
   "cell_type": "markdown",
   "metadata": {},
   "source": [
    "## 1. 套件說明\n",
    "下面列出在本次實作過程中我們所使用到的相關套件，在這個Jupyter Notebook當中我們將會簡單的展示這些套件的使用方式，關於各個套件的進階使用請同學參照其官網的說明。\n",
    "- pandas: 一個資料分析的函式庫，提供了DataFrame等資料格式，與資料處理的函數。\n",
    "- spaCy: 自然語言處理工具。\n",
    "- sklearn: 全名為Scikit-learn，機器學習的常用建模套件，包含各種分群、分類、迴歸模型，如隨機森林、SVM或 K-means 等。\n",
    "- jieba: 結巴套件，中文斷詞套件\n",
    "- seaborn: 基於 matplotlib 封裝的繪圖工具\n",
    "- time: 獲得目前的時間或作時間格式轉換的工具\n",
    "- gensim: 全名 generate similarity的NLP處理套件，支持將文字轉向量建模的各種函數，如Word2Vec，Doc2Vec，FastText等\n",
    "\n",
    "指定版本\n",
    " * 建議使用 `python==3.6.3`\n",
    " * `xlrd==1.1.0`: https://pypi.org/project/xlrd/\n",
    " * `spaCy==2.0.12`: https://spacy.io/usage/\n",
    " * `gensim==3.4.0`: https://radimrehurek.com/gensim/install.html\n",
    " * `scikit-learn==0.19.1`: http://scikit-learn.org/stable/install.html\n",
    " * `seaborn==0.8`: https://seaborn.pydata.org/installing.html"
   ]
  },
  {
   "cell_type": "code",
   "execution_count": 1,
   "metadata": {},
   "outputs": [],
   "source": [
    "# # 安裝會使用到的套件\n",
    "# %pip install xlrd==1.1.0 spaCy==2.3.7 gensim==3.4.0 scikit-learn==0.19.1 seaborn==0.8 # spacy 2.2.5 2.0.12"
   ]
  },
  {
   "cell_type": "code",
   "execution_count": 2,
   "metadata": {},
   "outputs": [],
   "source": [
    "%matplotlib inline\n",
    "\n",
    "import re  # For preprocessing\n",
    "import pandas as pd  # For data handling\n",
    "import numpy as np\n",
    "from time import time  # To time our operations\n",
    "from collections import defaultdict  # For word frequency\n",
    "import multiprocessing\n",
    "\n",
    "import spacy  # For preprocessing\n",
    "from gensim.models.phrases import Phrases, Phraser\n",
    "from gensim.models import Word2Vec, KeyedVectors   \n",
    "\n",
    "from gensim.test.utils import common_texts, get_tmpfile\n",
    "from gensim.models import Word2Vec\n",
    "from gensim.models.callbacks import CallbackAny2Vec\n",
    "\n",
    "from sklearn import manifold\n",
    "from sklearn.decomposition import PCA\n",
    "from sklearn.manifold import TSNE\n",
    "\n",
    "from mpl_toolkits.mplot3d import Axes3D\n",
    "import matplotlib.pyplot as plt\n",
    "import seaborn as sns\n",
    "sns.set_style(\"darkgrid\")\n",
    "\n",
    "import logging  # Setting up the loggings to monitor gensim\n",
    "logging.basicConfig(format=\"%(levelname)s - %(asctime)s: %(message)s\", datefmt= '%H:%M:%S', level=logging.INFO)"
   ]
  },
  {
   "cell_type": "markdown",
   "metadata": {},
   "source": [
    "## 2. 文字清理\n",
    "`simpsons_dataset.csv`裡面包含了要分析的台詞資料，在這邊我們先進行資料前處理，清理後以list的形式匯入模型當中。"
   ]
  },
  {
   "cell_type": "code",
   "execution_count": 3,
   "metadata": {},
   "outputs": [
    {
     "name": "stdout",
     "output_type": "stream",
     "text": [
      "訓練資料筆數: 158314\n"
     ]
    },
    {
     "data": {
      "text/html": [
       "<div>\n",
       "<style scoped>\n",
       "    .dataframe tbody tr th:only-of-type {\n",
       "        vertical-align: middle;\n",
       "    }\n",
       "\n",
       "    .dataframe tbody tr th {\n",
       "        vertical-align: top;\n",
       "    }\n",
       "\n",
       "    .dataframe thead th {\n",
       "        text-align: right;\n",
       "    }\n",
       "</style>\n",
       "<table border=\"1\" class=\"dataframe\">\n",
       "  <thead>\n",
       "    <tr style=\"text-align: right;\">\n",
       "      <th></th>\n",
       "      <th>raw_character_text</th>\n",
       "      <th>spoken_words</th>\n",
       "    </tr>\n",
       "  </thead>\n",
       "  <tbody>\n",
       "    <tr>\n",
       "      <th>0</th>\n",
       "      <td>Miss Hoover</td>\n",
       "      <td>No, actually, it was a little of both. Sometim...</td>\n",
       "    </tr>\n",
       "    <tr>\n",
       "      <th>1</th>\n",
       "      <td>Lisa Simpson</td>\n",
       "      <td>Where's Mr. Bergstrom?</td>\n",
       "    </tr>\n",
       "    <tr>\n",
       "      <th>2</th>\n",
       "      <td>Miss Hoover</td>\n",
       "      <td>I don't know. Although I'd sure like to talk t...</td>\n",
       "    </tr>\n",
       "  </tbody>\n",
       "</table>\n",
       "</div>"
      ],
      "text/plain": [
       "  raw_character_text                                       spoken_words\n",
       "0        Miss Hoover  No, actually, it was a little of both. Sometim...\n",
       "1       Lisa Simpson                             Where's Mr. Bergstrom?\n",
       "2        Miss Hoover  I don't know. Although I'd sure like to talk t..."
      ]
     },
     "execution_count": 3,
     "metadata": {},
     "output_type": "execute_result"
    }
   ],
   "source": [
    "metaData = pd.read_csv('./raw_data/simpsons_dataset.csv')\n",
    "print(f\"訓練資料筆數: {metaData.shape[0]}\")\n",
    "metaData.head(3)"
   ]
  },
  {
   "cell_type": "markdown",
   "metadata": {},
   "source": [
    "### 2.1 文字前處理\n",
    "+ 去除缺失值\n",
    "    + 查看資料集中缺失的欄位，通常是在某件事情發生，可是沒有角色說話的時候\n",
    "+ 進行斷詞並清理雜訊\n",
    "    + 字詞還原(`Lemmatizes`)、去除停用字、去除長度太小的字、去除非英文字母的符號"
   ]
  },
  {
   "cell_type": "code",
   "execution_count": 4,
   "metadata": {},
   "outputs": [
    {
     "name": "stderr",
     "output_type": "stream",
     "text": [
      "INFO - 22:32:01: Note: NumExpr detected 16 cores but \"NUMEXPR_MAX_THREADS\" not set, so enforcing safe limit of 8.\n",
      "INFO - 22:32:01: NumExpr defaulting to 8 threads.\n"
     ]
    },
    {
     "name": "stdout",
     "output_type": "stream",
     "text": [
      "null data before:\n",
      " raw_character_text    17814\n",
      "spoken_words          26459\n",
      "dtype: int64\n",
      "\n",
      "null data after:\n",
      " raw_character_text    0\n",
      "spoken_words          0\n",
      "dtype: int64\n",
      "\n",
      "row number of data: 131853\n"
     ]
    }
   ],
   "source": [
    "# 檢查有缺失值的資料\n",
    "print(f\"null data before:\\n {metaData.isnull().sum()}\\n\")\n",
    "metaData = metaData.dropna().reset_index(drop=True)\n",
    "\n",
    "# 檢查清理過後的結果\n",
    "print(f\"null data after:\\n {metaData.isnull().sum()}\\n\")\n",
    "print(f\"row number of data: {metaData.shape[0]}\")"
   ]
  },
  {
   "cell_type": "markdown",
   "metadata": {},
   "source": [
    "+ 匯入spacy模型\n",
    "    + 為了字詞還原和去除停用字，匯入spacy的英文模型`en_core_web_sm`\n",
    "+ 定義清理文字函數\n",
    "    + 進行字詞還原`lemma`並清除停用字\n",
    "    + 注意在這裡的`doc`變數必須是一個 `spacy Doc` 類別的物件\n",
    "    + 另外為了保留比較有意義的詞，我們把長度小於2的字詞排除掉"
   ]
  },
  {
   "cell_type": "code",
   "execution_count": 5,
   "metadata": {},
   "outputs": [
    {
     "name": "stderr",
     "output_type": "stream",
     "text": [
      "/home/ann2/.local/lib/python3.6/site-packages/spacy/util.py:275: UserWarning: [W031] Model 'en_core_web_sm' (2.2.5) requires spaCy v2.2 and is incompatible with the current spaCy version (2.3.7). This may lead to unexpected results or runtime errors. To resolve this, download a newer compatible model or retrain your custom model with the current spaCy version. For more details and available updates, run: python -m spacy validate\n",
      "  warnings.warn(warn_msg)\n"
     ]
    }
   ],
   "source": [
    "nlp = spacy.load('en_core_web_sm', disable=['ner', 'parser']) # disabling Named Entity Recognition for speed\n",
    "\n",
    "# 清理資料的function\n",
    "def cleaning(doc):\n",
    "    # Lemmatizes and removes stopwords\n",
    "    # doc needs to be a spacy Doc object\n",
    "    txt = [token.lemma_ for token in doc if not token.is_stop] \n",
    "    \n",
    "    # Word2Vec uses context words to learn the vector representation of a target word,\n",
    "    # if a sentence is only one or two words long,\n",
    "    # the benefit for the training is very small\n",
    "    if len(txt) > 2:\n",
    "        return ' '.join(txt)"
   ]
  },
  {
   "cell_type": "markdown",
   "metadata": {},
   "source": [
    "去除英文字以外的符號，並把英文全轉換成小寫"
   ]
  },
  {
   "cell_type": "code",
   "execution_count": 6,
   "metadata": {},
   "outputs": [],
   "source": [
    "brief_cleaning = (re.sub(\"[^A-Za-z']+\", ' ', str(row)).lower() for row in metaData['spoken_words'])"
   ]
  },
  {
   "cell_type": "code",
   "execution_count": 7,
   "metadata": {},
   "outputs": [
    {
     "name": "stdout",
     "output_type": "stream",
     "text": [
      "Time to clean up everything: 0.61 mins\n"
     ]
    }
   ],
   "source": [
    "# 對每行row執行上面定義的 cleaning funciton，spaCy 的 .pipe() 可以加快速度\n",
    "t = time()\n",
    "txt = [cleaning(doc) for doc in nlp.pipe(brief_cleaning, batch_size=5000, n_threads=-1)]\n",
    "print('Time to clean up everything: {} mins'.format(round((time() - t) / 60, 2)))"
   ]
  },
  {
   "cell_type": "code",
   "execution_count": 8,
   "metadata": {},
   "outputs": [
    {
     "name": "stdout",
     "output_type": "stream",
     "text": [
      "data shape after cleaning: (85964, 1)\n"
     ]
    },
    {
     "data": {
      "text/html": [
       "<div>\n",
       "<style scoped>\n",
       "    .dataframe tbody tr th:only-of-type {\n",
       "        vertical-align: middle;\n",
       "    }\n",
       "\n",
       "    .dataframe tbody tr th {\n",
       "        vertical-align: top;\n",
       "    }\n",
       "\n",
       "    .dataframe thead th {\n",
       "        text-align: right;\n",
       "    }\n",
       "</style>\n",
       "<table border=\"1\" class=\"dataframe\">\n",
       "  <thead>\n",
       "    <tr style=\"text-align: right;\">\n",
       "      <th></th>\n",
       "      <th>clean</th>\n",
       "    </tr>\n",
       "  </thead>\n",
       "  <tbody>\n",
       "    <tr>\n",
       "      <th>0</th>\n",
       "      <td>actually little disease magazine news show nat...</td>\n",
       "    </tr>\n",
       "    <tr>\n",
       "      <th>2</th>\n",
       "      <td>know sure like talk touch lesson plan teach</td>\n",
       "    </tr>\n",
       "    <tr>\n",
       "      <th>3</th>\n",
       "      <td>life worth live</td>\n",
       "    </tr>\n",
       "    <tr>\n",
       "      <th>4</th>\n",
       "      <td>poll open end recess case decide thought final...</td>\n",
       "    </tr>\n",
       "    <tr>\n",
       "      <th>7</th>\n",
       "      <td>victory party slide</td>\n",
       "    </tr>\n",
       "  </tbody>\n",
       "</table>\n",
       "</div>"
      ],
      "text/plain": [
       "                                               clean\n",
       "0  actually little disease magazine news show nat...\n",
       "2        know sure like talk touch lesson plan teach\n",
       "3                                    life worth live\n",
       "4  poll open end recess case decide thought final...\n",
       "7                                victory party slide"
      ]
     },
     "execution_count": 8,
     "metadata": {},
     "output_type": "execute_result"
    }
   ],
   "source": [
    "# 新建一個dataframe放剛剛處理好的資料\n",
    "df_clean = pd.DataFrame({'clean': txt})\n",
    "df_clean = df_clean.dropna().drop_duplicates()\n",
    "print(f\"data shape after cleaning: {df_clean.shape}\")\n",
    "df_clean.head(5)"
   ]
  },
  {
   "cell_type": "markdown",
   "metadata": {},
   "source": [
    "+ bigram\n",
    "    + 接下來對整個文集建立 bigram 的結構 ，可以捕捉一些特殊的名詞詞組，像是`bart_simpson`"
   ]
  },
  {
   "cell_type": "markdown",
   "metadata": {},
   "source": [
    "### 2.2 建立bigram資料集\n",
    "\n",
    "在這裡我們為了想捕捉一些特定的片語(像是`bart simpson`)，我們希望調整資料集的token，抓出可能一起出現的bigram，在這裡使用gensim裡面的[Phrases](https://radimrehurek.com/gensim/models/phrases.html)，他會計算出文件裡經常出現的片語，並加入最後的斷詞結果中，下面先舉簡單的句子當範例。\n",
    "+ Phrases: 建立預測模型，input 要擴充的資料集，並設定最低詞頻和bigram的threshold，threshold越高抓出的片語越少\n",
    "+ Phraser: 預測並調整資料中的片語"
   ]
  },
  {
   "cell_type": "code",
   "execution_count": 9,
   "metadata": {},
   "outputs": [
    {
     "name": "stderr",
     "output_type": "stream",
     "text": [
      "INFO - 22:32:38: collecting all words and their counts\n",
      "INFO - 22:32:38: PROGRESS: at sentence #0, processed 0 words and 0 word types\n",
      "INFO - 22:32:38: collected 30 word types from a corpus of 21 words (unigram + bigrams) and 3 sentences\n",
      "INFO - 22:32:38: using 30 counts as vocab in Phrases<0 vocab, min_count=1, threshold=2, max_vocab_size=40000000>\n",
      "INFO - 22:32:38: source_vocab length 30\n",
      "INFO - 22:32:38: Phraser built with 2 2 phrasegrams\n"
     ]
    },
    {
     "name": "stdout",
     "output_type": "stream",
     "text": [
      "['new', 'york', 'is', 'united', 'states']\n",
      "=>  ['new york', 'is', 'united', 'states']\n",
      "['new', 'york', 'is', 'most', 'populated', 'city', 'in', 'the', 'world']\n",
      "=>  ['new york', 'is', 'most', 'populated', 'city', 'in', 'the', 'world']\n",
      "['i', 'love', 'to', 'stay', 'in', 'new', 'york']\n",
      "=>  ['i', 'love', 'to', 'stay', 'in', 'new york']\n"
     ]
    }
   ],
   "source": [
    "docs = ['new york is united states', 'new york is most populated city in the world','i love to stay in new york']\n",
    "\n",
    "token_ = [doc.split(\" \") for doc in docs]\n",
    "bigram = Phrases(token_, min_count=1, threshold=2,delimiter=b' ') # 建立bigram模型\n",
    "bigram_phraser = Phraser(bigram) # 利用bigram模型預測片語\n",
    "\n",
    "# 印出處理前後的句子\n",
    "for sent in token_:\n",
    "    print(sent)  #處理前\n",
    "    print(\"=> \",bigram_phraser[sent]) # 處理後，還是原本的句子，只是有抓出的bigram片語會被合併"
   ]
  },
  {
   "cell_type": "markdown",
   "metadata": {},
   "source": [
    "我們可以看到紐約 new york 因為在文集中出現了三次，被模型抓出來當成了片語，united states雖然也是片語，可是因為有設定最低詞頻為1，所以沒有被抓出來，下面將剛剛清理好的句子切開，再建立bigram的資料集"
   ]
  },
  {
   "cell_type": "code",
   "execution_count": 10,
   "metadata": {},
   "outputs": [
    {
     "name": "stderr",
     "output_type": "stream",
     "text": [
      "INFO - 22:32:38: collecting all words and their counts\n",
      "INFO - 22:32:38: PROGRESS: at sentence #0, processed 0 words and 0 word types\n",
      "INFO - 22:32:38: PROGRESS: at sentence #10000, processed 63561 words and 52806 word types\n"
     ]
    },
    {
     "name": "stdout",
     "output_type": "stream",
     "text": [
      "tokens in sent:[['actually', 'little', 'disease', 'magazine', 'news', 'show', 'natural', 'think'], ['know', 'sure', 'like', 'talk', 'touch', 'lesson', 'plan', 'teach'], ['life', 'worth', 'live']]\n"
     ]
    },
    {
     "name": "stderr",
     "output_type": "stream",
     "text": [
      "INFO - 22:32:38: PROGRESS: at sentence #20000, processed 130943 words and 99830 word types\n",
      "INFO - 22:32:38: PROGRESS: at sentence #30000, processed 192972 words and 138488 word types\n",
      "INFO - 22:32:38: PROGRESS: at sentence #40000, processed 249842 words and 172600 word types\n",
      "INFO - 22:32:39: PROGRESS: at sentence #50000, processed 311265 words and 208480 word types\n",
      "INFO - 22:32:39: PROGRESS: at sentence #60000, processed 373588 words and 243590 word types\n",
      "INFO - 22:32:39: PROGRESS: at sentence #70000, processed 436441 words and 278601 word types\n",
      "INFO - 22:32:39: PROGRESS: at sentence #80000, processed 497829 words and 311720 word types\n",
      "INFO - 22:32:39: collected 330626 word types from a corpus of 537160 words (unigram + bigrams) and 85964 sentences\n",
      "INFO - 22:32:39: using 330626 counts as vocab in Phrases<0 vocab, min_count=30, threshold=10.0, max_vocab_size=40000000>\n",
      "INFO - 22:32:39: source_vocab length 330626\n",
      "INFO - 22:32:41: Phraser built with 127 127 phrasegrams\n"
     ]
    }
   ],
   "source": [
    "# 這裡 sent 是 list of tokens，抓出前三句話當例子印出來看\n",
    "sent = [row.split() for row in df_clean['clean']]\n",
    "print(f\"tokens in sent:{sent[0:3]}\")\n",
    "\n",
    "# 用切好的句子來建立短語\n",
    "phrases = Phrases(sent, min_count=30, progress_per=10000) \n",
    "bigram = Phraser(phrases) # 使用 Phrases 可以加快處理速度\n",
    "sentences = bigram[sent] # 用剛剛建立的bigram來建立corpus"
   ]
  },
  {
   "cell_type": "markdown",
   "metadata": {},
   "source": [
    "### 2.3 資料集基本檢視"
   ]
  },
  {
   "cell_type": "markdown",
   "metadata": {},
   "source": [
    "檢查剛剛前處理的結果"
   ]
  },
  {
   "cell_type": "code",
   "execution_count": 11,
   "metadata": {},
   "outputs": [],
   "source": [
    "# 定義一個空的dictionary來存詞頻\n",
    "word_freq = defaultdict(int)\n",
    "\n",
    "# 計算詞頻\n",
    "for sent in sentences: # sent 中的每個句子\n",
    "    for i in sent: # i 是句子中的每個字\n",
    "        word_freq[i] += 1"
   ]
  },
  {
   "cell_type": "code",
   "execution_count": 12,
   "metadata": {},
   "outputs": [
    {
     "name": "stdout",
     "output_type": "stream",
     "text": [
      "total unique words in sentences: 30171\n"
     ]
    },
    {
     "data": {
      "text/plain": [
       "['oh', 'like', 'know', 'get', 'hey', 'think', 'right', 'look', 'want', 'come']"
      ]
     },
     "execution_count": 12,
     "metadata": {},
     "output_type": "execute_result"
    }
   ],
   "source": [
    "# 檢查詞頻最高的10個字\n",
    "print(f\"total unique words in sentences: {len(word_freq)}\") # (unigram + bigrams)\n",
    "sorted(word_freq, key=word_freq.get, reverse=True)[:10]"
   ]
  },
  {
   "cell_type": "code",
   "execution_count": 13,
   "metadata": {},
   "outputs": [
    {
     "name": "stdout",
     "output_type": "stream",
     "text": [
      "sentence number of corpus: 85964\n",
      "average length of sentences: 6.091468521706761\n"
     ]
    }
   ],
   "source": [
    "# 看一下 corpus 的基本統計，總句數與平均字數\n",
    "print(f\"sentence number of corpus: {len(sentences)}\")\n",
    "i= 0\n",
    "for sent in sentences:\n",
    "    i = i + len(sent)\n",
    "print(f\"average length of sentences: {i/len(sentences)}\")"
   ]
  },
  {
   "cell_type": "markdown",
   "metadata": {},
   "source": [
    "## 3 word2vec模型\n",
    "\n",
    "<img src=\"http://mccormickml.com/assets/word2vec/skip_gram_net_arch.png\" alt=\"drawing\" width=\"550\"/>\n",
    "\n",
    "word2vec 簡介\n",
    "+ 2013年由google發布的方法，在python中以 Gensim library實現\n",
    "+ 基本假設：上下文相似的兩個字，意思應該會相似，如 dog 和 puppy 這兩個字的周圍可能都會有 fluffy, cute 這樣的字，用word2vec轉換之後，這兩個字的向量應該會是相似的\n",
    "+ 相關應用：找出某個字的相似詞、做文件分類、文件分群"
   ]
  },
  {
   "cell_type": "markdown",
   "metadata": {},
   "source": [
    "### 3.1 建立模型\n",
    "在這裡我們切成三個步驟來訓練word2vec模型（[官方文件](https://radimrehurek.com/gensim/models/word2vec.html)）\n",
    "1. `Word2Vec()`：設定模型參數\n",
    "2. `build_vocab()`：匯入訓練資料並初始化模型，可以特別觀察min_count、sample這兩個變數在資料集上的影響\n",
    "3. `.train()`：開始訓練模型"
   ]
  },
  {
   "cell_type": "markdown",
   "metadata": {},
   "source": [
    "### 3.1.1 Word2Vec 參數設定\n",
    "\n",
    "參數名稱 = 型態 - 解釋\n",
    "+ `min_count` = int - 忽略詞頻太小的字\n",
    "+ `window` = int - 模型關注的字和要預測的字的最大距離，算左邊也算右邊\n",
    "+ `size` = int - 一個字向量的維度，建議用4的倍數\n",
    "+ `sample` = float - 高詞頻字詞被 randomly downsampled的threshold，範圍是 (0, 1e-5)\n",
    "+ `alpha` = float - 初始 learning rate\n",
    "+ `min_alpha` = float - 在訓練的過程中，learning rate會慢慢下降至min_alpha，設定方式： alpha - (min_alpha * epochs) ~ 0.00\n",
    "+ `negative` = int - negative sampling 的個數(要找的`noise words`有幾個)，如果是零就不會使用negative sampling\n",
    "+ `workers` = int -用幾個 worker threads 去訓練模型，越多訓練越快\n",
    "+ `seed` = int 隨機的亂數種子\n",
    "\n",
    "常用設定參數\n",
    "+ `window` 依據句子長度做調整，如上面算出來平均句子只有6個字，window 就不要設置的太大\n",
    "+ `size` 依據corpus總字數做調整\n",
    "+ `epochs` 如果向量空間沒有拉開，可考慮增加迭代次數\n",
    "+ `seed` 設定seed讓每次訓練結果一樣"
   ]
  },
  {
   "cell_type": "markdown",
   "metadata": {},
   "source": [
    "對於python 3，如果有用多個worker來訓練模型的話，也要記得設定環境的亂數種子"
   ]
  },
  {
   "cell_type": "code",
   "execution_count": 14,
   "metadata": {},
   "outputs": [
    {
     "name": "stdout",
     "output_type": "stream",
     "text": [
      "env: PYTHONHASHSEED=123\n"
     ]
    }
   ],
   "source": [
    "# 設定環境 random seed\n",
    "%env PYTHONHASHSEED=123"
   ]
  },
  {
   "cell_type": "code",
   "execution_count": 15,
   "metadata": {},
   "outputs": [
    {
     "name": "stdout",
     "output_type": "stream",
     "text": [
      "number of cores: 16\n"
     ]
    }
   ],
   "source": [
    "cores = multiprocessing.cpu_count() # 看電腦上有幾個 core\n",
    "print(f\"number of cores: {cores}\")"
   ]
  },
  {
   "cell_type": "code",
   "execution_count": 16,
   "metadata": {},
   "outputs": [],
   "source": [
    "# 設定參數\n",
    "w2v_model = Word2Vec(min_count=20,\n",
    "                     window=2,\n",
    "                     size=160,\n",
    "                     sample=6e-5, \n",
    "                     alpha=0.03, \n",
    "                     min_alpha=0.0007, \n",
    "                     negative=20,\n",
    "                     workers=cores-1,\n",
    "                     seed=123)"
   ]
  },
  {
   "cell_type": "markdown",
   "metadata": {},
   "source": [
    "### 3.2 初始化模型\n",
    "依據上面設定的規則去計算匯入的資料集，如去除掉低詞頻的字，建立模型的vocabulary"
   ]
  },
  {
   "cell_type": "code",
   "execution_count": 17,
   "metadata": {},
   "outputs": [
    {
     "name": "stderr",
     "output_type": "stream",
     "text": [
      "INFO - 22:32:48: collecting all words and their counts\n",
      "INFO - 22:32:48: PROGRESS: at sentence #0, processed 0 words, keeping 0 word types\n",
      "INFO - 22:32:48: PROGRESS: at sentence #10000, processed 61712 words, keeping 9554 word types\n",
      "INFO - 22:32:48: PROGRESS: at sentence #20000, processed 127336 words, keeping 14498 word types\n",
      "INFO - 22:32:48: PROGRESS: at sentence #30000, processed 187805 words, keeping 17614 word types\n",
      "INFO - 22:32:48: PROGRESS: at sentence #40000, processed 243304 words, keeping 20380 word types\n",
      "INFO - 22:32:48: PROGRESS: at sentence #50000, processed 303151 words, keeping 22873 word types\n",
      "INFO - 22:32:49: PROGRESS: at sentence #60000, processed 363903 words, keeping 25195 word types\n",
      "INFO - 22:32:49: PROGRESS: at sentence #70000, processed 425366 words, keeping 27394 word types\n",
      "INFO - 22:32:49: PROGRESS: at sentence #80000, processed 485414 words, keeping 29268 word types\n",
      "INFO - 22:32:49: collected 30171 word types from a corpus of 523647 raw words and 85964 sentences\n",
      "INFO - 22:32:49: Loading a fresh vocabulary\n",
      "INFO - 22:32:49: min_count=20 retains 3314 unique words (10% of original 30171, drops 26857)\n",
      "INFO - 22:32:49: min_count=20 leaves 437264 word corpus (83% of original 523647, drops 86383)\n",
      "INFO - 22:32:49: deleting the raw counts dictionary of 30171 items\n",
      "INFO - 22:32:49: sample=6e-05 downsamples 1199 most-common words\n",
      "INFO - 22:32:49: downsampling leaves estimated 198935 word corpus (45.5% of prior 437264)\n",
      "INFO - 22:32:49: estimated required memory for 3314 words and 160 dimensions: 5898920 bytes\n",
      "INFO - 22:32:49: resetting layer weights\n"
     ]
    },
    {
     "name": "stdout",
     "output_type": "stream",
     "text": [
      "Time to build vocab: 0.03 mins\n"
     ]
    }
   ],
   "source": [
    "# 建立模型的 vocabulary\n",
    "t = time()\n",
    "w2v_model.build_vocab(sentences, progress_per=10000)\n",
    "print('Time to build vocab: {} mins'.format(round((time() - t) / 60, 2)))"
   ]
  },
  {
   "cell_type": "markdown",
   "metadata": {},
   "source": [
    "### 3.3 訓練模型\n",
    "在這裡我們正式開始迭代訓練模型，有幾個需要設定的參數\n",
    "+ `total_examples` = int - 要訓練的句子數量\n",
    "+ `epochs` = int - 要迭代的次數 (iterations, epochs)"
   ]
  },
  {
   "cell_type": "code",
   "execution_count": 19,
   "metadata": {},
   "outputs": [
    {
     "name": "stdout",
     "output_type": "stream",
     "text": [
      "Time to train the model: 0.51 mins\n"
     ]
    }
   ],
   "source": [
    "# 隱藏training的progress INFO，如果想看過程的話可以註解掉下面這行\n",
    "logging.getLogger().setLevel(logging.CRITICAL)\n",
    "\n",
    "# 訓練模型\n",
    "t = time()\n",
    "w2v_model.train(sentences, \n",
    "                total_examples=w2v_model.corpus_count, \n",
    "                epochs=25\n",
    "               )\n",
    "print('Time to train the model: {} mins'.format(round((time() - t) / 60, 2)))"
   ]
  },
  {
   "cell_type": "markdown",
   "metadata": {},
   "source": [
    "鎖住模型參數，避免動到確定的模型"
   ]
  },
  {
   "cell_type": "code",
   "execution_count": 20,
   "metadata": {},
   "outputs": [],
   "source": [
    "w2v_model.init_sims(replace=True)"
   ]
  },
  {
   "cell_type": "markdown",
   "metadata": {},
   "source": [
    "建議同學在儲存模型的時候，可以記錄相關的參數，並給模型不同的名字，方便之後比較不同版本間的好壞\n",
    "+ ver1\n",
    "    + epochs: 25\n",
    "    + min_count=20\n",
    "    + window=2\n",
    "    + size=160\n",
    "    + sample=6e-5 \n",
    "    + alpha=0.03 \n",
    "    + min_alpha=0.0007\n",
    "    + negative=20"
   ]
  },
  {
   "cell_type": "code",
   "execution_count": null,
   "metadata": {},
   "outputs": [],
   "source": [
    "# # 儲存訓練好的模型\n",
    "# ver = \"ver2\"\n",
    "# w2v_model.save(\"model/word2vec_\"+ver+\".model\")"
   ]
  },
  {
   "cell_type": "code",
   "execution_count": 53,
   "metadata": {},
   "outputs": [],
   "source": [
    "# # 匯入已經訓練好的模型\n",
    "w2v_model = Word2Vec.load(\"model/en/word2vec.model\")"
   ]
  },
  {
   "cell_type": "markdown",
   "metadata": {},
   "source": [
    "## 4. 查看模型結果\n",
    "### 4.1 字詞相似度\n",
    "+ 字詞相似度\n",
    "    + `most_similar`: \n",
    "        + 和某個字最像的字詞有哪些(和X最像的詞)\n",
    "        + 比較詞之間的相對關係(X對於Y，相當於A對於B)\n",
    "    + `wv.similarity`: 比較兩個字詞之間的相似度\n",
    "    + `wv.doesnt_match`: 挑出多個詞語中，和其他字最不相似的字詞"
   ]
  },
  {
   "cell_type": "markdown",
   "metadata": {},
   "source": [
    "+ 尋找相似字詞\n",
    "    + 在訓練好模型之後，我們可以依據每個字的字詞向量，來找出相似度最高的字詞\n",
    "    + 注意：用角色名稱找尋相似字的時候，因為角色通常不太會用第三人稱稱呼自己，找到的相似字，應該是其他角色針對這個角色所給出的評價，意即提到某個角色的時候常常用到的字詞有哪些"
   ]
  },
  {
   "cell_type": "markdown",
   "metadata": {},
   "source": [
    "### 檢視模型格式"
   ]
  },
  {
   "cell_type": "markdown",
   "metadata": {},
   "source": [
    "可以用模型的`.wv.vocab`參數查看模型的所有詞彙，在模型中每一個詞都是以向量表示，而向量的維度就是上面訓練模型時所設定的`size`。"
   ]
  },
  {
   "cell_type": "code",
   "execution_count": 54,
   "metadata": {},
   "outputs": [
    {
     "data": {
      "text/plain": [
       "['enjoy', 'lovejoy', 'joy']"
      ]
     },
     "execution_count": 54,
     "metadata": {},
     "output_type": "execute_result"
    }
   ],
   "source": [
    "# 檢查模型中有沒有包含特定substring的字\n",
    "[key for key, value in w2v_model.wv.vocab.items() if 'joy' in key.lower()]"
   ]
  },
  {
   "cell_type": "code",
   "execution_count": 55,
   "metadata": {},
   "outputs": [
    {
     "name": "stdout",
     "output_type": "stream",
     "text": [
      "word exist\n",
      "vector size of word 「homer」: 160\n"
     ]
    },
    {
     "name": "stderr",
     "output_type": "stream",
     "text": [
      "/home/ann2/.local/lib/python3.6/site-packages/ipykernel_launcher.py:9: DeprecationWarning: Call to deprecated `__getitem__` (Method will be removed in 4.0.0, use self.wv.__getitem__() instead).\n",
      "  if __name__ == '__main__':\n"
     ]
    },
    {
     "data": {
      "text/plain": [
       "array([-0.06367803, -0.09746683, -0.00343522, -0.0141319 , -0.0598839 ,\n",
       "        0.04349281,  0.11580639,  0.06359758,  0.02853998,  0.11511367,\n",
       "        0.02981695,  0.06123631, -0.13351692, -0.06400134,  0.05091059,\n",
       "       -0.09472297, -0.0298391 , -0.14907007,  0.01772095,  0.09323482,\n",
       "       -0.15030266,  0.06212586, -0.08154261, -0.06416962, -0.06125559,\n",
       "        0.03777761, -0.13264151, -0.03799113, -0.039577  , -0.01732632,\n",
       "        0.02238754,  0.13109805,  0.13392854, -0.08121717,  0.06494965,\n",
       "        0.03157185,  0.05152192,  0.08018276,  0.10250101, -0.03699565,\n",
       "       -0.05220245, -0.02184333,  0.01925154,  0.00931669, -0.14498329,\n",
       "        0.05529997, -0.15509701, -0.12801896, -0.09544472,  0.00823064,\n",
       "        0.0748329 , -0.06420086,  0.02631706,  0.16247436,  0.07154439,\n",
       "        0.09338882,  0.01974413, -0.00305895, -0.08634641,  0.14819555,\n",
       "        0.00682015, -0.06778476, -0.18615636, -0.05793558, -0.04967695,\n",
       "       -0.00351617, -0.04648159,  0.00382361,  0.08910184,  0.03683051,\n",
       "       -0.01261689,  0.1712555 , -0.1980925 ,  0.00877827, -0.03487244,\n",
       "       -0.07956064, -0.0685133 , -0.0014941 , -0.06865212, -0.10768451,\n",
       "        0.16824572, -0.00998956, -0.070232  ,  0.08632037, -0.0578718 ,\n",
       "       -0.12004951, -0.07250807,  0.12301885, -0.01797462,  0.00781929,\n",
       "       -0.01295135, -0.01600735, -0.01893552,  0.02492085, -0.09601641,\n",
       "        0.11695837,  0.09586024,  0.01860074,  0.01501963,  0.08147653,\n",
       "        0.02460803,  0.07205092,  0.01824893,  0.05965015, -0.00409295,\n",
       "       -0.15347505, -0.09848671,  0.06170712, -0.0398164 ,  0.17732659,\n",
       "        0.10159982, -0.03251622, -0.04478617,  0.05097992, -0.11996485,\n",
       "       -0.00582459, -0.05545712,  0.06324994,  0.01032369, -0.11020753,\n",
       "       -0.00582681, -0.07020798,  0.00278796,  0.05320174,  0.08164484,\n",
       "       -0.08724672, -0.01198865, -0.19068256, -0.08638322,  0.08111097,\n",
       "       -0.01865614,  0.0678862 , -0.00886112, -0.01305248, -0.02948964,\n",
       "       -0.05472149,  0.02639102, -0.10689107, -0.05054582,  0.03939299,\n",
       "        0.06434617,  0.00967295, -0.03063622, -0.03951755, -0.07171771,\n",
       "       -0.07611331,  0.0450286 , -0.11271399, -0.05428502,  0.08526953,\n",
       "       -0.11105633,  0.02691051, -0.03872494, -0.00659084, -0.03551533,\n",
       "       -0.05086562, -0.00638821,  0.03963003,  0.12232829, -0.10185792],\n",
       "      dtype=float32)"
      ]
     },
     "execution_count": 55,
     "metadata": {},
     "output_type": "execute_result"
    }
   ],
   "source": [
    "# 檢查某個詞有沒有在word2vec的詞彙庫裡面\n",
    "word = \"homer\"\n",
    "if word in w2v_model.wv.vocab:\n",
    "    print(\"word exist\")\n",
    "else:\n",
    "    print(\"word not exist\")\n",
    "\n",
    "# 查看該詞的向量格式\n",
    "word_vector = w2v_model['homer']\n",
    "print(f\"vector size of word 「{word}」: {word_vector.shape[0]}\")\n",
    "word_vector"
   ]
  },
  {
   "cell_type": "markdown",
   "metadata": {},
   "source": [
    "### 相似度最高的字詞"
   ]
  },
  {
   "cell_type": "code",
   "execution_count": 56,
   "metadata": {},
   "outputs": [],
   "source": [
    "def sim_words(model, token, top_n = 10 , direction=\"pos\"):\n",
    "    if direction == \"pos\":\n",
    "        return model.wv.most_similar(positive=[token], topn=top_n)\n",
    "    else:\n",
    "        return model.wv.most_similar(positive=[token], topn=top_n)"
   ]
  },
  {
   "cell_type": "code",
   "execution_count": 57,
   "metadata": {},
   "outputs": [
    {
     "data": {
      "text/plain": [
       "[('marge', 0.8694854378700256),\n",
       " ('gee', 0.8661855459213257),\n",
       " ('wake', 0.8622602820396423),\n",
       " ('sweetheart', 0.8569946885108948),\n",
       " ('snuggle', 0.8485366702079773),\n",
       " ('embarrassing', 0.8484464883804321),\n",
       " ('abe', 0.8384180068969727),\n",
       " ('drunk', 0.8381083011627197),\n",
       " ('crummy', 0.8344454169273376),\n",
       " ('nervous', 0.8322972655296326),\n",
       " ('quick', 0.8275413513183594),\n",
       " ('talk', 0.8265094757080078),\n",
       " ('everybody', 0.8235839605331421),\n",
       " ('sorry', 0.821128785610199),\n",
       " ('anybody', 0.8192712664604187)]"
      ]
     },
     "execution_count": 57,
     "metadata": {},
     "output_type": "execute_result"
    }
   ],
   "source": [
    "# 荷馬的相似詞\n",
    "sim_words(w2v_model, \"homer\",15)"
   ]
  },
  {
   "cell_type": "markdown",
   "metadata": {},
   "source": [
    "查看 `homer`荷馬，常常和他的妻子美枝(marge)一起提到，依據劇情推測，相似詞可能和角色常常躺著蜷起來(snuggle)，性格糟糕(crummy)、喝醉(drunk)或是陷入尷尬(embarrassing)的處境有關"
   ]
  },
  {
   "cell_type": "code",
   "execution_count": 58,
   "metadata": {},
   "outputs": [
    {
     "data": {
      "text/plain": [
       "[('recent', 0.9261524081230164),\n",
       " ('select', 0.9115554094314575),\n",
       " ('council', 0.9101120233535767),\n",
       " ('governor', 0.9022486209869385),\n",
       " ('direct', 0.8971520066261292),\n",
       " ('united_states', 0.8952721953392029),\n",
       " ('congratulation', 0.8946788311004639),\n",
       " ('committee', 0.8926633596420288),\n",
       " ('debate', 0.8904547691345215),\n",
       " ('convention', 0.8901147246360779),\n",
       " ('executive', 0.8851394057273865),\n",
       " ('current', 0.8848150372505188),\n",
       " ('research', 0.8810037970542908),\n",
       " ('elect', 0.8788638710975647),\n",
       " ('broadcast', 0.878856897354126),\n",
       " ('threat', 0.8764666318893433),\n",
       " ('robert', 0.876251220703125),\n",
       " ('personally', 0.8738483190536499),\n",
       " ('pleased', 0.8713051080703735),\n",
       " ('employee', 0.8712397813796997)]"
      ]
     },
     "execution_count": 58,
     "metadata": {},
     "output_type": "execute_result"
    }
   ],
   "source": [
    "# 荷馬辛普森的相似詞\n",
    "sim_words(w2v_model, \"homer_simpson\",20)"
   ]
  },
  {
   "cell_type": "markdown",
   "metadata": {},
   "source": [
    "不過如果是用`homer_simpson`這個詞的時候，描述的方式就變得不太一樣，可以發現出現恭喜(congratulation)、高興地(pleased)比較正面的詞"
   ]
  },
  {
   "cell_type": "code",
   "execution_count": 59,
   "metadata": {},
   "outputs": [
    {
     "data": {
      "text/plain": [
       "[('bart', 0.9006776809692383),\n",
       " ('upset', 0.8706666231155396),\n",
       " ('daughter', 0.867270827293396),\n",
       " ('jealous', 0.8641892671585083),\n",
       " ('exploit', 0.8620872497558594),\n",
       " ('nervous', 0.8592240810394287),\n",
       " ('grownup', 0.8579650521278381),\n",
       " ('quiet', 0.8560676574707031),\n",
       " ('badly', 0.8536345958709717),\n",
       " ('run_away', 0.8535792827606201),\n",
       " ('sweetie', 0.8515629768371582),\n",
       " ('surprised', 0.8489217162132263),\n",
       " ('brother', 0.8483967781066895),\n",
       " ('bedtime', 0.8479779958724976),\n",
       " ('father', 0.8479441404342651),\n",
       " ('tell_truth', 0.847761869430542),\n",
       " ('son', 0.8468610048294067),\n",
       " ('fault', 0.8468106389045715),\n",
       " ('saxophone', 0.8443050384521484),\n",
       " ('strangle', 0.8411260843276978)]"
      ]
     },
     "execution_count": 59,
     "metadata": {},
     "output_type": "execute_result"
    }
   ],
   "source": [
    "# 花枝的相似詞\n",
    "sim_words(w2v_model, \"lisa\",20)"
   ]
  },
  {
   "cell_type": "markdown",
   "metadata": {},
   "source": [
    "辛普森家庭中的第一個女兒(daughter)，有時候會和弟弟霸子(bart)一起提到，也會吹奏薩克斯風(saxophone)，推測因為是裡面較理性、有發展性的角色，出現和成長相關的詞(grownup)"
   ]
  },
  {
   "cell_type": "code",
   "execution_count": 60,
   "metadata": {},
   "outputs": [
    {
     "data": {
      "text/plain": [
       "[('muntz', 0.9320098757743835),\n",
       " ('strangle', 0.8206021785736084),\n",
       " ('mom', 0.8082563877105713),\n",
       " ('tummy', 0.802091121673584),\n",
       " ('scared', 0.7972350716590881),\n",
       " ('valentine', 0.7949023246765137),\n",
       " ('milhouse', 0.7917919158935547),\n",
       " ('bart', 0.7898565530776978),\n",
       " ('big_deal', 0.7891484498977661),\n",
       " ('silly', 0.7871984243392944),\n",
       " ('jealous', 0.7870686054229736),\n",
       " ('hopeless', 0.7828330993652344),\n",
       " ('hurt', 0.7821468710899353),\n",
       " ('tough', 0.7820913791656494),\n",
       " ('brother', 0.7805073261260986),\n",
       " ('vegas', 0.7782983779907227),\n",
       " ('exploit', 0.7772006988525391),\n",
       " ('selfish', 0.777082622051239),\n",
       " ('nightmare', 0.7764883041381836),\n",
       " ('bully', 0.77583909034729)]"
      ]
     },
     "execution_count": 60,
     "metadata": {},
     "output_type": "execute_result"
    }
   ],
   "source": [
    "# 阿浮的相似詞\n",
    "sim_words(w2v_model, \"nelson\",20)"
   ]
  },
  {
   "cell_type": "markdown",
   "metadata": {},
   "source": [
    "nelson是校園中的惡霸，在劇中也屬於比較會製造衝突的負面角色，相似詞出現霸凌(bully)、扼殺(strangle)等詞、傷害(hurt)、自私(selfish)、惡夢(nightmare)等，比較偏負面的角色"
   ]
  },
  {
   "cell_type": "markdown",
   "metadata": {},
   "source": [
    "### 兩個字之間的相似度比較\n",
    "+ 除了某個字的相似詞外，我們也可以比較兩個詞的相似程度，在這裡我們也用不同的角色當例子，相似度越高代表他們之間的距離就越近"
   ]
  },
  {
   "cell_type": "code",
   "execution_count": 61,
   "metadata": {},
   "outputs": [
    {
     "data": {
      "text/plain": [
       "0.9057878381202951"
      ]
     },
     "execution_count": 61,
     "metadata": {},
     "output_type": "execute_result"
    }
   ],
   "source": [
    "# 老謀子和酒館\n",
    "w2v_model.wv.similarity(\"moe\", 'tavern')"
   ]
  },
  {
   "cell_type": "markdown",
   "metadata": {},
   "source": [
    "老謀子(mMoe Szyslak)是劇中的酒吧(tavern)老闆，兩者常常一起提到，字詞相似度很高"
   ]
  },
  {
   "cell_type": "code",
   "execution_count": 62,
   "metadata": {},
   "outputs": [
    {
     "data": {
      "text/plain": [
       "0.7916846446524146"
      ]
     },
     "execution_count": 62,
     "metadata": {},
     "output_type": "execute_result"
    }
   ],
   "source": [
    "# 奶嘴辛普森和小寶寶\n",
    "w2v_model.wv.similarity('maggie', 'baby')"
   ]
  },
  {
   "cell_type": "markdown",
   "metadata": {},
   "source": [
    "奶嘴·辛普森(Maggie Simpson)是動畫中的寶寶角色，和baby這個詞很相近"
   ]
  },
  {
   "cell_type": "code",
   "execution_count": 63,
   "metadata": {},
   "outputs": [
    {
     "name": "stdout",
     "output_type": "stream",
     "text": [
      "0.8492082577470087\n",
      "0.7898565456415245\n"
     ]
    }
   ],
   "source": [
    "# 霸子 vs. 孔安\n",
    "print(w2v_model.wv.similarity('bart', 'ralphie'))\n",
    "# 霸子 vs. 阿浮\n",
    "print(w2v_model.wv.similarity('bart', 'nelson'))"
   ]
  },
  {
   "cell_type": "markdown",
   "metadata": {},
   "source": [
    "比較三個角色之間的關係，推測因為壩子(bart) 和劇中角色孔安(ralphie)是較好的朋友，和校霸阿浮(Nelson Muntz)關係差比較不常一起出現，相似程度前者較後者高些"
   ]
  },
  {
   "cell_type": "markdown",
   "metadata": {},
   "source": [
    "### Odd-One-Out\n",
    "+ 除了比較不同字詞的兩兩隻間的相似度，也可以找出多個字詞中，最不相似的是哪一個"
   ]
  },
  {
   "cell_type": "code",
   "execution_count": 64,
   "metadata": {},
   "outputs": [
    {
     "name": "stderr",
     "output_type": "stream",
     "text": [
      "/home/ann2/.local/lib/python3.6/site-packages/gensim/models/keyedvectors.py:730: FutureWarning: arrays to stack must be passed as a \"sequence\" type such as list or tuple. Support for non-sequence iterables such as generators is deprecated as of NumPy 1.16 and will raise an error in the future.\n",
      "  vectors = vstack(self.word_vec(word, use_norm=True) for word in used_words).astype(REAL)\n"
     ]
    },
    {
     "data": {
      "text/plain": [
       "'nelson'"
      ]
     },
     "execution_count": 64,
     "metadata": {},
     "output_type": "execute_result"
    }
   ],
   "source": [
    "w2v_model.wv.doesnt_match([\"nelson\", \"bart\", \"milhouse\"])"
   ]
  },
  {
   "cell_type": "markdown",
   "metadata": {},
   "source": [
    "阿浮(nelson)是校霸，相比主角霸子(bart)和常被欺負的蘇呆子(milhouse)代表向量很不一樣"
   ]
  },
  {
   "cell_type": "code",
   "execution_count": 65,
   "metadata": {},
   "outputs": [
    {
     "data": {
      "text/plain": [
       "'homer'"
      ]
     },
     "execution_count": 65,
     "metadata": {},
     "output_type": "execute_result"
    }
   ],
   "source": [
    "w2v_model.wv.doesnt_match(['homer', 'patty', 'selma'])"
   ]
  },
  {
   "cell_type": "markdown",
   "metadata": {},
   "source": [
    "帕蒂(patty)和塞爾瑪(selma)是荷馬(homer)的兩個嫂子，相比之下荷馬最不一樣"
   ]
  },
  {
   "cell_type": "markdown",
   "metadata": {},
   "source": [
    "### 字詞之間的相互類比\n",
    "+ 求出什麼詞x對Y，相當於A對B"
   ]
  },
  {
   "cell_type": "code",
   "execution_count": 70,
   "metadata": {},
   "outputs": [
    {
     "data": {
      "text/plain": [
       "[('entertain', 0.8308466672897339),\n",
       " ('greeting', 0.8246945142745972),\n",
       " ('tale', 0.8237847089767456)]"
      ]
     },
     "execution_count": 70,
     "metadata": {},
     "output_type": "execute_result"
    }
   ],
   "source": [
    "w2v_model.wv.most_similar(positive=[\"nightmare\", \"great\"], negative=[\"bad\"], topn=3)"
   ]
  },
  {
   "cell_type": "markdown",
   "metadata": {},
   "source": [
    "甚麼詞對nightmare，相當於great(不錯)對bad(糟糕的)，可以看到出現正面的詞作為對照"
   ]
  },
  {
   "cell_type": "code",
   "execution_count": 71,
   "metadata": {},
   "outputs": [
    {
     "data": {
      "text/plain": [
       "[('lisa', 0.8534722924232483),\n",
       " ('sorry', 0.8122746348381042),\n",
       " ('mom_dad', 0.8010635375976562)]"
      ]
     },
     "execution_count": 71,
     "metadata": {},
     "output_type": "execute_result"
    }
   ],
   "source": [
    "w2v_model.wv.most_similar(positive=[\"woman\", \"bart\"], negative=[\"man\"], topn=3)"
   ]
  },
  {
   "cell_type": "markdown",
   "metadata": {},
   "source": [
    "找甚麼詞對woman，相當於bart(霸子)對man(男人)，可以看到妹妹花枝(lisa)出現作為對照"
   ]
  },
  {
   "cell_type": "markdown",
   "metadata": {},
   "source": [
    "### 4.2 向量空間視覺化\n",
    "### 4.2.1 二維空間視覺化\n",
    "+ t-SNE：可以將高維的空間壓縮，用低維的平面呈現"
   ]
  },
  {
   "cell_type": "code",
   "execution_count": 72,
   "metadata": {},
   "outputs": [],
   "source": [
    "def tsnescatterplot(model, word, list_names):\n",
    "    \"\"\" Plot in seaborn the results from the t-SNE dimensionality reduction algorithm of the vectors of a query word,\n",
    "    its list of most similar words, and a list of words.\n",
    "    \"\"\"\n",
    "    arrays = np.empty((0, 160), dtype='f')\n",
    "    word_labels = [word]\n",
    "    color_list  = ['red']\n",
    "\n",
    "    # adds the vector of the query word\n",
    "    arrays = np.append(arrays, model.wv.__getitem__([word]), axis=0)\n",
    "    \n",
    "    # gets list of most similar words\n",
    "    close_words = model.wv.most_similar([word])\n",
    "    \n",
    "    # adds the vector for each of the closest words to the array\n",
    "    for wrd_score in close_words:\n",
    "        wrd_vector = model.wv.__getitem__([wrd_score[0]])\n",
    "        word_labels.append(wrd_score[0])\n",
    "        color_list.append('blue')\n",
    "        arrays = np.append(arrays, wrd_vector, axis=0)\n",
    "    \n",
    "    # adds the vector for each of the words from list_names to the array\n",
    "    for wrd in list_names:\n",
    "        wrd_vector = model.wv.__getitem__([wrd])\n",
    "        word_labels.append(wrd)\n",
    "        color_list.append('green')\n",
    "        arrays = np.append(arrays, wrd_vector, axis=0)\n",
    "    \n",
    "    # todo: 50 => 19 ?\n",
    "    # Reduces the dimensionality from 300 to 50 dimensions with PCA\n",
    "    reduc = PCA(n_components=19).fit_transform(arrays)\n",
    "    \n",
    "    # Finds t-SNE coordinates for 2 dimensions\n",
    "    np.set_printoptions(suppress=True)\n",
    "    \n",
    "    Y = TSNE(n_components=2, random_state=0, perplexity=15).fit_transform(reduc)\n",
    "    \n",
    "    # Sets everything up to plot\n",
    "    df = pd.DataFrame({'x': [x for x in Y[:, 0]],\n",
    "                       'y': [y for y in Y[:, 1]],\n",
    "                       'words': word_labels,\n",
    "                       'color': color_list})\n",
    "    # 畫圖的部分\n",
    "    fig, _ = plt.subplots()\n",
    "    fig.set_size_inches(9, 9)\n",
    "    \n",
    "    # 定義字型\n",
    "    font = {'family' : 'sans-serif', 'weight' : 'normal', 'size' : 12}\n",
    "    plt.rc('font', **font)\n",
    "\n",
    "    \n",
    "    # Basic plot\n",
    "    p1 = sns.regplot(data=df,\n",
    "                     x=\"x\",\n",
    "                     y=\"y\",\n",
    "                     fit_reg=False,\n",
    "                     marker=\"o\",\n",
    "                     scatter_kws={'s': 40,\n",
    "                                  'facecolors': df['color']\n",
    "                                 }\n",
    "                    )\n",
    "    \n",
    "    # Adds annotations one by one with a loop\n",
    "    for line in range(0, df.shape[0]):\n",
    "         p1.text(df[\"x\"][line],\n",
    "                 df['y'][line],\n",
    "                 '  ' + df[\"words\"][line].title(),\n",
    "                 horizontalalignment='left',\n",
    "                 verticalalignment='bottom', size='medium',\n",
    "                 color=df['color'][line],\n",
    "                 weight='normal'\n",
    "                ).set_size(15)\n",
    "\n",
    "    \n",
    "    plt.xlim(Y[:, 0].min()-50, Y[:, 0].max()+50)\n",
    "    plt.ylim(Y[:, 1].min()-50, Y[:, 1].max()+50)\n",
    "            \n",
    "    plt.title('t-SNE visualization for {}'.format(word.title()))"
   ]
  },
  {
   "cell_type": "markdown",
   "metadata": {},
   "source": [
    "在這裡我們想要檢視字詞空間的分布情形，用t-SNE將模型的字詞維度從160維壓到2維上\n",
    "+ 目標字(query word)：紅色\n",
    "+ 相似字(similar word)：藍色\n",
    "+ 其他字(other word)：綠色"
   ]
  },
  {
   "cell_type": "code",
   "execution_count": 73,
   "metadata": {},
   "outputs": [
    {
     "data": {
      "image/png": "[encoded data removed]",
      "text/plain": [
       "<Figure size 648x648 with 1 Axes>"
      ]
     },
     "metadata": {},
     "output_type": "display_data"
    }
   ],
   "source": [
    "# input: model, query word, other words\n",
    "tsnescatterplot(w2v_model, 'homer', ['dog', 'bird', 'ah', 'maude', 'bob', 'mel', 'apu', 'duff'])"
   ]
  },
  {
   "cell_type": "markdown",
   "metadata": {},
   "source": [
    "我們可以看到對於Homer這個字，相較於其他random挑出來的字，紅色相似字的距離都分布較近"
   ]
  },
  {
   "cell_type": "code",
   "execution_count": 74,
   "metadata": {},
   "outputs": [
    {
     "data": {
      "image/png": "[encoded data removed]",
      "text/plain": [
       "<Figure size 648x648 with 1 Axes>"
      ]
     },
     "metadata": {},
     "output_type": "display_data"
    }
   ],
   "source": [
    "tsnescatterplot(w2v_model, 'maggie', [i[0] for i in w2v_model.wv.most_similar(negative=[\"maggie\"])])"
   ]
  },
  {
   "cell_type": "markdown",
   "metadata": {},
   "source": [
    "這裡挑出10個最相近的字，還有10個最不相近的字，可以看到藍色與綠色的字群遠遠分開，說明在語意空間上他們較遠"
   ]
  },
  {
   "cell_type": "code",
   "execution_count": 75,
   "metadata": {},
   "outputs": [
    {
     "data": {
      "image/png": "[encoded data removed]",
      "text/plain": [
       "<Figure size 648x648 with 1 Axes>"
      ]
     },
     "metadata": {},
     "output_type": "display_data"
    }
   ],
   "source": [
    "tsnescatterplot(w2v_model, \"lisa\", [t[0] for t in w2v_model.wv.most_similar(positive=[\"lisa\"], topn=20)][10:])"
   ]
  },
  {
   "cell_type": "markdown",
   "metadata": {},
   "source": [
    "這裡把相似度排名前20的字分為兩群，前10是藍色，11~20名是綠色，可以發現幾乎前10的藍色字詞分布都比綠色的較遠"
   ]
  },
  {
   "cell_type": "code",
   "execution_count": 76,
   "metadata": {},
   "outputs": [],
   "source": [
    "def threeDim_similarity(model, word, topn=10):\n",
    "        \n",
    "    ## query word 和相似字的 word embedding\n",
    "    tot_words = [word] + [tupla[0] for tupla in \n",
    "                     model.wv.most_similar(word, topn=topn)]\n",
    "    X = model.wv[tot_words]\n",
    "    \n",
    "    ## pca 將原本的字詞向量從160維降到3維\n",
    "    pca = manifold.TSNE(perplexity=40, n_components=3, init='pca')\n",
    "    X = pca.fit_transform(X)\n",
    "    \n",
    "    ## create dtf\n",
    "    dtf_ = pd.DataFrame(X, index=tot_words, columns=[\"x\",\"y\",\"z\"])\n",
    "    dtf_[\"input\"] = 0\n",
    "    dtf_[\"input\"].iloc[0:1] = 1\n",
    "    \n",
    "    # 定義畫布\n",
    "    fig = plt.figure()\n",
    "    fig.set_size_inches(18.5, 10.5)\n",
    "\n",
    "    # 定義字型\n",
    "    font = {'family' : 'sans-serif', 'weight' : 'normal', 'size' : 14}\n",
    "    plt.rc('font', **font)\n",
    "\n",
    "    ## plot 3d\n",
    "    ax = fig.add_subplot(111, projection='3d')\n",
    "    ax.scatter(dtf_[dtf_[\"input\"]==0]['x'], \n",
    "               dtf_[dtf_[\"input\"]==0]['y'], \n",
    "               dtf_[dtf_[\"input\"]==0]['z'], c=\"blue\")\n",
    "    ax.scatter(dtf_[dtf_[\"input\"]==1]['x'], \n",
    "               dtf_[dtf_[\"input\"]==1]['y'], \n",
    "               dtf_[dtf_[\"input\"]==1]['z'], c=\"red\")\n",
    "    ax.set(xlabel=None, ylabel=None, zlabel=None, xticklabels=[], \n",
    "           yticklabels=[], zticklabels=[])\n",
    "            \n",
    "    for label, row in dtf_[[\"x\",\"y\",\"z\"]].iterrows():\n",
    "        x, y, z = row\n",
    "        ax.text(x, y, z, s=label)"
   ]
  },
  {
   "cell_type": "code",
   "execution_count": 79,
   "metadata": {},
   "outputs": [
    {
     "name": "stderr",
     "output_type": "stream",
     "text": [
      "/usr/local/anaconda3/envs/test/lib/python3.6/site-packages/pandas/core/indexing.py:670: SettingWithCopyWarning: \n",
      "A value is trying to be set on a copy of a slice from a DataFrame\n",
      "\n",
      "See the caveats in the documentation: https://pandas.pydata.org/pandas-docs/stable/user_guide/indexing.html#returning-a-view-versus-a-copy\n",
      "  iloc._setitem_with_indexer(indexer, value)\n"
     ]
    },
    {
     "data": {
      "image/png": "[encoded data removed]",
      "text/plain": [
       "<Figure size 1332x756 with 1 Axes>"
      ]
     },
     "metadata": {},
     "output_type": "display_data"
    }
   ],
   "source": [
    "# input: model, query word, top n \n",
    "threeDim_similarity(w2v_model,\"america\",15)"
   ]
  },
  {
   "cell_type": "markdown",
   "metadata": {},
   "source": [
    "找尋和 america 相關的字，可以看到出現united state, american等相關的字，其他比較常和國家一起提到的還有文化(culture)、國際化(global)、西方(western)、外國(foreign)"
   ]
  },
  {
   "cell_type": "markdown",
   "metadata": {},
   "source": [
    "## 結論\n",
    "1. 分析主要角色荷馬、花枝的相似性字詞有哪些，不同角色間的相似性如何？\n",
    "    +  homer荷馬的相似詞有妻子美枝(marge)，依據劇情推測，相似詞可能和角色常常躺著蜷起來(snuggle)，性格糟糕(crummy)、喝醉(drunk)或是陷入尷尬(embarrassing)的處境有關\n",
    "    + 女兒花枝lisa 有時候會和弟弟霸子(bart)一起提到，也會吹奏薩克斯風(saxophone)，推測因為是裡面較理性、有發展性的角色，出現和成長相關的詞(grownup)；荷馬和兩個嫂嫂相比較不相比似\n",
    "    + 惡霸nelson和霸子、蘇呆子較不相像    \n",
    "2. 在向量空間中，相似性較高的字詞空間分布如何？\n",
    "    + 相似度高的詞會聚集在附近，反之會在向量空間較遠的地方"
   ]
  },
  {
   "cell_type": "markdown",
   "metadata": {},
   "source": [
    "## 相關連結\n",
    "+ 教材參考\n",
    "    + Gensim Word2Vec Tutorial\n",
    "    + https://www.kaggle.com/pierremegret/gensim-word2vec-tutorial\n",
    "+ 調參\n",
    "    + stackoverflow 調參: https://stackoverflow.com/questions/58186670/gensim-word2vec-model-getting-worse-by-increasing-the-number-of-epochs\n",
    "    + Word2Vec參數調整指南: https://www.kaggle.com/jerrykuo7727/word2vec\n",
    "+ 視覺化\n",
    "    + TSNE: https://towardsdatascience.com/visualising-high-dimensional-datasets-using-pca-and-t-sne-in-python-8ef87e7915b\n",
    "    + 視覺化函數: https://aneesha.medium.com/using-tsne-to-plot-a-subset-of-similar-words-from-word2vec-bb8eeaea6229\n",
    "    + 圖片參數設定: https://matplotlib.org/2.0.2/users/text_props.html\n",
    "+ 其他教學\n",
    "    + Gensim Word2Vec Tutorial: An End-to-End Example\n",
    "    + https://kavita-ganesan.com/gensim-word2vec-tutorial-starter-code/#.YbEjztBBw2x\n",
    "    + A Beginner’s Guide to Word Embedding with Gensim Word2Vec Model\n",
    "    + https://towardsdatascience.com/a-beginners-guide-to-word-embedding-with-gensim-word2vec-model-5970fa56cc92\n",
    "    + official Word2Vec Model\n",
    "    + https://radimrehurek.com/gensim/auto_examples/tutorials/run_word2vec.html"
   ]
  }
 ],
 "metadata": {
  "kernelspec": {
   "display_name": "nsysu_dcard",
   "language": "python",
   "name": "nsysu_dcard"
  },
  "language_info": {
   "codemirror_mode": {
    "name": "ipython",
    "version": 3
   },
   "file_extension": ".py",
   "mimetype": "text/x-python",
   "name": "python",
   "nbconvert_exporter": "python",
   "pygments_lexer": "ipython3",
   "version": "3.6.8"
  }
 },
 "nbformat": 4,
 "nbformat_minor": 4
}
